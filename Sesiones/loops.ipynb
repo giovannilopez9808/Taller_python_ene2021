{
 "cells": [
  {
   "cell_type": "markdown",
   "metadata": {},
   "source": [
    "## Ciclos\n",
    "Los ciclos son necesarios para cuando se quiere repetir una acción varias veces (for) o hasta que se satisfaga una condición (while).\n",
    "\n",
    "La estructura de los ciclos for es la siguiente:\n",
    "```\n",
    "for variable in serie de numeros en los que se iterara:\n",
    "    Acciones\n",
    "```\n",
    "\n",
    "En el caso de los ciclos while es la siguiente:\n",
    "```\n",
    "while condicion:\n",
    "    Accionnes\n",
    "```\n",
    "De aqui se puede observar cuando es necesario hacer el uso de uno o del otro tipo de ciclo."
   ]
  },
  {
   "cell_type": "markdown",
   "metadata": {},
   "source": [
    "Una expresión usual en los ciclos es ``` range ``` esto, ya que este genera números consecutivos, para visualizar su funcionamiento usaremos un ciclo for de la siguiente manera, donde la variable i tendra los diferentes números que producira la funcion range()"
   ]
  },
  {
   "cell_type": "code",
   "execution_count": 4,
   "metadata": {},
   "outputs": [
    {
     "name": "stdout",
     "output_type": "stream",
     "text": [
      "0\n",
      "1\n",
      "2\n",
      "3\n",
      "4\n",
      "5\n",
      "6\n",
      "7\n",
      "8\n",
      "9\n",
      "10\n",
      "11\n",
      "12\n",
      "13\n",
      "14\n",
      "15\n",
      "16\n",
      "17\n",
      "18\n",
      "19\n",
      "20\n",
      "21\n",
      "22\n",
      "23\n",
      "24\n",
      "25\n",
      "26\n",
      "27\n",
      "28\n",
      "29\n",
      "30\n",
      "31\n",
      "32\n",
      "33\n",
      "34\n",
      "35\n",
      "36\n",
      "37\n",
      "38\n",
      "39\n",
      "40\n",
      "41\n",
      "42\n",
      "43\n",
      "44\n",
      "45\n",
      "46\n",
      "47\n",
      "48\n",
      "49\n",
      "50\n",
      "51\n",
      "52\n",
      "53\n",
      "54\n",
      "55\n",
      "56\n",
      "57\n",
      "58\n",
      "59\n"
     ]
    }
   ],
   "source": [
    "for i in range(60):\n",
    "    print(i)"
   ]
  },
  {
   "cell_type": "markdown",
   "metadata": {},
   "source": [
    "De aqui podemos notar que este inicia en 0 y termina en 5, produciendo 6 números, por lo tanto el range(n) nos producira numeros entre 0 y n-1.\n",
    "\n",
    "Si quisieramos modificar el inicio de esta funcion podemos escribirla de la siguiente manera:\n"
   ]
  },
  {
   "cell_type": "code",
   "execution_count": 7,
   "metadata": {},
   "outputs": [
    {
     "name": "stdout",
     "output_type": "stream",
     "text": [
      "44\n",
      "45\n",
      "46\n",
      "47\n",
      "48\n",
      "49\n",
      "50\n"
     ]
    }
   ],
   "source": [
    "for i in range(44,51):\n",
    "    print(i)"
   ]
  },
  {
   "cell_type": "markdown",
   "metadata": {},
   "source": [
    "En la que notamos que empezo a escribir en el 1 y nuevamene se detuvo en el número anterior al cual le dijimos, por lo tanto de manera general podemos obtener lo siguiente\n",
    "``` \n",
    "range(i,j)--> i, i+1, i+2, ... , j-1\n",
    "```"
   ]
  },
  {
   "cell_type": "markdown",
   "metadata": {},
   "source": [
    "Por ejemplo, si quisieramos realizar la suma de los números consecutivos entre \n",
    "3 y 1000, tendriamos que realizarlo de la siguiente manera:"
   ]
  },
  {
   "cell_type": "code",
   "execution_count": 11,
   "metadata": {},
   "outputs": [
    {
     "name": "stdout",
     "output_type": "stream",
     "text": [
      "La suma de los numeros consecutivos entre 3 y 1000 es 500497\n"
     ]
    }
   ],
   "source": [
    "sum=0\n",
    "for i in range(3,1001):\n",
    "    # sum=sum+i\n",
    "    sum+=i\n",
    "print(\"La suma de los numeros consecutivos entre 3 y 1000 es {}\".format(sum))"
   ]
  },
  {
   "cell_type": "markdown",
   "metadata": {},
   "source": [
    "Suponiendo que queremos realizar la suma de los números consecutivos empezando desde el uno, pero paremos cuando la suma sea mayor a 1000, entonces tendremos que hacer uso del ciclo while, ya que tenemos una condición de por medio. La implementación de este problema sería la siguiente:"
   ]
  },
  {
   "cell_type": "code",
   "execution_count": 14,
   "metadata": {},
   "outputs": [
    {
     "name": "stdout",
     "output_type": "stream",
     "text": [
      "La suma es igual a 1025 y se detuvo en el número 46\n"
     ]
    }
   ],
   "source": [
    "num=5\n",
    "sum=0\n",
    "while sum<1000:\n",
    "    sum=sum+num\n",
    "    num=num+1\n",
    "print(\"La suma es igual a {} y se detuvo en el número {}\".format(sum,num))"
   ]
  },
  {
   "cell_type": "code",
   "execution_count": null,
   "metadata": {},
   "outputs": [],
   "source": []
  }
 ],
 "metadata": {
  "kernelspec": {
   "display_name": "Python 3",
   "language": "python",
   "name": "python3"
  },
  "language_info": {
   "codemirror_mode": {
    "name": "ipython",
    "version": 3
   },
   "file_extension": ".py",
   "mimetype": "text/x-python",
   "name": "python",
   "nbconvert_exporter": "python",
   "pygments_lexer": "ipython3",
   "version": "3.8.5"
  }
 },
 "nbformat": 4,
 "nbformat_minor": 4
}
