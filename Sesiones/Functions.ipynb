{
 "cells": [
  {
   "cell_type": "markdown",
   "metadata": {},
   "source": [
    "## Funciones\n",
    "El uso de las funciones en la programación, especificamente en el ambito científico es para\n",
    "englobar una acción/procedimiento o algoritmo en una espacio la cual será llamada repetidas \n",
    "veces a lo largo del programa, adentrandose más en la programación esta acción se le puede conocer como refactoring, ya que estas separando tu programa principal en partes más pequeñas. \n",
    "\n",
    "En proyectos grandes, el usar funciones de procesos mejora la retroalimentación de los involucrados en el proyecto además de si se quiere corregir o añadir funcionalidades, solamente será necesario editar la función sin tocar el programa principal directamente.\n",
    "\n",
    "Supongamos que tenemos un proyecto el calcula el promedio y desviación estandar de una base de datos, el programa usar sería de la siguiente manera:\n",
    "\\begin{exercise}\\label{ex:}\n",
    "a\n",
    "\\end{exercise}\n",
    "\n",
    "$$\n",
    "Promedio=\\frac{\\sum x_i}{N}\n",
    "$$"
   ]
  },
  {
   "cell_type": "code",
   "execution_count": 7,
   "metadata": {},
   "outputs": [
    {
     "name": "stdout",
     "output_type": "stream",
     "text": [
      "El promedio es 250.93\n"
     ]
    }
   ],
   "source": [
    "data = [1, 2, 456, 1, 745, 145, 1532, 1, 51.15, 1, 61, 15]\n",
    "data_sum = 0\n",
    "count = 0\n",
    "for i in range(len(data)):\n",
    "    data_sum += data[i]\n",
    "    count += 1\n",
    "prom = data_sum / count\n",
    "print(\"El promedio es {:.2f}\".format(prom))"
   ]
  },
  {
   "cell_type": "markdown",
   "metadata": {},
   "source": [
    "Para una base de datos, esto sería suficiente, pero supongamos que tenemos más bases de datos a los cuales tambien queremos obtener el promedio, entonces el código sería el siguiente:"
   ]
  },
  {
   "cell_type": "code",
   "execution_count": 8,
   "metadata": {},
   "outputs": [
    {
     "name": "stdout",
     "output_type": "stream",
     "text": [
      "El promedio es 326.0\n",
      "El promedio es 256.14285714285717\n",
      "El promedio es 1011.1666666666666\n",
      "El promedio es 9041.666666666666\n",
      "El promedio es 1155.0\n"
     ]
    }
   ],
   "source": [
    "data = [1, 2, 456, 1, 745, 145, 1532, 1, 51]\n",
    "data_sum = 0\n",
    "count = 0\n",
    "for i in range(len(data)):\n",
    "    data_sum += data[i]\n",
    "    count += 1\n",
    "prom = data_sum / count\n",
    "print(\"El promedio es {}\".format(prom))\n",
    "data = [156, 456, 451, 132, 145, 451, 2]\n",
    "data_sum = 0\n",
    "count = 0\n",
    "for i in range(len(data)):\n",
    "    data_sum += data[i]\n",
    "    count += 1\n",
    "prom = data_sum / count\n",
    "print(\"El promedio es {}\".format(prom))\n",
    "data = [456, 45, 4153, 431, 468, 514]\n",
    "data_sum = 0\n",
    "count = 0\n",
    "for i in range(len(data)):\n",
    "    data_sum += data[i]\n",
    "    count += 1\n",
    "prom = data_sum / count\n",
    "print(\"El promedio es {}\".format(prom))\n",
    "data = [8489, 45636, 41, 5, 31, 48]\n",
    "data_sum = 0\n",
    "count = 0\n",
    "for i in range(len(data)):\n",
    "    data_sum += data[i]\n",
    "    count += 1\n",
    "prom = data_sum / count\n",
    "print(\"El promedio es {}\".format(prom))\n",
    "data = [4, 156, 1456, 4156, 3]\n",
    "data_sum = 0\n",
    "count = 0\n",
    "for i in range(len(data)):\n",
    "    data_sum += data[i]\n",
    "    count += 1\n",
    "prom = data_sum / count\n",
    "print(\"El promedio es {}\".format(prom))"
   ]
  },
  {
   "cell_type": "markdown",
   "metadata": {},
   "source": [
    "El código es funcional para este momento y sus resultados son correctos, pero visualmente el código es cansado de leer, y si cometimos un error o si queremos añadir algo más, tendriamos que cambiar todos los lugares en donde realizamos el proceso, aqui es donde se da a notar que usar funciones es una manera eficiente. \n",
    "\n",
    "### Estructura \n",
    "```\n",
    "def nombre_de_la_funcion(variables que se usaran):\n",
    "    # Acciones\n",
    "    return si se quiere retornar algún valor se tendra que usar esta sentencia, no es necesaria ponerla\n",
    "```\n",
    "Escribiendo este mismo código usando funciones, este quedaría de la siguiente manera:"
   ]
  },
  {
   "cell_type": "code",
   "execution_count": 10,
   "metadata": {},
   "outputs": [],
   "source": [
    "def Calc_mean(data):\n",
    "    data_sum = 0\n",
    "    count = 0\n",
    "    for i in range(len(data)):\n",
    "        data_sum += data[i]\n",
    "        count += 1\n",
    "    prom = data_sum / count\n",
    "    print(\"El promedio es {:.3f}\".format(prom))"
   ]
  },
  {
   "cell_type": "code",
   "execution_count": 11,
   "metadata": {},
   "outputs": [
    {
     "name": "stdout",
     "output_type": "stream",
     "text": [
      "El promedio es 326.000\n",
      "El promedio es 256.143\n",
      "El promedio es 1011.167\n",
      "El promedio es 9041.667\n",
      "El promedio es 1155.000\n"
     ]
    }
   ],
   "source": [
    "data = [1, 2, 456, 1, 745, 145, 1532, 1, 51]\n",
    "Calc_mean(data)\n",
    "data = [156, 456, 451, 132, 145, 451, 2]\n",
    "Calc_mean(data)\n",
    "data = [456, 45, 4153, 431, 468, 514]\n",
    "Calc_mean(data)\n",
    "data = [8489, 45636, 41, 5, 31, 48]\n",
    "Calc_mean(data)\n",
    "data = [4, 156, 1456, 4156, 3]\n",
    "Calc_mean(data)"
   ]
  },
  {
   "cell_type": "code",
   "execution_count": 17,
   "metadata": {},
   "outputs": [],
   "source": [
    "class data:\n",
    "    def __init__(self, valores):\n",
    "        self.valores = valores\n",
    "\n",
    "    def Calc_mean(self):\n",
    "        data_sum = 0\n",
    "        count = 0\n",
    "        for i in range(len(self.valores)):\n",
    "            data_sum += self.valores[i]\n",
    "            count += 1\n",
    "        prom = data_sum / count\n",
    "        print(\"El promedio es {:.3f}\".format(prom))"
   ]
  },
  {
   "cell_type": "code",
   "execution_count": 18,
   "metadata": {},
   "outputs": [],
   "source": [
    "datos = data(valores=[1, 2, 456, 1, 745, 145, 1532, 1, 51])"
   ]
  },
  {
   "cell_type": "code",
   "execution_count": 20,
   "metadata": {},
   "outputs": [
    {
     "name": "stdout",
     "output_type": "stream",
     "text": [
      "El promedio es 326.000\n"
     ]
    }
   ],
   "source": [
    "datos.Calc_mean()"
   ]
  },
  {
   "cell_type": "code",
   "execution_count": null,
   "metadata": {},
   "outputs": [],
   "source": []
  }
 ],
 "metadata": {
  "kernelspec": {
   "display_name": "Python 3",
   "language": "python",
   "name": "python3"
  },
  "language_info": {
   "codemirror_mode": {
    "name": "ipython",
    "version": 3
   },
   "file_extension": ".py",
   "mimetype": "text/x-python",
   "name": "python",
   "nbconvert_exporter": "python",
   "pygments_lexer": "ipython3",
   "version": "3.8.5"
  },
  "latex_envs": {
   "LaTeX_envs_menu_present": true,
   "autoclose": false,
   "autocomplete": true,
   "bibliofile": "biblio.bib",
   "cite_by": "apalike",
   "current_citInitial": 1,
   "eqLabelWithNumbers": true,
   "eqNumInitial": 1,
   "hotkeys": {
    "equation": "Ctrl-E",
    "itemize": "Ctrl-I"
   },
   "labels_anchors": false,
   "latex_user_defs": false,
   "report_style_numbering": false,
   "user_envs_cfg": false
  }
 },
 "nbformat": 4,
 "nbformat_minor": 4
}
