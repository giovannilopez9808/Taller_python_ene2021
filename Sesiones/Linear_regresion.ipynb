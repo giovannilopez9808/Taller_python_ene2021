{
 "cells": [
  {
   "cell_type": "markdown",
   "metadata": {},
   "source": [
    "## Regresión lineal\n",
    "La regresión lineal es un método numérico para calcular los parámetros $m$ y $b$ de la ecuación de la recta (Eq. 1) en datos.\n",
    "$$\n",
    "y=mx+b\n",
    "$$\n",
    "\n",
    "En este notebook se usaran datos reales y datos creados con perturbaciones."
   ]
  },
  {
   "cell_type": "code",
   "execution_count": 2,
   "metadata": {},
   "outputs": [],
   "source": [
    "# importamos libreria para crear los datos\n",
    "import numpy as np\n",
    "# importamos libreria para crear graficas\n",
    "import matplotlib.pyplot as plt"
   ]
  },
  {
   "cell_type": "markdown",
   "metadata": {},
   "source": [
    "Crearemos datos con pequeñas pertubaciones que esten relacionados a una función lineal que nosotros le demos, esto sera con los siguientes pasos\n",
    "+ Definir una función lineal\n",
    "+ Crear una variable aleatoria x \n",
    "+ Sumar o restar un numero aleatorio a cada f(x)\n"
   ]
  },
  {
   "cell_type": "code",
   "execution_count": 22,
   "metadata": {},
   "outputs": [],
   "source": [
    "def f(x,m,b):\n",
    "    \"\"\"\n",
    "    funcion lineal\n",
    "    \"\"\"\n",
    "    return m*x+b"
   ]
  },
  {
   "cell_type": "code",
   "execution_count": 103,
   "metadata": {},
   "outputs": [
    {
     "data": {
      "text/plain": [
       "<matplotlib.collections.PathCollection at 0x7fb22da38f10>"
      ]
     },
     "execution_count": 103,
     "metadata": {},
     "output_type": "execute_result"
    },
    {
     "data": {
      "image/png": "[encoded data removed]",
      "text/plain": [
       "<Figure size 432x288 with 1 Axes>"
      ]
     },
     "metadata": {
      "needs_background": "light"
     },
     "output_type": "display_data"
    }
   ],
   "source": [
    "inputs = {\n",
    "    \"m\": 2,\n",
    "    \"b\": 1,\n",
    "    \"maximum\": 5,\n",
    "    \"minimum\": -5,\n",
    "    \"points\": 100\n",
    "}\n",
    "x = np.random.uniform(\n",
    "    inputs[\"minimum\"],\n",
    "    inputs[\"maximum\"],\n",
    "    inputs[\"points\"]\n",
    ")\n",
    "y = f(\n",
    "    x,\n",
    "    inputs[\"m\"],\n",
    "    inputs[\"b\"],\n",
    ") + np.random.uniform(\n",
    "    inputs[\"minimum\"],\n",
    "    inputs[\"maximum\"],\n",
    "    inputs[\"points\"]\n",
    ") * np.random.uniform(\n",
    "    inputs[\"minimum\"],\n",
    "    inputs[\"maximum\"],\n",
    "    inputs[\"points\"]\n",
    ")\n",
    "plt.scatter(x, y)"
   ]
  },
  {
   "cell_type": "code",
   "execution_count": 106,
   "metadata": {},
   "outputs": [
    {
     "data": {
      "image/png": "[encoded data removed]",
      "text/plain": [
       "<Figure size 432x288 with 1 Axes>"
      ]
     },
     "metadata": {
      "needs_background": "light"
     },
     "output_type": "display_data"
    }
   ],
   "source": [
    "m,b = np.polyfit(x, y, 1)\n",
    "y_fit = m * x + b\n",
    "y_theoric=inputs[\"m\"]*x+inputs[\"b\"]\n",
    "if b > 0:\n",
    "    pm = \"+\"\n",
    "else:\n",
    "    pm = \"-\"\n",
    "equation=\"y={:.2f}x{}{:.2f}\".format(m, pm, abs(b))\n",
    "plt.plot(x, y_fit, color=\"red\", ls=\"--\", label=\"Linear regression\\n\"+equation,lw=3)\n",
    "plt.plot(x, y_fit, color=\"green\", ls=\"--\", label=\"Theoric\",lw=3)\n",
    "plt.scatter(x, y, label=\"Data\")\n",
    "plt.legend(frameon=False,ncol=3,loc=\"upper left\",bbox_to_anchor=(0.1,1.2))\n",
    "plt.show()"
   ]
  },
  {
   "cell_type": "code",
   "execution_count": 107,
   "metadata": {},
   "outputs": [
    {
     "name": "stdout",
     "output_type": "stream",
     "text": [
      "Diferencia relativa de M es 12.68%\n",
      "Diferencia relativa de B es 80.04%\n"
     ]
    }
   ],
   "source": [
    "# Calculamos la diferencia relativa de los parametros\n",
    "def RD(measurement,theoric):\n",
    "    rd=abs((measurement-theoric)/theoric)*100\n",
    "    return rd\n",
    "rd_m=RD(m,inputs[\"m\"])\n",
    "rd_b=RD(b,inputs[\"b\"])\n",
    "print(\"Diferencia relativa de M es {:.2f}%\".format(rd_m))\n",
    "print(\"Diferencia relativa de B es {:.2f}%\".format(rd_b))"
   ]
  },
  {
   "cell_type": "markdown",
   "metadata": {},
   "source": [
    "Llevando este ejemplo al uso de clases el código es el siguiente"
   ]
  },
  {
   "cell_type": "code",
   "execution_count": 126,
   "metadata": {},
   "outputs": [],
   "source": [
    "class linear_regression:\n",
    "    def __init__(self, m, b, points, minimum, maximum):\n",
    "        self.m = m\n",
    "        self.b = b\n",
    "        self.points = points\n",
    "        self.maximum = maximum\n",
    "        self.minimum = minimum\n",
    "        self.create_random_points()\n",
    "\n",
    "    def create_random_points(self):\n",
    "        \"\"\"\n",
    "        Funcion que crea los valores aleatorios de x y crea pequeñas perturbaciones\n",
    "        en los resultados de f(x), estos son usados para calcular la regresion lineal\n",
    "        \"\"\"\n",
    "        self.x = np.random.uniform(self.minimum, self.maximum, self.points)\n",
    "        self.y = self.f() + np.random.uniform(\n",
    "            self.minimum,\n",
    "            self.maximum,\n",
    "            self.points,\n",
    "        ) * np.random.uniform(\n",
    "            self.minimum,\n",
    "            self.maximum,\n",
    "            self.points,\n",
    "        )\n",
    "\n",
    "    def f(self):\n",
    "        return self.m * self.x + self.b\n",
    "\n",
    "    def obtain_linear_regression(self):\n",
    "        \"\"\"\n",
    "        funcion que calcula la regresión lineal a partir de datos\n",
    "        \"\"\"\n",
    "        self.m_lr, self.b_lr = np.polyfit(self.x, self.y, 1)\n",
    "        self.format_equation()\n",
    "\n",
    "    def format_equation(self):\n",
    "        \"\"\"\n",
    "        funcion que formatea la ecuación calculada con la regresion\n",
    "        lineal\n",
    "        \"\"\"\n",
    "        if self.b_lr > 0:\n",
    "            pm = \"+\"\n",
    "        else:\n",
    "            pm = \"-\"\n",
    "        self.equation = \"y={:.2f}x{}{:.2f}\".format(self.m_lr, pm,\n",
    "                                                   abs(self.b_lr))\n",
    "    def obtain_RD(self):\n",
    "        \"\"\"\n",
    "        funcion que ejecuta el calculo de la diferencia relativa de los \n",
    "        parametros y escribe en pantalla sus resultados\n",
    "        \"\"\"\n",
    "        m_rd=self.RD(self.m_lr,self.m)\n",
    "        b_rd=self.RD(self.b_lr,self.b)\n",
    "        self.write_RD(\"m\",m_rd)\n",
    "        self.write_RD(\"b\",b_rd)\n",
    "    \n",
    "    def RD(self,measurement,theoric):\n",
    "        \"\"\"\n",
    "        funcion que calcula la diferencia relativa en porcentajes\n",
    "        \"\"\"\n",
    "        rd=abs((measurement-theoric)/theoric)*100\n",
    "        return rd\n",
    "    \n",
    "    def write_RD(self,parameter,percentage):\n",
    "        \"\"\"\n",
    "        Funcion que escribe los resultados de la diferencia relativa        \n",
    "        \"\"\"\n",
    "        print(\"Diferencia relativa de {} es {:.2f}%\".format(parameter,\n",
    "                                                           percentage))\n",
    "\n",
    "    def plot_results(self):\n",
    "        \"\"\"\n",
    "        funcion que realiza la grafica de los datos, la función teorica\n",
    "        y la regresión lineal calculada\n",
    "        \"\"\"\n",
    "        y_fit = self.m_lr * self.x + self.b_lr\n",
    "        y_theo = self.m * self.x + self.b\n",
    "        plt.plot(self.x,\n",
    "                 y_fit,\n",
    "                 color=\"red\",\n",
    "                 ls=\"--\",\n",
    "                 label=\"Linear regression\\n\" + self.equation,\n",
    "                 lw=3)\n",
    "        plt.plot(self.x, y_fit, color=\"green\", ls=\"--\", label=\"Theoric\", lw=3)\n",
    "        plt.scatter(self.x, self.y, label=\"Data\")\n",
    "        plt.legend(frameon=False,\n",
    "                   ncol=3,\n",
    "                   loc=\"upper left\",\n",
    "                   bbox_to_anchor=(0.1, 1.2))\n",
    "        plt.show()"
   ]
  },
  {
   "cell_type": "code",
   "execution_count": 125,
   "metadata": {},
   "outputs": [
    {
     "name": "stdout",
     "output_type": "stream",
     "text": [
      "Diferencia relativa de m es 32.87%\n",
      "Diferencia relativa de b es 45.75%\n"
     ]
    },
    {
     "data": {
      "image/png": "[encoded data removed]",
      "text/plain": [
       "<Figure size 432x288 with 1 Axes>"
      ]
     },
     "metadata": {
      "needs_background": "light"
     },
     "output_type": "display_data"
    }
   ],
   "source": [
    "inputs = {\n",
    "    \"m\": 2,\n",
    "    \"b\": 1,\n",
    "    \"maximum\": 5,\n",
    "    \"minimum\": -5,\n",
    "    \"points\": 100,\n",
    "}\n",
    "problem = linear_regression(\n",
    "    inputs[\"m\"],\n",
    "    inputs[\"b\"],\n",
    "    inputs[\"points\"],\n",
    "    inputs[\"minimum\"],\n",
    "    inputs[\"maximum\"],\n",
    ")\n",
    "problem.create_random_points()\n",
    "problem.obtain_linear_regression()\n",
    "problem.obtain_RD()\n",
    "problem.plot_results()"
   ]
  },
  {
   "cell_type": "code",
   "execution_count": null,
   "metadata": {},
   "outputs": [],
   "source": []
  }
 ],
 "metadata": {
  "kernelspec": {
   "display_name": "Python 3",
   "language": "python",
   "name": "python3"
  },
  "language_info": {
   "codemirror_mode": {
    "name": "ipython",
    "version": 3
   },
   "file_extension": ".py",
   "mimetype": "text/x-python",
   "name": "python",
   "nbconvert_exporter": "python",
   "pygments_lexer": "ipython3",
   "version": "3.8.3"
  },
  "latex_envs": {
   "LaTeX_envs_menu_present": true,
   "autoclose": false,
   "autocomplete": true,
   "bibliofile": "biblio.bib",
   "cite_by": "apalike",
   "current_citInitial": 1,
   "eqLabelWithNumbers": true,
   "eqNumInitial": 1,
   "hotkeys": {
    "equation": "Ctrl-E",
    "itemize": "Ctrl-I"
   },
   "labels_anchors": false,
   "latex_user_defs": false,
   "report_style_numbering": false,
   "user_envs_cfg": false
  }
 },
 "nbformat": 4,
 "nbformat_minor": 4
}
