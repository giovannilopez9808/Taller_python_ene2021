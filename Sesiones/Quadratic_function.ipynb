{
 "cells": [
  {
   "cell_type": "markdown",
   "metadata": {},
   "source": [
    "## Formula general - Raices de la función cuadratica\n",
    "\n",
    "$$\n",
    "\\text{Si} \\qquad ax^2+bx+c=0 \\qquad \\text{entonces} \\qquad\n",
    "x= \\frac{-b\\pm \\sqrt{b^2-4ac}}{2a}\n",
    "$$"
   ]
  },
  {
   "cell_type": "code",
   "execution_count": 71,
   "metadata": {},
   "outputs": [],
   "source": [
    "def Solve_Cuadratic_Function(a,b,c):\n",
    "    raiz=(b**2-4*a*c)\n",
    "    if raiz<0:\n",
    "        return print(\"No existe solución\")\n",
    "    else:\n",
    "        raiz=raiz**(1/2)\n",
    "        x_1=(-b+raiz)/2\n",
    "        x_2=(-b-raiz)/2\n",
    "        return print(\"Las soluciones de la función {}x^2{:+}x{:+} son {:.3f} y {:.3f}\".format(\n",
    "                        a,b,c,x_1,x_2))"
   ]
  },
  {
   "cell_type": "code",
   "execution_count": 73,
   "metadata": {},
   "outputs": [
    {
     "name": "stdout",
     "output_type": "stream",
     "text": [
      "Las soluciones de la función 1x^2-2x-5 son 3.449 y -1.449\n",
      "Las soluciones de la función 1x^2-2x+0 son 2.000 y 0.000\n"
     ]
    }
   ],
   "source": [
    "Solve_Cuadratic_Function(1,-2,-5)\n",
    "Solve_Cuadratic_Function(1,-2,0)"
   ]
  },
  {
   "cell_type": "code",
   "execution_count": null,
   "metadata": {},
   "outputs": [],
   "source": []
  },
  {
   "cell_type": "code",
   "execution_count": null,
   "metadata": {},
   "outputs": [],
   "source": []
  }
 ],
 "metadata": {
  "kernelspec": {
   "display_name": "Python 3",
   "language": "python",
   "name": "python3"
  },
  "language_info": {
   "codemirror_mode": {
    "name": "ipython",
    "version": 3
   },
   "file_extension": ".py",
   "mimetype": "text/x-python",
   "name": "python",
   "nbconvert_exporter": "python",
   "pygments_lexer": "ipython3",
   "version": "3.8.5"
  }
 },
 "nbformat": 4,
 "nbformat_minor": 4
}
