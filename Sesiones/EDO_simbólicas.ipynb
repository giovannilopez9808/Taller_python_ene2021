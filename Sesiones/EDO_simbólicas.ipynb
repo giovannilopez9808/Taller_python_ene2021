{
  "nbformat": 4,
  "nbformat_minor": 0,
  "metadata": {
    "colab": {
      "name": "EDO_simbólicas.ipynb",
      "provenance": [],
      "collapsed_sections": []
    },
    "kernelspec": {
      "name": "python3",
      "display_name": "Python 3",
      "language": "python"
    }
  },
  "cells": [
    {
      "cell_type": "markdown",
      "metadata": {
        "id": "iAO7Tzj_RNbg"
      },
      "source": [
        "# Computación simbolica con Simpy\n",
        "\n",
        "El cálculo simbólico se ocupa del cálculo de objetos matemáticos de forma simbólica. Esto significa que los objetos matemáticos se representan exactamente, no aproximadamente, y las expresiones matemáticas con variables no evaluadas se dejan en forma simbólica.\n",
        "\n",
        "Aterricemos mejor el concepto de simbolo y a que nos referimos con \"simbolico o númerico\":\n",
        "\n",
        "Pensemos en la raíz de 9\n",
        "\n",
        "$$ \\sqrt{9} = 3 $$\n",
        "\n",
        "Tiene como solución un número entero bien definido.\n",
        "\n",
        "Ahora en la raíz de 8\n",
        "\n",
        "$$ \\sqrt{8} = 2\\sqrt{2} \\approx 2.828427 $$\n",
        "\n",
        "No existe número racional de la forma a/b o un número en la forma decimal que pueda representar propiamente el valor de $ \\sqrt{8} $, por ello su valor suele representarse de forma simbólica.\n",
        "\n",
        "Lo mismo pasa con otros números irracionales como $ \\pi $ y $ e $.\n",
        "\n",
        "Veamos la comparación de esto en Python:\n",
        "\n",
        "\n"
      ]
    },
    {
      "cell_type": "code",
      "execution_count": null,
      "metadata": {},
      "outputs": [],
      "source": []
    },
    {
      "cell_type": "code",
      "metadata": {
        "colab": {
          "base_uri": "https://localhost:8080/",
          "height": 37
        },
        "id": "mGJC5ykqTTQO",
        "outputId": "9186819b-66d1-4198-c2c2-4c3e7f4ebd40"
      },
      "source": [
        "# RAÍZ NUMERICA DE 8 \n",
        "\n",
        "import numpy as np\n",
        "\n",
        "np.sqrt(8)"
      ],
      "execution_count": 44,
      "outputs": [
        {
          "output_type": "execute_result",
          "data": {
            "text/plain": [
              "2.8284271247461903"
            ],
            "image/png": "[encoded data removed]",
            "text/latex": "$\\displaystyle 2.8284271247461903$"
          },
          "metadata": {},
          "execution_count": 44
        }
      ]
    },
    {
      "cell_type": "code",
      "metadata": {
        "colab": {
          "base_uri": "https://localhost:8080/",
          "height": 38
        },
        "id": "Wk_javBKUVZ1",
        "outputId": "49b6cd94-1a98-412f-820c-93ef3ef46f4a"
      },
      "source": [
        "# RAÍZ SIMBOLICA DE 8 \n",
        "import sympy\n",
        "sympy.sqrt(8)   "
      ],
      "execution_count": 45,
      "outputs": [
        {
          "output_type": "execute_result",
          "data": {
            "text/plain": [
              "2⋅√2"
            ],
            "image/png": "[encoded data removed]",
            "text/latex": "$\\displaystyle 2 \\sqrt{2}$"
          },
          "metadata": {},
          "execution_count": 45
        }
      ]
    },
    {
      "cell_type": "markdown",
      "metadata": {
        "id": "PLV2WbS3VkPf"
      },
      "source": [
        "## Expresiones algebraícas simbolicas\n",
        "\n",
        "Algo más interesante es el hecho de poder representar expresiones algebraícas y poder construir algunos sistemas más complejos:\n",
        "\n",
        "$$ 3x+4y $$\n",
        "\n",
        "Es una expresión algebraíca que la podemos expresar de forma simbolica en python"
      ]
    },
    {
      "cell_type": "code",
      "metadata": {
        "colab": {
          "base_uri": "https://localhost:8080/",
          "height": 38
        },
        "id": "qlNZUvubaMx-",
        "outputId": "603a142e-6b3c-4e04-8c56-a13daf78c6ff"
      },
      "source": [
        "from sympy import symbols\n",
        "\n",
        "x, y, z= symbols('x y z')\n",
        "a, b, c = symbols('a b c')\n",
        "\n",
        "expr = 3*x+4*y\n",
        "expr\n"
      ],
      "execution_count": 46,
      "outputs": [
        {
          "output_type": "execute_result",
          "data": {
            "text/plain": [
              "3⋅x + 4⋅y"
            ],
            "image/png": "[encoded data removed]",
            "text/latex": "$\\displaystyle 3 x + 4 y$"
          },
          "metadata": {},
          "execution_count": 46
        }
      ]
    },
    {
      "cell_type": "code",
      "execution_count": 47,
      "metadata": {},
      "outputs": [
        {
          "output_type": "execute_result",
          "data": {
            "text/plain": [
              "           2\n",
              "(a + b + c) "
            ],
            "image/png": "[encoded data removed]",
            "text/latex": "$\\displaystyle \\left(a + b + c\\right)^{2}$"
          },
          "metadata": {},
          "execution_count": 47
        }
      ],
      "source": [
        "expr_2 = (a+b+c)**2\n",
        "expr_2"
      ]
    },
    {
      "cell_type": "markdown",
      "metadata": {
        "id": "JZwzwd0qalkp"
      },
      "source": [
        "Ahora podemos querer expresar la siguiente:\n",
        "\n",
        "$$ (3x+4y)^{2} $$"
      ]
    },
    {
      "cell_type": "code",
      "metadata": {
        "colab": {
          "base_uri": "https://localhost:8080/",
          "height": 39
        },
        "id": "7xtoeQxRazoF",
        "outputId": "dd7d383a-77b0-46e6-decf-6f4424b4244a"
      },
      "source": [
        "expr_square = expr**2\n",
        "expr_square"
      ],
      "execution_count": 48,
      "outputs": [
        {
          "output_type": "execute_result",
          "data": {
            "text/plain": [
              "           2\n",
              "(3⋅x + 4⋅y) "
            ],
            "image/png": "[encoded data removed]",
            "text/latex": "$\\displaystyle \\left(3 x + 4 y\\right)^{2}$"
          },
          "metadata": {},
          "execution_count": 48
        }
      ]
    },
    {
      "cell_type": "markdown",
      "metadata": {
        "id": "BcowjmCdDkfB"
      },
      "source": [
        "Podemos desarrollar una expresión algebraíca \n",
        "\n",
        "\n",
        "```\n",
        "# expr.expand()\n",
        "```\n",
        "\n"
      ]
    },
    {
      "cell_type": "code",
      "metadata": {
        "colab": {
          "base_uri": "https://localhost:8080/",
          "height": 38
        },
        "id": "QSoTYObQbTR3",
        "outputId": "ed5698f3-7c3a-41fe-caf8-7eeb44e12499"
      },
      "source": [
        "expanded_expr_square = expr_square.expand()\n",
        "expanded_expr_square"
      ],
      "execution_count": 49,
      "outputs": [
        {
          "output_type": "execute_result",
          "data": {
            "text/plain": [
              "   2                2\n",
              "9⋅x  + 24⋅x⋅y + 16⋅y "
            ],
            "image/png": "[encoded data removed]",
            "text/latex": "$\\displaystyle 9 x^{2} + 24 x y + 16 y^{2}$"
          },
          "metadata": {},
          "execution_count": 49
        }
      ]
    },
    {
      "cell_type": "markdown",
      "metadata": {
        "id": "Y07XuqaUD6D8"
      },
      "source": [
        "Podemos factorizar una expresión algebraíca \n",
        "\n",
        "\n",
        "```\n",
        "# expr.factor()\n",
        "```"
      ]
    },
    {
      "cell_type": "code",
      "metadata": {
        "colab": {
          "base_uri": "https://localhost:8080/",
          "height": 39
        },
        "id": "fbTFkRHwETKS",
        "outputId": "47ce77c4-5161-4625-ecd5-b41ed6e1ed05"
      },
      "source": [
        "simplify_expr_square = expanded_expr_square.factor()\n",
        "simplify_expr_square"
      ],
      "execution_count": 50,
      "outputs": [
        {
          "output_type": "execute_result",
          "data": {
            "text/plain": [
              "           2\n",
              "(3⋅x + 4⋅y) "
            ],
            "image/png": "[encoded data removed]",
            "text/latex": "$\\displaystyle \\left(3 x + 4 y\\right)^{2}$"
          },
          "metadata": {},
          "execution_count": 50
        }
      ]
    },
    {
      "cell_type": "markdown",
      "metadata": {
        "id": "QIz43b9OcUjc"
      },
      "source": [
        "El poder real de un sistema de cálculo simbólico como SymPy es la capacidad de realizar todo tipo de cálculos simbólicamente. SymPy puede calcular derivadas, integrales y límites, resolver ecuaciones, trabajar con matrices y mucho, mucho más, y hacerlo todo simbólicamente.\n",
        "\n"
      ]
    },
    {
      "cell_type": "code",
      "metadata": {
        "id": "cmJbIt3Bcen9"
      },
      "source": [
        "from sympy import *\n",
        "x, t, z, nu = symbols('x t z nu')\n",
        "init_printing(use_unicode=True)"
      ],
      "execution_count": 51,
      "outputs": []
    },
    {
      "cell_type": "markdown",
      "metadata": {
        "id": "553H4y00cymA"
      },
      "source": [
        "Ya definidas unas cuantas variables simbolicas, vamos a probar una serie de comandos básicos.\n",
        "\n",
        "\n",
        "\n",
        "1.   Derivadas\n",
        "\n",
        "$$ f(x) = e^{x} sin(x) $$\n",
        "$$ f'(x) = e^{x}sin(x) + e^{x}cos(x) $$\n",
        "\n",
        "\n"
      ]
    },
    {
      "source": [
        "diff(f,x)\n",
        "\n",
        "f: función o expresión a diferenciar\n",
        "x: La variable respecto a la que se deriva"
      ],
      "cell_type": "markdown",
      "metadata": {}
    },
    {
      "cell_type": "code",
      "metadata": {
        "colab": {
          "base_uri": "https://localhost:8080/",
          "height": 38
        },
        "id": "IyWOOYugdpgq",
        "outputId": "460d11c8-0520-4469-ed62-c82354d07feb"
      },
      "source": [
        "f= exp(x)*sin(x)    # Creamos la función simbolica\n",
        "diff(f,x)           # Diferenciamos f respecto a x"
      ],
      "execution_count": 52,
      "outputs": [
        {
          "output_type": "execute_result",
          "data": {
            "text/plain": [
              " x           x       \n",
              "ℯ ⋅sin(x) + ℯ ⋅cos(x)"
            ],
            "image/png": "[encoded data removed]",
            "text/latex": "$\\displaystyle e^{x} \\sin{\\left(x \\right)} + e^{x} \\cos{\\left(x \\right)}$"
          },
          "metadata": {},
          "execution_count": 52
        }
      ]
    },
    {
      "source": [
        "$\n",
        "f(x)=e^{x}sin(x)+zcos(x)\n",
        "$"
      ],
      "cell_type": "markdown",
      "metadata": {}
    },
    {
      "cell_type": "code",
      "metadata": {
        "colab": {
          "base_uri": "https://localhost:8080/",
          "height": 38
        },
        "id": "u5Pi-DLqeAfy",
        "outputId": "e53edf5b-6261-41d0-a96a-b4ac48f52254"
      },
      "source": [
        "f= exp(x)*sin(x)+z*cos(x)    # Creamos la función simbolica\n",
        "diff(f,z)                    # Diferenciamos f respecto a x"
      ],
      "execution_count": 53,
      "outputs": [
        {
          "output_type": "execute_result",
          "data": {
            "text/plain": [
              "cos(x)"
            ],
            "image/png": "[encoded data removed]",
            "text/latex": "$\\displaystyle \\cos{\\left(x \\right)}$"
          },
          "metadata": {},
          "execution_count": 53
        }
      ]
    },
    {
      "cell_type": "markdown",
      "metadata": {
        "id": "zKOmJzHDecy4"
      },
      "source": [
        "Notemos como podemos definir funciones de una y más variables y tambien derivar respecto a distintas variables, es decir, derivadas parciales.\n",
        "\n",
        "2. Integrales\n",
        "\n",
        "$$ \\int \\frac{1}{x} dx = ln(x) + C  $$\n",
        "\n",
        "Podemos integrar con la función integrate():\n",
        "\n",
        "integrate(f, x)\n",
        "\n",
        "f: integrando\n",
        "x: varaible respecto a la cual se está integrando"
      ]
    },
    {
      "cell_type": "code",
      "metadata": {
        "colab": {
          "base_uri": "https://localhost:8080/",
          "height": 38
        },
        "id": "SLYXbtlofFw1",
        "outputId": "98067fbb-819f-4c24-dd09-be9871c0f26e"
      },
      "source": [
        "integrando = 1/x\n",
        "\n",
        "integrate(integrando, x)"
      ],
      "execution_count": 54,
      "outputs": [
        {
          "output_type": "execute_result",
          "data": {
            "text/plain": [
              "log(x)"
            ],
            "image/png": "[encoded data removed]",
            "text/latex": "$\\displaystyle \\log{\\left(x \\right)}$"
          },
          "metadata": {},
          "execution_count": 54
        }
      ]
    },
    {
      "source": [
        "$\n",
        "\\int \\frac{1}{x}dt = \\frac{t}{x} + c\n",
        "$"
      ],
      "cell_type": "markdown",
      "metadata": {}
    },
    {
      "cell_type": "code",
      "execution_count": 55,
      "metadata": {},
      "outputs": [
        {
          "output_type": "execute_result",
          "data": {
            "text/plain": [
              "t\n",
              "─\n",
              "x"
            ],
            "image/png": "[encoded data removed]",
            "text/latex": "$\\displaystyle \\frac{t}{x}$"
          },
          "metadata": {},
          "execution_count": 55
        }
      ],
      "source": [
        "integrando = 1/x\n",
        "\n",
        "integrate(integrando, t)"
      ]
    },
    {
      "source": [
        "$\n",
        "\\int e^{x^{2}} dx = \\frac{\\sqrt{\\pi}}{2} erfi(x) + C\n",
        "$"
      ],
      "cell_type": "markdown",
      "metadata": {}
    },
    {
      "cell_type": "code",
      "execution_count": 56,
      "metadata": {},
      "outputs": [
        {
          "output_type": "execute_result",
          "data": {
            "text/plain": [
              "√π⋅erfi(x)\n",
              "──────────\n",
              "    2     "
            ],
            "image/png": "[encoded data removed]",
            "text/latex": "$\\displaystyle \\frac{\\sqrt{\\pi} \\operatorname{erfi}{\\left(x \\right)}}{2}$"
          },
          "metadata": {},
          "execution_count": 56
        }
      ],
      "source": [
        "integrando = exp(x**2)\n",
        "\n",
        "integrate(integrando, x)"
      ]
    },
    {
      "cell_type": "code",
      "execution_count": 57,
      "metadata": {},
      "outputs": [
        {
          "output_type": "execute_result",
          "data": {
            "text/plain": [
              " ⎛ 2⎞\n",
              " ⎝x ⎠\n",
              "ℯ    "
            ],
            "image/png": "[encoded data removed]",
            "text/latex": "$\\displaystyle e^{x^{2}}$"
          },
          "metadata": {},
          "execution_count": 57
        }
      ],
      "source": [
        "diff(integrate(integrando, x), x)"
      ]
    },
    {
      "cell_type": "markdown",
      "metadata": {
        "id": "ZqYJERypfldL"
      },
      "source": [
        "Ahora pongamos limites de integración:\n",
        "\n",
        "$$ \\int_{0}^{\\frac{\\pi}{2}} e^{x}cos(x) dx  $$\n",
        "\n",
        "Si tenemos limites de integración:\n",
        "\n",
        "integrate(f, (x, a, b))\n",
        "\n",
        "f: Integrando\n",
        "\n",
        "\n",
        "x: Variable respecto a la cual vamos a integrar\n",
        "\n",
        "\n",
        "a: límite inferior de integración\n",
        "\n",
        "\n",
        "b: límite superior de integración\n",
        "\n",
        "$$\n",
        "\\int_{a}^{b} f(x)dx \n",
        "$$"
      ]
    },
    {
      "cell_type": "code",
      "metadata": {
        "colab": {
          "base_uri": "https://localhost:8080/",
          "height": 55
        },
        "id": "XhXjIVVwPuk0",
        "outputId": "9897a4eb-fd32-4acd-c796-0d9169ef96c9"
      },
      "source": [
        "integrando= exp(x)*cos(x)\n",
        "\n",
        "integrate(integrando, (x, 0, pi/2))\n"
      ],
      "execution_count": 58,
      "outputs": [
        {
          "output_type": "execute_result",
          "data": {
            "text/plain": [
              "       π\n",
              "       ─\n",
              "       2\n",
              "  1   ℯ \n",
              "- ─ + ──\n",
              "  2   2 "
            ],
            "image/png": "[encoded data removed]",
            "text/latex": "$\\displaystyle - \\frac{1}{2} + \\frac{e^{\\frac{\\pi}{2}}}{2}$"
          },
          "metadata": {},
          "execution_count": 58
        }
      ]
    },
    {
      "cell_type": "markdown",
      "metadata": {
        "id": "wq6kJNTxgtHF"
      },
      "source": [
        "$$\\int_{-\\infty}^{\\infty} \\sin{(x^2)} dx  $$"
      ]
    },
    {
      "cell_type": "code",
      "metadata": {
        "colab": {
          "base_uri": "https://localhost:8080/",
          "height": 56
        },
        "id": "miD9Yv4lRM-r",
        "outputId": "0ce77b76-3a27-4b6b-d93d-051ccba0faaa"
      },
      "source": [
        "integrando = sin(x**2)\n",
        "\n",
        "integrate(integrando, (x, -oo, oo))\n"
      ],
      "execution_count": 59,
      "outputs": [
        {
          "output_type": "execute_result",
          "data": {
            "text/plain": [
              "√2⋅√π\n",
              "─────\n",
              "  2  "
            ],
            "image/png": "[encoded data removed]",
            "text/latex": "$\\displaystyle \\frac{\\sqrt{2} \\sqrt{\\pi}}{2}$"
          },
          "metadata": {},
          "execution_count": 59
        }
      ]
    },
    {
      "source": [
        "Nota: Podemos hablar del simbolo $\\infty$ como: oo (dos veces la letra 'o')"
      ],
      "cell_type": "markdown",
      "metadata": {}
    },
    {
      "cell_type": "markdown",
      "metadata": {
        "id": "PMq9m_2DhpoK"
      },
      "source": [
        "3. Expansión por series\n",
        "\n",
        "Tratemos de hacer la expasión por series de algunas expresiones algebraícas\n",
        "\n",
        "$$ sin(x) = x - \\frac{x^{3}}{6} + \\frac{x^{5}}{120} $$\n",
        "\n",
        "$$ cos(x) = 1 - \\frac{x^{2}}{2} + \\frac{x^{4}}{24} $$\n",
        "\n",
        "\n",
        "\n",
        "```\n",
        "# f(x).series(x, x0, n)\n",
        "```\n",
        "\n",
        "f(x) : función que se va a expresar como serie de potencias\n",
        "\n",
        "x : la variable independendiente de la función\n",
        "\n",
        "x0 : el número al rededor del cual se hace la expansión\n",
        "\n",
        "n : los primeros n términos de la serie\n",
        "\n"
      ]
    },
    {
      "cell_type": "code",
      "metadata": {
        "colab": {
          "base_uri": "https://localhost:8080/",
          "height": 54
        },
        "id": "V2gSz8MdinZV",
        "outputId": "a8954bd5-0b02-46f7-81d6-ab7e0258ff91"
      },
      "source": [
        "seno = sin(x)\n",
        "seno.series(x, 0, 6)"
      ],
      "execution_count": 60,
      "outputs": [
        {
          "output_type": "execute_result",
          "data": {
            "text/plain": [
              "     3     5        \n",
              "    x     x     ⎛ 6⎞\n",
              "x - ── + ─── + O⎝x ⎠\n",
              "    6    120        "
            ],
            "image/png": "[encoded data removed]",
            "text/latex": "$\\displaystyle x - \\frac{x^{3}}{6} + \\frac{x^{5}}{120} + O\\left(x^{6}\\right)$"
          },
          "metadata": {},
          "execution_count": 60
        }
      ]
    },
    {
      "cell_type": "code",
      "metadata": {
        "colab": {
          "base_uri": "https://localhost:8080/",
          "height": 54
        },
        "id": "aWXYLvmokI8F",
        "outputId": "30db6c40-2005-41f8-88b4-598728fb6d39"
      },
      "source": [
        "coseno = cos(x)\n",
        "coseno.series(x, 0, 6).removeO()"
      ],
      "execution_count": 61,
      "outputs": [
        {
          "output_type": "execute_result",
          "data": {
            "text/plain": [
              " 4    2    \n",
              "x    x     \n",
              "── - ── + 1\n",
              "24   2     "
            ],
            "image/png": "[encoded data removed]",
            "text/latex": "$\\displaystyle \\frac{x^{4}}{24} - \\frac{x^{2}}{2} + 1$"
          },
          "metadata": {},
          "execution_count": 61
        }
      ]
    },
    {
      "cell_type": "markdown",
      "metadata": {
        "id": "JvVecWTMloXW"
      },
      "source": [
        "4. Ecuaciones diferenciales\n",
        "\n",
        "Encontrar las ecuaciones de movimiento y velocidad respecto al tiempo de una particula que se mueve en un medio resistente en una trayectoria parabólica con las siguientes condiciones iniciales :\n",
        "\n",
        "$$ x(t=0)= 0 = y(t=0) $$\n",
        "$$ \\dot{x} (t=0)= V_{o}Cos{\\theta} $$\n",
        "$$ \\dot{y} (t=0)= V_{o}Sin{\\theta} $$\n"
      ]
    },
    {
      "cell_type": "markdown",
      "metadata": {
        "id": "YIjRbDoHnCqd"
      },
      "source": [
        "![parabolico.png](data:image/png;base64,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)"
      ]
    },
    {
      "cell_type": "markdown",
      "metadata": {
        "id": "YArLMwoKns3E"
      },
      "source": [
        "Las ecuaciones de movimiento que describen la trayectoria del sistema son:\n",
        "\n",
        "$$ m\\ddot{x} + km\\dot{x} = 0$$\n",
        "$$ m\\ddot{y} + km\\dot{y} + mg = 0 $$\n",
        "\n",
        " Vamos a tratar de resolverlo de forma símbolica "
      ]
    },
    {
      "source": [
        "Hacer ecuaciones \n",
        "\n",
        "Eq(expr_1, expr_2)\n",
        "\n",
        "expr_1: expresión del lado izquierdo de la igualdad\n",
        "expr_2: expresión del lado derecho de la igualdad"
      ],
      "cell_type": "markdown",
      "metadata": {}
    },
    {
      "cell_type": "code",
      "metadata": {
        "id": "zsYq7FbfoPJQ"
      },
      "source": [
        "# Definición de simbolos \n",
        "\n",
        "x, y = symbols('x y', cls=Function)    # Funciones\n",
        "m, k, g, t, Vo, w = symbols(' m k g t Vo w')            # Parametros (ctes)\n",
        "\n",
        "              # Pt. Izquierda igualdad            # Pt. derecha\n",
        "deqn_1 = Eq( m*x(t).diff(t).diff(t)+k*m*x(t).diff(t) ,  0 )      # Ecn. diferencial 1\n",
        "deqn_2 = Eq( m*y(t).diff(t).diff(t)+k*m*y(t).diff(t)+m*g , 0 )      # Ecn. diferencial 2\n"
      ],
      "execution_count": 62,
      "outputs": []
    },
    {
      "cell_type": "code",
      "metadata": {
        "colab": {
          "base_uri": "https://localhost:8080/",
          "height": 54
        },
        "id": "LKg7JVEnqHkM",
        "outputId": "b6d256d2-34e6-4695-a07d-0a41e19b3088"
      },
      "source": [
        "deqn_1"
      ],
      "execution_count": 63,
      "outputs": [
        {
          "output_type": "execute_result",
          "data": {
            "text/plain": [
              "                   2          \n",
              "    d             d           \n",
              "k⋅m⋅──(x(t)) + m⋅───(x(t)) = 0\n",
              "    dt             2          \n",
              "                 dt           "
            ],
            "image/png": "[encoded data removed]",
            "text/latex": "$\\displaystyle k m \\frac{d}{d t} x{\\left(t \\right)} + m \\frac{d^{2}}{d t^{2}} x{\\left(t \\right)} = 0$"
          },
          "metadata": {},
          "execution_count": 63
        }
      ]
    },
    {
      "cell_type": "code",
      "metadata": {
        "colab": {
          "base_uri": "https://localhost:8080/",
          "height": 54
        },
        "id": "zL5DlduUqKiP",
        "outputId": "094fd93b-fb2f-4779-876c-261c7b44c12b"
      },
      "source": [
        "deqn_2"
      ],
      "execution_count": 64,
      "outputs": [
        {
          "output_type": "execute_result",
          "data": {
            "text/plain": [
              "                         2          \n",
              "          d             d           \n",
              "g⋅m + k⋅m⋅──(y(t)) + m⋅───(y(t)) = 0\n",
              "          dt             2          \n",
              "                       dt           "
            ],
            "image/png": "[encoded data removed]",
            "text/latex": "$\\displaystyle g m + k m \\frac{d}{d t} y{\\left(t \\right)} + m \\frac{d^{2}}{d t^{2}} y{\\left(t \\right)} = 0$"
          },
          "metadata": {},
          "execution_count": 64
        }
      ]
    },
    {
      "cell_type": "markdown",
      "metadata": {
        "id": "vLF711avrbDQ"
      },
      "source": [
        "Resolvemos sin condiciones inciales:\n",
        "\n",
        "dsolve(ecn_d, f(x))\n",
        "\n",
        "ecn_d: ecuación diferencial a resolver\n",
        "f(x) : función que vamos a resolver"
      ]
    },
    {
      "cell_type": "code",
      "metadata": {
        "colab": {
          "base_uri": "https://localhost:8080/",
          "height": 38
        },
        "id": "P7W4BkZVrFsP",
        "outputId": "84d8767e-4711-4c25-c388-ed70f808624b"
      },
      "source": [
        "dsolve(deqn_1, x(t))"
      ],
      "execution_count": 65,
      "outputs": [
        {
          "output_type": "execute_result",
          "data": {
            "text/plain": [
              "                -k⋅t\n",
              "x(t) = C₁ + C₂⋅ℯ    "
            ],
            "image/png": "[encoded data removed]",
            "text/latex": "$\\displaystyle x{\\left(t \\right)} = C_{1} + C_{2} e^{- k t}$"
          },
          "metadata": {},
          "execution_count": 65
        }
      ]
    },
    {
      "cell_type": "code",
      "metadata": {
        "colab": {
          "base_uri": "https://localhost:8080/",
          "height": 51
        },
        "id": "GsakPS60rUvT",
        "outputId": "3ad32716-8b6d-4c24-8549-c1d9237745b2"
      },
      "source": [
        "dsolve(deqn_2, y(t))"
      ],
      "execution_count": 66,
      "outputs": [
        {
          "output_type": "execute_result",
          "data": {
            "text/plain": [
              "                -k⋅t   g⋅t\n",
              "y(t) = C₁ + C₂⋅ℯ     - ───\n",
              "                        k "
            ],
            "image/png": "[encoded data removed]",
            "text/latex": "$\\displaystyle y{\\left(t \\right)} = C_{1} + C_{2} e^{- k t} - \\frac{g t}{k}$"
          },
          "metadata": {},
          "execution_count": 66
        }
      ]
    },
    {
      "cell_type": "markdown",
      "metadata": {
        "id": "AT6z2-QNrrbG"
      },
      "source": [
        "A continuación resolvemos con condiciones inciales:"
      ]
    },
    {
      "cell_type": "code",
      "metadata": {
        "id": "ninWOGKTrweu"
      },
      "source": [
        "# x(0) = 0 : x(0):0\n",
        "# x'(0)= VoCos(w) : sym.diff(x(t), t).subs(t,0): Vo*cos(w)\n",
        "\n",
        "# y(0) = 0 : x(0):0\n",
        "# y'(0)= VoSen(w) : sym.diff(x(t), t).subs(t,0): Vo*cos(w)\n",
        "\n",
        "ics_deqn_1 = { x(0): 0, diff(x(t), t).subs(t,0): Vo*cos(w) }\n",
        "ics_deqn_2 = { y(0): 0, diff(y(t), t).subs(t,0): Vo*sin(w) }\n",
        "\n",
        "# para que quede más claro como funciona cada parte\n",
        "# x'(t) : sym.diff(x(t), t)\n",
        "# x'(0) : sym.diff(x(t), t).subs(t,0)\n",
        "# y'(t) : sym.diff(y(t), t)\n",
        "# y'(0) : sym.diff(y(t), t).subs(t,0)"
      ],
      "execution_count": 67,
      "outputs": []
    },
    {
      "source": [
        "RESOLVEMOS ECN. DIFERENCIAL 1 CON CONDICIONES INICIALES\n",
        "\n",
        "dsolve(ecn_d, ics)\n",
        "\n",
        "ecn_d: ecuación diferencial a resolver\n",
        "ics: son las condiciones iniciales"
      ],
      "cell_type": "markdown",
      "metadata": {}
    },
    {
      "cell_type": "code",
      "metadata": {
        "colab": {
          "base_uri": "https://localhost:8080/",
          "height": 55
        },
        "id": "s9NrFiZitgGK",
        "outputId": "94409093-9a98-4ca5-9fc8-41783634c206"
      },
      "source": [
        "pos_eqn_1 = dsolve(deqn_1,ics=ics_deqn_1) # reemplazando condiciones iniciales\n",
        "pos_eqn_1"
      ],
      "execution_count": 68,
      "outputs": [
        {
          "output_type": "execute_result",
          "data": {
            "text/plain": [
              "                       -k⋅t       \n",
              "       Vo⋅cos(w)   Vo⋅ℯ    ⋅cos(w)\n",
              "x(t) = ───────── - ───────────────\n",
              "           k              k       "
            ],
            "image/png": "[encoded data removed]",
            "text/latex": "$\\displaystyle x{\\left(t \\right)} = \\frac{Vo \\cos{\\left(w \\right)}}{k} - \\frac{Vo e^{- k t} \\cos{\\left(w \\right)}}{k}$"
          },
          "metadata": {},
          "execution_count": 68
        }
      ]
    },
    {
      "cell_type": "code",
      "metadata": {
        "colab": {
          "base_uri": "https://localhost:8080/",
          "height": 55
        },
        "id": "robc9xbgt52U",
        "outputId": "34a08283-ec17-4300-dcea-0d99d3e2d6b9"
      },
      "source": [
        "pos_eqn_2 = dsolve(deqn_2,ics=ics_deqn_2) # reemplazando condiciones iniciales\n",
        "pos_eqn_2"
      ],
      "execution_count": 69,
      "outputs": [
        {
          "output_type": "execute_result",
          "data": {
            "text/plain": [
              "                                                    -k⋅t\n",
              "         g⋅t   Vo⋅k⋅sin(w) + g   (Vo⋅k⋅sin(w) + g)⋅ℯ    \n",
              "y(t) = - ─── + ─────────────── - ───────────────────────\n",
              "          k            2                     2          \n",
              "                      k                     k           "
            ],
            "image/png": "[encoded data removed]",
            "text/latex": "$\\displaystyle y{\\left(t \\right)} = - \\frac{g t}{k} + \\frac{Vo k \\sin{\\left(w \\right)} + g}{k^{2}} - \\frac{\\left(Vo k \\sin{\\left(w \\right)} + g\\right) e^{- k t}}{k^{2}}$"
          },
          "metadata": {},
          "execution_count": 69
        }
      ]
    },
    {
      "cell_type": "code",
      "metadata": {
        "id": "kEHP_vbGFQwT"
      },
      "source": [],
      "execution_count": 59,
      "outputs": []
    },
    {
      "cell_type": "markdown",
      "metadata": {
        "id": "E7aPm6R9uoDL"
      },
      "source": [
        "Hemos obtenido las expresione para la posición en función del tiempo, ahora obtengamos las siguientes expresiones\n",
        "\n",
        "\n",
        "\n",
        "* Velocidad\n",
        "* Energía cinetica\n",
        "* Energía potencial\n",
        "* Energía mécanica\n",
        "\n"
      ]
    },
    {
      "cell_type": "code",
      "metadata": {
        "id": "eCP4FGC6wkey"
      },
      "source": [
        "# VELOCIDAD (componente X)\n",
        "# trabajaremos con la expresión de la parte izquierda de la ecuación de posición\n",
        "\n",
        "pos_1 = pos_eqn_1.rhs    # X(t)\n",
        "pos_2 = pos_eqn_2.rhs    # Y(t)\n",
        "\n",
        "vel_1 = pos_1.diff(t)    # X'(t)\n",
        "vel_2 = pos_2.diff(t)    # Y'(t)\n"
      ],
      "execution_count": 70,
      "outputs": []
    },
    {
      "cell_type": "code",
      "metadata": {
        "colab": {
          "base_uri": "https://localhost:8080/",
          "height": 38
        },
        "id": "o38EHni8Acgt",
        "outputId": "23d22d84-485b-4daa-a9f6-8e6bccc443c7"
      },
      "source": [
        "vel_1"
      ],
      "execution_count": 71,
      "outputs": [
        {
          "output_type": "execute_result",
          "data": {
            "text/plain": [
              "    -k⋅t       \n",
              "Vo⋅ℯ    ⋅cos(w)"
            ],
            "image/png": "[encoded data removed]",
            "text/latex": "$\\displaystyle Vo e^{- k t} \\cos{\\left(w \\right)}$"
          },
          "metadata": {},
          "execution_count": 71
        }
      ]
    },
    {
      "cell_type": "code",
      "metadata": {
        "colab": {
          "base_uri": "https://localhost:8080/",
          "height": 55
        },
        "id": "zkxF0JxLAeRb",
        "outputId": "cb6bf5cf-249e-490c-834e-0b10dab0ea56"
      },
      "source": [
        "vel_2"
      ],
      "execution_count": 72,
      "outputs": [
        {
          "output_type": "execute_result",
          "data": {
            "text/plain": [
              "                         -k⋅t\n",
              "  g   (Vo⋅k⋅sin(w) + g)⋅ℯ    \n",
              "- ─ + ───────────────────────\n",
              "  k              k           "
            ],
            "image/png": "[encoded data removed]",
            "text/latex": "$\\displaystyle - \\frac{g}{k} + \\frac{\\left(Vo k \\sin{\\left(w \\right)} + g\\right) e^{- k t}}{k}$"
          },
          "metadata": {},
          "execution_count": 72
        }
      ]
    },
    {
      "cell_type": "code",
      "metadata": {
        "colab": {
          "base_uri": "https://localhost:8080/",
          "height": 59
        },
        "id": "g83jLatb_sIR",
        "outputId": "87ec840d-a11b-4591-8477-66383a3b4025"
      },
      "source": [
        "# ENERGÍA CINETICA\n",
        "\n",
        "K_energy = Rational(1,2)*m*(vel_1**2).simplify() + Rational(1,2)*m*(vel_2**2).simplify()\n",
        "K_energy"
      ],
      "execution_count": 73,
      "outputs": [
        {
          "output_type": "execute_result",
          "data": {
            "text/plain": [
              "                                                     2        \n",
              "  2    -2⋅k⋅t    2        ⎛                  k⋅t    ⎞   -2⋅k⋅t\n",
              "Vo ⋅m⋅ℯ      ⋅cos (w)   m⋅⎝-Vo⋅k⋅sin(w) + g⋅ℯ    - g⎠ ⋅ℯ      \n",
              "───────────────────── + ──────────────────────────────────────\n",
              "          2                                 2                 \n",
              "                                         2⋅k                  "
            ],
            "image/png": "[encoded data removed]",
            "text/latex": "$\\displaystyle \\frac{Vo^{2} m e^{- 2 k t} \\cos^{2}{\\left(w \\right)}}{2} + \\frac{m \\left(- Vo k \\sin{\\left(w \\right)} + g e^{k t} - g\\right)^{2} e^{- 2 k t}}{2 k^{2}}$"
          },
          "metadata": {},
          "execution_count": 73
        }
      ]
    },
    {
      "cell_type": "code",
      "metadata": {
        "colab": {
          "base_uri": "https://localhost:8080/",
          "height": 56
        },
        "id": "M3lLK1lwB7AE",
        "outputId": "e1e017bf-2b23-4558-b440-c0be7c15ea1f"
      },
      "source": [
        "# ENERGIA POTENCIAL\n",
        "\n",
        "U_energy = m*g*pos_2\n",
        "U_energy = U_energy.simplify()\n",
        "U_energy"
      ],
      "execution_count": 74,
      "outputs": [
        {
          "output_type": "execute_result",
          "data": {
            "text/plain": [
              "     ⎛                     k⋅t                          k⋅t⎞  -k⋅t \n",
              "-g⋅m⋅⎝Vo⋅k⋅sin(w) + g⋅k⋅t⋅ℯ    + g - (Vo⋅k⋅sin(w) + g)⋅ℯ   ⎠⋅ℯ     \n",
              "───────────────────────────────────────────────────────────────────\n",
              "                                  2                                \n",
              "                                 k                                 "
            ],
            "image/png": "[encoded data removed]",
            "text/latex": "$\\displaystyle - \\frac{g m \\left(Vo k \\sin{\\left(w \\right)} + g k t e^{k t} + g - \\left(Vo k \\sin{\\left(w \\right)} + g\\right) e^{k t}\\right) e^{- k t}}{k^{2}}$"
          },
          "metadata": {},
          "execution_count": 74
        }
      ]
    },
    {
      "cell_type": "code",
      "metadata": {
        "colab": {
          "base_uri": "https://localhost:8080/",
          "height": 59
        },
        "id": "-vDbnEcmCX_Y",
        "outputId": "fa25fd43-8eea-4074-f35c-3f62ebbe3bfb"
      },
      "source": [
        "# ENERÍA MÉCANICA\n",
        "\n",
        "M_energy = U_energy + K_energy\n",
        "M_energy"
      ],
      "execution_count": 75,
      "outputs": [
        {
          "output_type": "execute_result",
          "data": {
            "text/plain": [
              "                                                                              \n",
              "  2    -2⋅k⋅t    2          ⎛                     k⋅t                         \n",
              "Vo ⋅m⋅ℯ      ⋅cos (w)   g⋅m⋅⎝Vo⋅k⋅sin(w) + g⋅k⋅t⋅ℯ    + g - (Vo⋅k⋅sin(w) + g)⋅\n",
              "───────────────────── - ──────────────────────────────────────────────────────\n",
              "          2                                              2                    \n",
              "                                                        k                     \n",
              "\n",
              "                                           2        \n",
              " k⋅t⎞  -k⋅t     ⎛                  k⋅t    ⎞   -2⋅k⋅t\n",
              "ℯ   ⎠⋅ℯ       m⋅⎝-Vo⋅k⋅sin(w) + g⋅ℯ    - g⎠ ⋅ℯ      \n",
              "─────────── + ──────────────────────────────────────\n",
              "                                  2                 \n",
              "                               2⋅k                  "
            ],
            "image/png": "[encoded data removed]",
            "text/latex": "$\\displaystyle \\frac{Vo^{2} m e^{- 2 k t} \\cos^{2}{\\left(w \\right)}}{2} - \\frac{g m \\left(Vo k \\sin{\\left(w \\right)} + g k t e^{k t} + g - \\left(Vo k \\sin{\\left(w \\right)} + g\\right) e^{k t}\\right) e^{- k t}}{k^{2}} + \\frac{m \\left(- Vo k \\sin{\\left(w \\right)} + g e^{k t} - g\\right)^{2} e^{- 2 k t}}{2 k^{2}}$"
          },
          "metadata": {},
          "execution_count": 75
        }
      ]
    },
    {
      "cell_type": "markdown",
      "metadata": {
        "id": "en6v8mpxGOjH"
      },
      "source": [
        "Asignamos unos parametros definidos:"
      ]
    },
    {
      "cell_type": "code",
      "metadata": {
        "id": "ATUP7IPmGboa"
      },
      "source": [
        "pos_1= pos_1.subs([(g,9.8),(m,3),(Vo,120),(w,pi/4),(k,0.5)])\n",
        "pos_2= pos_2.subs([(g,9.8),(m,3),(Vo,120),(w,pi/4),(k,0.5)])\n",
        "vel_1= vel_1.subs([(g,9.8),(m,3),(Vo,120),(w,pi/4),(k,0.5)])\n",
        "vel_2= vel_2.subs([(g,9.8),(m,3),(Vo,120),(w,pi/4),(k,0.5)])\n",
        "\n",
        "K_energy= K_energy.subs([(g,9.8),(m,3),(Vo,120),(w,pi/4),(k,0.5)])\n",
        "U_energy= U_energy.subs([(g,9.8),(m,3),(Vo,120),(w,pi/4),(k,0.5)])\n",
        "M_energy= M_energy.subs([(g,9.8),(m,3),(Vo,120),(w,pi/4),(k,0.5)])"
      ],
      "execution_count": 76,
      "outputs": []
    },
    {
      "cell_type": "code",
      "metadata": {
        "colab": {
          "base_uri": "https://localhost:8080/",
          "height": 47
        },
        "id": "lWqfo0wwLFqo",
        "outputId": "979f265d-ddec-469b-a478-af8080792377"
      },
      "source": [
        "pos_2"
      ],
      "execution_count": 77,
      "outputs": [
        {
          "output_type": "execute_result",
          "data": {
            "text/plain": [
              "                                                 -0.5⋅t\n",
              "-19.6⋅t + 39.2 + 120.0⋅√2 - 4.0⋅(9.8 + 30.0⋅√2)⋅ℯ      "
            ],
            "image/png": "[encoded data removed]",
            "text/latex": "$\\displaystyle - 19.6 t + 39.2 + 120.0 \\sqrt{2} - 4.0 \\left(9.8 + 30.0 \\sqrt{2}\\right) e^{- 0.5 t}$"
          },
          "metadata": {},
          "execution_count": 77
        }
      ]
    },
    {
      "cell_type": "code",
      "metadata": {
        "colab": {
          "base_uri": "https://localhost:8080/",
          "height": 37
        },
        "id": "LcJ_yYOFGunh",
        "outputId": "673755df-2671-42f1-d887-af0894ac6302"
      },
      "source": [
        "solve(Eq(pos_2, 0), t)"
      ],
      "execution_count": 78,
      "outputs": [
        {
          "output_type": "execute_result",
          "data": {
            "text/plain": [
              "[0.0, 10.6053909389275]"
            ],
            "image/png": "[encoded data removed]",
            "text/latex": "$\\displaystyle \\left[ 0.0, \\  10.6053909389275\\right]$"
          },
          "metadata": {},
          "execution_count": 78
        }
      ]
    },
    {
      "cell_type": "markdown",
      "metadata": {
        "id": "AxaHCN11DEdB"
      },
      "source": [
        "Podemos pasar de expresiones simbolicas a númericas y aprovechar librerías como matplotlib para realizar gráficas"
      ]
    },
    {
      "cell_type": "code",
      "metadata": {
        "id": "X9EaxZlDDPBE"
      },
      "source": [
        "# SYMPY (símbolico) ----->  NUMPY (númerico)\n",
        "# variable independiente, expresión, librería\n",
        "\n",
        "np_vel_1 = lambdify(t,vel_1,'numpy')        # velocidad X'(t)\n",
        "np_pos_1 = lambdify(t,pos_1,'numpy')        # posición  X(t)\n",
        "\n",
        "np_vel_2=lambdify(t,vel_2,'numpy')        # velocidad Y'(t)\n",
        "np_pos_2=lambdify(t,pos_2,'numpy')        # posición  Y(t)\n",
        "\n",
        "np_K_energy = lambdify(t,K_energy,'numpy')   # E. Cinetica\n",
        "np_U_energy = lambdify(t,U_energy,'numpy')   # E. Potencial\n",
        "np_M_energy = lambdify(t,M_energy,'numpy')   # E. Mécanica"
      ],
      "execution_count": 79,
      "outputs": []
    },
    {
      "cell_type": "markdown",
      "metadata": {
        "id": "XUIASkimH5Kx"
      },
      "source": [
        "Trataremos de encontrar una gráfica con la trayectoria, con la expresión númerica"
      ]
    },
    {
      "cell_type": "code",
      "metadata": {
        "colab": {
          "base_uri": "https://localhost:8080/",
          "height": 295
        },
        "id": "dSZ62YQrH3kU",
        "outputId": "afa71d30-ea36-44b7-d13e-022729a35db7"
      },
      "source": [
        "import matplotlib.pyplot as plt\n",
        "\n",
        "t = np.linspace(0,10.6,100)\n",
        "X = np_pos_1(t)\n",
        "Y = np_pos_2(t)\n",
        "\n",
        "plt.xlabel('Eje X')\n",
        "plt.ylabel('Eje Y')\n",
        "plt.title('T. Parabólico con rozamiento - m=3 , Vo=120, g=9.8, k=0.5, w=pi/4 ')\n",
        "plt.plot(X,Y)\n",
        "plt.grid()"
      ],
      "execution_count": 81,
      "outputs": [
        {
          "output_type": "display_data",
          "data": {
            "text/plain": "<Figure size 432x288 with 1 Axes>",
            "image/svg+xml": "<?xml version=\"1.0\" encoding=\"utf-8\" standalone=\"no\"?>\n<!DOCTYPE svg PUBLIC \"-//W3C//DTD SVG 1.1//EN\"\n  \"http://www.w3.org/Graphics/SVG/1.1/DTD/svg11.dtd\">\n<!-- Created with matplotlib (https://matplotlib.org/) -->\n<svg height=\"277.794375pt\" version=\"1.1\" viewBox=\"0 0 436.760625 277.794375\" width=\"436.760625pt\" xmlns=\"http://www.w3.org/2000/svg\" xmlns:xlink=\"http://www.w3.org/1999/xlink\">\n <defs>\n  <style type=\"text/css\">\n*{stroke-linecap:butt;stroke-linejoin:round;}\n  </style>\n </defs>\n <g id=\"figure_1\">\n  <g id=\"patch_1\">\n   <path d=\"M 0 277.794375 \nL 436.760625 277.794375 \nL 436.760625 0 \nL 0 0 \nz\n\" style=\"fill:none;\"/>\n  </g>\n  <g id=\"axes_1\">\n   <g id=\"patch_2\">\n    <path d=\"M 50.980312 240.238125 \nL 385.780312 240.238125 \nL 385.780312 22.798125 \nL 50.980312 22.798125 \nz\n\" style=\"fill:#ffffff;\"/>\n   </g>\n   <g id=\"matplotlib.axis_1\">\n    <g id=\"xtick_1\">\n     <g id=\"line2d_1\">\n      <path clip-path=\"url(#p42393280fa)\" d=\"M 66.198494 240.238125 \nL 66.198494 22.798125 \n\" style=\"fill:none;stroke:#b0b0b0;stroke-linecap:square;stroke-width:0.8;\"/>\n     </g>\n     <g id=\"line2d_2\">\n      <defs>\n       <path d=\"M 0 0 \nL 0 3.5 \n\" id=\"m23c0a923e9\" style=\"stroke:#000000;stroke-width:0.8;\"/>\n      </defs>\n      <g>\n       <use style=\"stroke:#000000;stroke-width:0.8;\" x=\"66.198494\" xlink:href=\"#m23c0a923e9\" y=\"240.238125\"/>\n      </g>\n     </g>\n     <g id=\"text_1\">\n      <!-- 0 -->\n      <defs>\n       <path d=\"M 31.78125 66.40625 \nQ 24.171875 66.40625 20.328125 58.90625 \nQ 16.5 51.421875 16.5 36.375 \nQ 16.5 21.390625 20.328125 13.890625 \nQ 24.171875 6.390625 31.78125 6.390625 \nQ 39.453125 6.390625 43.28125 13.890625 \nQ 47.125 21.390625 47.125 36.375 \nQ 47.125 51.421875 43.28125 58.90625 \nQ 39.453125 66.40625 31.78125 66.40625 \nz\nM 31.78125 74.21875 \nQ 44.046875 74.21875 50.515625 64.515625 \nQ 56.984375 54.828125 56.984375 36.375 \nQ 56.984375 17.96875 50.515625 8.265625 \nQ 44.046875 -1.421875 31.78125 -1.421875 \nQ 19.53125 -1.421875 13.0625 8.265625 \nQ 6.59375 17.96875 6.59375 36.375 \nQ 6.59375 54.828125 13.0625 64.515625 \nQ 19.53125 74.21875 31.78125 74.21875 \nz\n\" id=\"DejaVuSans-48\"/>\n      </defs>\n      <g transform=\"translate(63.017244 254.836563)scale(0.1 -0.1)\">\n       <use xlink:href=\"#DejaVuSans-48\"/>\n      </g>\n     </g>\n    </g>\n    <g id=\"xtick_2\">\n     <g id=\"line2d_3\">\n      <path clip-path=\"url(#p42393280fa)\" d=\"M 111.260423 240.238125 \nL 111.260423 22.798125 \n\" style=\"fill:none;stroke:#b0b0b0;stroke-linecap:square;stroke-width:0.8;\"/>\n     </g>\n     <g id=\"line2d_4\">\n      <g>\n       <use style=\"stroke:#000000;stroke-width:0.8;\" x=\"111.260423\" xlink:href=\"#m23c0a923e9\" y=\"240.238125\"/>\n      </g>\n     </g>\n     <g id=\"text_2\">\n      <!-- 25 -->\n      <defs>\n       <path d=\"M 19.1875 8.296875 \nL 53.609375 8.296875 \nL 53.609375 0 \nL 7.328125 0 \nL 7.328125 8.296875 \nQ 12.9375 14.109375 22.625 23.890625 \nQ 32.328125 33.6875 34.8125 36.53125 \nQ 39.546875 41.84375 41.421875 45.53125 \nQ 43.3125 49.21875 43.3125 52.78125 \nQ 43.3125 58.59375 39.234375 62.25 \nQ 35.15625 65.921875 28.609375 65.921875 \nQ 23.96875 65.921875 18.8125 64.3125 \nQ 13.671875 62.703125 7.8125 59.421875 \nL 7.8125 69.390625 \nQ 13.765625 71.78125 18.9375 73 \nQ 24.125 74.21875 28.421875 74.21875 \nQ 39.75 74.21875 46.484375 68.546875 \nQ 53.21875 62.890625 53.21875 53.421875 \nQ 53.21875 48.921875 51.53125 44.890625 \nQ 49.859375 40.875 45.40625 35.40625 \nQ 44.1875 33.984375 37.640625 27.21875 \nQ 31.109375 20.453125 19.1875 8.296875 \nz\n\" id=\"DejaVuSans-50\"/>\n       <path d=\"M 10.796875 72.90625 \nL 49.515625 72.90625 \nL 49.515625 64.59375 \nL 19.828125 64.59375 \nL 19.828125 46.734375 \nQ 21.96875 47.46875 24.109375 47.828125 \nQ 26.265625 48.1875 28.421875 48.1875 \nQ 40.625 48.1875 47.75 41.5 \nQ 54.890625 34.8125 54.890625 23.390625 \nQ 54.890625 11.625 47.5625 5.09375 \nQ 40.234375 -1.421875 26.90625 -1.421875 \nQ 22.3125 -1.421875 17.546875 -0.640625 \nQ 12.796875 0.140625 7.71875 1.703125 \nL 7.71875 11.625 \nQ 12.109375 9.234375 16.796875 8.0625 \nQ 21.484375 6.890625 26.703125 6.890625 \nQ 35.15625 6.890625 40.078125 11.328125 \nQ 45.015625 15.765625 45.015625 23.390625 \nQ 45.015625 31 40.078125 35.4375 \nQ 35.15625 39.890625 26.703125 39.890625 \nQ 22.75 39.890625 18.8125 39.015625 \nQ 14.890625 38.140625 10.796875 36.28125 \nz\n\" id=\"DejaVuSans-53\"/>\n      </defs>\n      <g transform=\"translate(104.897923 254.836563)scale(0.1 -0.1)\">\n       <use xlink:href=\"#DejaVuSans-50\"/>\n       <use x=\"63.623047\" xlink:href=\"#DejaVuSans-53\"/>\n      </g>\n     </g>\n    </g>\n    <g id=\"xtick_3\">\n     <g id=\"line2d_5\">\n      <path clip-path=\"url(#p42393280fa)\" d=\"M 156.322352 240.238125 \nL 156.322352 22.798125 \n\" style=\"fill:none;stroke:#b0b0b0;stroke-linecap:square;stroke-width:0.8;\"/>\n     </g>\n     <g id=\"line2d_6\">\n      <g>\n       <use style=\"stroke:#000000;stroke-width:0.8;\" x=\"156.322352\" xlink:href=\"#m23c0a923e9\" y=\"240.238125\"/>\n      </g>\n     </g>\n     <g id=\"text_3\">\n      <!-- 50 -->\n      <g transform=\"translate(149.959852 254.836563)scale(0.1 -0.1)\">\n       <use xlink:href=\"#DejaVuSans-53\"/>\n       <use x=\"63.623047\" xlink:href=\"#DejaVuSans-48\"/>\n      </g>\n     </g>\n    </g>\n    <g id=\"xtick_4\">\n     <g id=\"line2d_7\">\n      <path clip-path=\"url(#p42393280fa)\" d=\"M 201.384281 240.238125 \nL 201.384281 22.798125 \n\" style=\"fill:none;stroke:#b0b0b0;stroke-linecap:square;stroke-width:0.8;\"/>\n     </g>\n     <g id=\"line2d_8\">\n      <g>\n       <use style=\"stroke:#000000;stroke-width:0.8;\" x=\"201.384281\" xlink:href=\"#m23c0a923e9\" y=\"240.238125\"/>\n      </g>\n     </g>\n     <g id=\"text_4\">\n      <!-- 75 -->\n      <defs>\n       <path d=\"M 8.203125 72.90625 \nL 55.078125 72.90625 \nL 55.078125 68.703125 \nL 28.609375 0 \nL 18.3125 0 \nL 43.21875 64.59375 \nL 8.203125 64.59375 \nz\n\" id=\"DejaVuSans-55\"/>\n      </defs>\n      <g transform=\"translate(195.021781 254.836563)scale(0.1 -0.1)\">\n       <use xlink:href=\"#DejaVuSans-55\"/>\n       <use x=\"63.623047\" xlink:href=\"#DejaVuSans-53\"/>\n      </g>\n     </g>\n    </g>\n    <g id=\"xtick_5\">\n     <g id=\"line2d_9\">\n      <path clip-path=\"url(#p42393280fa)\" d=\"M 246.44621 240.238125 \nL 246.44621 22.798125 \n\" style=\"fill:none;stroke:#b0b0b0;stroke-linecap:square;stroke-width:0.8;\"/>\n     </g>\n     <g id=\"line2d_10\">\n      <g>\n       <use style=\"stroke:#000000;stroke-width:0.8;\" x=\"246.44621\" xlink:href=\"#m23c0a923e9\" y=\"240.238125\"/>\n      </g>\n     </g>\n     <g id=\"text_5\">\n      <!-- 100 -->\n      <defs>\n       <path d=\"M 12.40625 8.296875 \nL 28.515625 8.296875 \nL 28.515625 63.921875 \nL 10.984375 60.40625 \nL 10.984375 69.390625 \nL 28.421875 72.90625 \nL 38.28125 72.90625 \nL 38.28125 8.296875 \nL 54.390625 8.296875 \nL 54.390625 0 \nL 12.40625 0 \nz\n\" id=\"DejaVuSans-49\"/>\n      </defs>\n      <g transform=\"translate(236.90246 254.836563)scale(0.1 -0.1)\">\n       <use xlink:href=\"#DejaVuSans-49\"/>\n       <use x=\"63.623047\" xlink:href=\"#DejaVuSans-48\"/>\n       <use x=\"127.246094\" xlink:href=\"#DejaVuSans-48\"/>\n      </g>\n     </g>\n    </g>\n    <g id=\"xtick_6\">\n     <g id=\"line2d_11\">\n      <path clip-path=\"url(#p42393280fa)\" d=\"M 291.508139 240.238125 \nL 291.508139 22.798125 \n\" style=\"fill:none;stroke:#b0b0b0;stroke-linecap:square;stroke-width:0.8;\"/>\n     </g>\n     <g id=\"line2d_12\">\n      <g>\n       <use style=\"stroke:#000000;stroke-width:0.8;\" x=\"291.508139\" xlink:href=\"#m23c0a923e9\" y=\"240.238125\"/>\n      </g>\n     </g>\n     <g id=\"text_6\">\n      <!-- 125 -->\n      <g transform=\"translate(281.964389 254.836563)scale(0.1 -0.1)\">\n       <use xlink:href=\"#DejaVuSans-49\"/>\n       <use x=\"63.623047\" xlink:href=\"#DejaVuSans-50\"/>\n       <use x=\"127.246094\" xlink:href=\"#DejaVuSans-53\"/>\n      </g>\n     </g>\n    </g>\n    <g id=\"xtick_7\">\n     <g id=\"line2d_13\">\n      <path clip-path=\"url(#p42393280fa)\" d=\"M 336.570068 240.238125 \nL 336.570068 22.798125 \n\" style=\"fill:none;stroke:#b0b0b0;stroke-linecap:square;stroke-width:0.8;\"/>\n     </g>\n     <g id=\"line2d_14\">\n      <g>\n       <use style=\"stroke:#000000;stroke-width:0.8;\" x=\"336.570068\" xlink:href=\"#m23c0a923e9\" y=\"240.238125\"/>\n      </g>\n     </g>\n     <g id=\"text_7\">\n      <!-- 150 -->\n      <g transform=\"translate(327.026318 254.836563)scale(0.1 -0.1)\">\n       <use xlink:href=\"#DejaVuSans-49\"/>\n       <use x=\"63.623047\" xlink:href=\"#DejaVuSans-53\"/>\n       <use x=\"127.246094\" xlink:href=\"#DejaVuSans-48\"/>\n      </g>\n     </g>\n    </g>\n    <g id=\"xtick_8\">\n     <g id=\"line2d_15\">\n      <path clip-path=\"url(#p42393280fa)\" d=\"M 381.631997 240.238125 \nL 381.631997 22.798125 \n\" style=\"fill:none;stroke:#b0b0b0;stroke-linecap:square;stroke-width:0.8;\"/>\n     </g>\n     <g id=\"line2d_16\">\n      <g>\n       <use style=\"stroke:#000000;stroke-width:0.8;\" x=\"381.631997\" xlink:href=\"#m23c0a923e9\" y=\"240.238125\"/>\n      </g>\n     </g>\n     <g id=\"text_8\">\n      <!-- 175 -->\n      <g transform=\"translate(372.088247 254.836563)scale(0.1 -0.1)\">\n       <use xlink:href=\"#DejaVuSans-49\"/>\n       <use x=\"63.623047\" xlink:href=\"#DejaVuSans-55\"/>\n       <use x=\"127.246094\" xlink:href=\"#DejaVuSans-53\"/>\n      </g>\n     </g>\n    </g>\n    <g id=\"text_9\">\n     <!-- Eje X -->\n     <defs>\n      <path d=\"M 9.8125 72.90625 \nL 55.90625 72.90625 \nL 55.90625 64.59375 \nL 19.671875 64.59375 \nL 19.671875 43.015625 \nL 54.390625 43.015625 \nL 54.390625 34.71875 \nL 19.671875 34.71875 \nL 19.671875 8.296875 \nL 56.78125 8.296875 \nL 56.78125 0 \nL 9.8125 0 \nz\n\" id=\"DejaVuSans-69\"/>\n      <path d=\"M 9.421875 54.6875 \nL 18.40625 54.6875 \nL 18.40625 -0.984375 \nQ 18.40625 -11.421875 14.421875 -16.109375 \nQ 10.453125 -20.796875 1.609375 -20.796875 \nL -1.8125 -20.796875 \nL -1.8125 -13.1875 \nL 0.59375 -13.1875 \nQ 5.71875 -13.1875 7.5625 -10.8125 \nQ 9.421875 -8.453125 9.421875 -0.984375 \nz\nM 9.421875 75.984375 \nL 18.40625 75.984375 \nL 18.40625 64.59375 \nL 9.421875 64.59375 \nz\n\" id=\"DejaVuSans-106\"/>\n      <path d=\"M 56.203125 29.59375 \nL 56.203125 25.203125 \nL 14.890625 25.203125 \nQ 15.484375 15.921875 20.484375 11.0625 \nQ 25.484375 6.203125 34.421875 6.203125 \nQ 39.59375 6.203125 44.453125 7.46875 \nQ 49.3125 8.734375 54.109375 11.28125 \nL 54.109375 2.78125 \nQ 49.265625 0.734375 44.1875 -0.34375 \nQ 39.109375 -1.421875 33.890625 -1.421875 \nQ 20.796875 -1.421875 13.15625 6.1875 \nQ 5.515625 13.8125 5.515625 26.8125 \nQ 5.515625 40.234375 12.765625 48.109375 \nQ 20.015625 56 32.328125 56 \nQ 43.359375 56 49.78125 48.890625 \nQ 56.203125 41.796875 56.203125 29.59375 \nz\nM 47.21875 32.234375 \nQ 47.125 39.59375 43.09375 43.984375 \nQ 39.0625 48.390625 32.421875 48.390625 \nQ 24.90625 48.390625 20.390625 44.140625 \nQ 15.875 39.890625 15.1875 32.171875 \nz\n\" id=\"DejaVuSans-101\"/>\n      <path id=\"DejaVuSans-32\"/>\n      <path d=\"M 6.296875 72.90625 \nL 16.890625 72.90625 \nL 35.015625 45.796875 \nL 53.21875 72.90625 \nL 63.8125 72.90625 \nL 40.375 37.890625 \nL 65.375 0 \nL 54.78125 0 \nL 34.28125 31 \nL 13.625 0 \nL 2.984375 0 \nL 29 38.921875 \nz\n\" id=\"DejaVuSans-88\"/>\n     </defs>\n     <g transform=\"translate(205.74125 268.514687)scale(0.1 -0.1)\">\n      <use xlink:href=\"#DejaVuSans-69\"/>\n      <use x=\"63.183594\" xlink:href=\"#DejaVuSans-106\"/>\n      <use x=\"90.966797\" xlink:href=\"#DejaVuSans-101\"/>\n      <use x=\"152.490234\" xlink:href=\"#DejaVuSans-32\"/>\n      <use x=\"184.277344\" xlink:href=\"#DejaVuSans-88\"/>\n     </g>\n    </g>\n   </g>\n   <g id=\"matplotlib.axis_2\">\n    <g id=\"ytick_1\">\n     <g id=\"line2d_17\">\n      <path clip-path=\"url(#p42393280fa)\" d=\"M 50.980312 230.354489 \nL 385.780312 230.354489 \n\" style=\"fill:none;stroke:#b0b0b0;stroke-linecap:square;stroke-width:0.8;\"/>\n     </g>\n     <g id=\"line2d_18\">\n      <defs>\n       <path d=\"M 0 0 \nL -3.5 0 \n\" id=\"mf4017ddfb2\" style=\"stroke:#000000;stroke-width:0.8;\"/>\n      </defs>\n      <g>\n       <use style=\"stroke:#000000;stroke-width:0.8;\" x=\"50.980312\" xlink:href=\"#mf4017ddfb2\" y=\"230.354489\"/>\n      </g>\n     </g>\n     <g id=\"text_10\">\n      <!-- 0 -->\n      <g transform=\"translate(37.617812 234.153707)scale(0.1 -0.1)\">\n       <use xlink:href=\"#DejaVuSans-48\"/>\n      </g>\n     </g>\n    </g>\n    <g id=\"ytick_2\">\n     <g id=\"line2d_19\">\n      <path clip-path=\"url(#p42393280fa)\" d=\"M 50.980312 192.38151 \nL 385.780312 192.38151 \n\" style=\"fill:none;stroke:#b0b0b0;stroke-linecap:square;stroke-width:0.8;\"/>\n     </g>\n     <g id=\"line2d_20\">\n      <g>\n       <use style=\"stroke:#000000;stroke-width:0.8;\" x=\"50.980312\" xlink:href=\"#mf4017ddfb2\" y=\"192.38151\"/>\n      </g>\n     </g>\n     <g id=\"text_11\">\n      <!-- 20 -->\n      <g transform=\"translate(31.255312 196.180729)scale(0.1 -0.1)\">\n       <use xlink:href=\"#DejaVuSans-50\"/>\n       <use x=\"63.623047\" xlink:href=\"#DejaVuSans-48\"/>\n      </g>\n     </g>\n    </g>\n    <g id=\"ytick_3\">\n     <g id=\"line2d_21\">\n      <path clip-path=\"url(#p42393280fa)\" d=\"M 50.980312 154.408531 \nL 385.780312 154.408531 \n\" style=\"fill:none;stroke:#b0b0b0;stroke-linecap:square;stroke-width:0.8;\"/>\n     </g>\n     <g id=\"line2d_22\">\n      <g>\n       <use style=\"stroke:#000000;stroke-width:0.8;\" x=\"50.980312\" xlink:href=\"#mf4017ddfb2\" y=\"154.408531\"/>\n      </g>\n     </g>\n     <g id=\"text_12\">\n      <!-- 40 -->\n      <defs>\n       <path d=\"M 37.796875 64.3125 \nL 12.890625 25.390625 \nL 37.796875 25.390625 \nz\nM 35.203125 72.90625 \nL 47.609375 72.90625 \nL 47.609375 25.390625 \nL 58.015625 25.390625 \nL 58.015625 17.1875 \nL 47.609375 17.1875 \nL 47.609375 0 \nL 37.796875 0 \nL 37.796875 17.1875 \nL 4.890625 17.1875 \nL 4.890625 26.703125 \nz\n\" id=\"DejaVuSans-52\"/>\n      </defs>\n      <g transform=\"translate(31.255312 158.20775)scale(0.1 -0.1)\">\n       <use xlink:href=\"#DejaVuSans-52\"/>\n       <use x=\"63.623047\" xlink:href=\"#DejaVuSans-48\"/>\n      </g>\n     </g>\n    </g>\n    <g id=\"ytick_4\">\n     <g id=\"line2d_23\">\n      <path clip-path=\"url(#p42393280fa)\" d=\"M 50.980312 116.435553 \nL 385.780312 116.435553 \n\" style=\"fill:none;stroke:#b0b0b0;stroke-linecap:square;stroke-width:0.8;\"/>\n     </g>\n     <g id=\"line2d_24\">\n      <g>\n       <use style=\"stroke:#000000;stroke-width:0.8;\" x=\"50.980312\" xlink:href=\"#mf4017ddfb2\" y=\"116.435553\"/>\n      </g>\n     </g>\n     <g id=\"text_13\">\n      <!-- 60 -->\n      <defs>\n       <path d=\"M 33.015625 40.375 \nQ 26.375 40.375 22.484375 35.828125 \nQ 18.609375 31.296875 18.609375 23.390625 \nQ 18.609375 15.53125 22.484375 10.953125 \nQ 26.375 6.390625 33.015625 6.390625 \nQ 39.65625 6.390625 43.53125 10.953125 \nQ 47.40625 15.53125 47.40625 23.390625 \nQ 47.40625 31.296875 43.53125 35.828125 \nQ 39.65625 40.375 33.015625 40.375 \nz\nM 52.59375 71.296875 \nL 52.59375 62.3125 \nQ 48.875 64.0625 45.09375 64.984375 \nQ 41.3125 65.921875 37.59375 65.921875 \nQ 27.828125 65.921875 22.671875 59.328125 \nQ 17.53125 52.734375 16.796875 39.40625 \nQ 19.671875 43.65625 24.015625 45.921875 \nQ 28.375 48.1875 33.59375 48.1875 \nQ 44.578125 48.1875 50.953125 41.515625 \nQ 57.328125 34.859375 57.328125 23.390625 \nQ 57.328125 12.15625 50.6875 5.359375 \nQ 44.046875 -1.421875 33.015625 -1.421875 \nQ 20.359375 -1.421875 13.671875 8.265625 \nQ 6.984375 17.96875 6.984375 36.375 \nQ 6.984375 53.65625 15.1875 63.9375 \nQ 23.390625 74.21875 37.203125 74.21875 \nQ 40.921875 74.21875 44.703125 73.484375 \nQ 48.484375 72.75 52.59375 71.296875 \nz\n\" id=\"DejaVuSans-54\"/>\n      </defs>\n      <g transform=\"translate(31.255312 120.234772)scale(0.1 -0.1)\">\n       <use xlink:href=\"#DejaVuSans-54\"/>\n       <use x=\"63.623047\" xlink:href=\"#DejaVuSans-48\"/>\n      </g>\n     </g>\n    </g>\n    <g id=\"ytick_5\">\n     <g id=\"line2d_25\">\n      <path clip-path=\"url(#p42393280fa)\" d=\"M 50.980312 78.462574 \nL 385.780312 78.462574 \n\" style=\"fill:none;stroke:#b0b0b0;stroke-linecap:square;stroke-width:0.8;\"/>\n     </g>\n     <g id=\"line2d_26\">\n      <g>\n       <use style=\"stroke:#000000;stroke-width:0.8;\" x=\"50.980312\" xlink:href=\"#mf4017ddfb2\" y=\"78.462574\"/>\n      </g>\n     </g>\n     <g id=\"text_14\">\n      <!-- 80 -->\n      <defs>\n       <path d=\"M 31.78125 34.625 \nQ 24.75 34.625 20.71875 30.859375 \nQ 16.703125 27.09375 16.703125 20.515625 \nQ 16.703125 13.921875 20.71875 10.15625 \nQ 24.75 6.390625 31.78125 6.390625 \nQ 38.8125 6.390625 42.859375 10.171875 \nQ 46.921875 13.96875 46.921875 20.515625 \nQ 46.921875 27.09375 42.890625 30.859375 \nQ 38.875 34.625 31.78125 34.625 \nz\nM 21.921875 38.8125 \nQ 15.578125 40.375 12.03125 44.71875 \nQ 8.5 49.078125 8.5 55.328125 \nQ 8.5 64.0625 14.71875 69.140625 \nQ 20.953125 74.21875 31.78125 74.21875 \nQ 42.671875 74.21875 48.875 69.140625 \nQ 55.078125 64.0625 55.078125 55.328125 \nQ 55.078125 49.078125 51.53125 44.71875 \nQ 48 40.375 41.703125 38.8125 \nQ 48.828125 37.15625 52.796875 32.3125 \nQ 56.78125 27.484375 56.78125 20.515625 \nQ 56.78125 9.90625 50.3125 4.234375 \nQ 43.84375 -1.421875 31.78125 -1.421875 \nQ 19.734375 -1.421875 13.25 4.234375 \nQ 6.78125 9.90625 6.78125 20.515625 \nQ 6.78125 27.484375 10.78125 32.3125 \nQ 14.796875 37.15625 21.921875 38.8125 \nz\nM 18.3125 54.390625 \nQ 18.3125 48.734375 21.84375 45.5625 \nQ 25.390625 42.390625 31.78125 42.390625 \nQ 38.140625 42.390625 41.71875 45.5625 \nQ 45.3125 48.734375 45.3125 54.390625 \nQ 45.3125 60.0625 41.71875 63.234375 \nQ 38.140625 66.40625 31.78125 66.40625 \nQ 25.390625 66.40625 21.84375 63.234375 \nQ 18.3125 60.0625 18.3125 54.390625 \nz\n\" id=\"DejaVuSans-56\"/>\n      </defs>\n      <g transform=\"translate(31.255312 82.261793)scale(0.1 -0.1)\">\n       <use xlink:href=\"#DejaVuSans-56\"/>\n       <use x=\"63.623047\" xlink:href=\"#DejaVuSans-48\"/>\n      </g>\n     </g>\n    </g>\n    <g id=\"ytick_6\">\n     <g id=\"line2d_27\">\n      <path clip-path=\"url(#p42393280fa)\" d=\"M 50.980312 40.489596 \nL 385.780312 40.489596 \n\" style=\"fill:none;stroke:#b0b0b0;stroke-linecap:square;stroke-width:0.8;\"/>\n     </g>\n     <g id=\"line2d_28\">\n      <g>\n       <use style=\"stroke:#000000;stroke-width:0.8;\" x=\"50.980312\" xlink:href=\"#mf4017ddfb2\" y=\"40.489596\"/>\n      </g>\n     </g>\n     <g id=\"text_15\">\n      <!-- 100 -->\n      <g transform=\"translate(24.892812 44.288815)scale(0.1 -0.1)\">\n       <use xlink:href=\"#DejaVuSans-49\"/>\n       <use x=\"63.623047\" xlink:href=\"#DejaVuSans-48\"/>\n       <use x=\"127.246094\" xlink:href=\"#DejaVuSans-48\"/>\n      </g>\n     </g>\n    </g>\n    <g id=\"text_16\">\n     <!-- Eje Y -->\n     <defs>\n      <path d=\"M -0.203125 72.90625 \nL 10.40625 72.90625 \nL 30.609375 42.921875 \nL 50.6875 72.90625 \nL 61.28125 72.90625 \nL 35.5 34.71875 \nL 35.5 0 \nL 25.59375 0 \nL 25.59375 34.71875 \nz\n\" id=\"DejaVuSans-89\"/>\n     </defs>\n     <g transform=\"translate(18.813125 143.786094)rotate(-90)scale(0.1 -0.1)\">\n      <use xlink:href=\"#DejaVuSans-69\"/>\n      <use x=\"63.183594\" xlink:href=\"#DejaVuSans-106\"/>\n      <use x=\"90.966797\" xlink:href=\"#DejaVuSans-101\"/>\n      <use x=\"152.490234\" xlink:href=\"#DejaVuSans-32\"/>\n      <use x=\"184.277344\" xlink:href=\"#DejaVuSans-89\"/>\n     </g>\n    </g>\n   </g>\n   <g id=\"line2d_29\">\n    <path clip-path=\"url(#p42393280fa)\" d=\"M 66.198494 230.354489 \nL 82.143824 213.663168 \nL 97.257962 198.049626 \nL 111.584237 183.457682 \nL 125.163718 169.834081 \nL 138.035333 157.128347 \nL 150.235983 145.292633 \nL 161.800642 134.281587 \nL 172.762464 124.052221 \nL 183.152873 114.563789 \nL 193.001655 105.777666 \nL 202.337043 97.657244 \nL 211.185801 90.167821 \nL 219.573294 83.276505 \nL 227.523568 76.952117 \nL 235.059414 71.165105 \nL 242.202434 65.887457 \nL 248.973105 61.092622 \nL 255.390838 56.75543 \nL 261.474031 52.852028 \nL 267.240121 49.359801 \nL 272.705639 46.257316 \nL 277.886252 43.524258 \nL 282.796813 41.141368 \nL 287.451399 39.090394 \nL 291.863352 37.354034 \nL 296.045321 35.915887 \nL 300.009293 34.760408 \nL 303.766634 33.872862 \nL 307.328114 33.239283 \nL 310.703942 32.846433 \nL 313.903796 32.681761 \nL 316.93685 32.733375 \nL 319.811799 32.99 \nL 322.536883 33.440948 \nL 325.119915 34.076091 \nL 327.5683 34.885826 \nL 329.889056 35.861053 \nL 332.088837 36.993145 \nL 334.173949 38.273925 \nL 336.150369 39.695642 \nL 338.023763 41.25095 \nL 339.799502 42.932884 \nL 341.482676 44.734845 \nL 343.07811 46.650574 \nL 344.590378 48.674143 \nL 346.023815 50.799929 \nL 347.38253 53.022604 \nL 348.670419 55.337117 \nL 349.891173 57.738682 \nL 351.048293 60.22276 \nL 352.145094 62.78505 \nL 353.184722 65.421476 \nL 354.170157 68.128172 \nL 355.104223 70.901476 \nL 355.989599 73.737915 \nL 356.828822 76.634199 \nL 357.624299 79.587208 \nL 358.378309 82.593984 \nL 359.093015 85.651726 \nL 359.770465 88.757776 \nL 360.412601 91.909617 \nL 361.021263 95.104861 \nL 361.598198 98.341246 \nL 362.145059 101.616627 \nL 362.663413 104.928972 \nL 363.154747 108.276353 \nL 363.620468 111.656945 \nL 364.061913 115.069015 \nL 364.480346 118.510924 \nL 364.876967 121.981116 \nL 365.252914 125.478116 \nL 365.609263 129.000527 \nL 365.947036 132.547025 \nL 366.267203 136.116353 \nL 366.570679 139.707322 \nL 366.858337 143.318804 \nL 367.130999 146.949729 \nL 367.389448 150.599084 \nL 367.634425 154.265909 \nL 367.866632 157.949291 \nL 368.086734 161.648369 \nL 368.295363 165.362325 \nL 368.493117 169.090382 \nL 368.680562 172.831805 \nL 368.858236 176.585898 \nL 369.026649 180.352001 \nL 369.186282 184.129487 \nL 369.337595 187.917763 \nL 369.481019 191.716267 \nL 369.616968 195.524465 \nL 369.745829 199.341852 \nL 369.867974 203.167949 \nL 369.983751 207.002302 \nL 370.093493 210.844481 \nL 370.197515 214.694077 \nL 370.296114 218.550704 \nL 370.389573 222.413996 \nL 370.478161 226.283605 \nL 370.562131 230.159202 \n\" style=\"fill:none;stroke:#1f77b4;stroke-linecap:square;stroke-width:1.5;\"/>\n   </g>\n   <g id=\"patch_3\">\n    <path d=\"M 50.980312 240.238125 \nL 50.980312 22.798125 \n\" style=\"fill:none;stroke:#000000;stroke-linecap:square;stroke-linejoin:miter;stroke-width:0.8;\"/>\n   </g>\n   <g id=\"patch_4\">\n    <path d=\"M 385.780312 240.238125 \nL 385.780312 22.798125 \n\" style=\"fill:none;stroke:#000000;stroke-linecap:square;stroke-linejoin:miter;stroke-width:0.8;\"/>\n   </g>\n   <g id=\"patch_5\">\n    <path d=\"M 50.980312 240.238125 \nL 385.780313 240.238125 \n\" style=\"fill:none;stroke:#000000;stroke-linecap:square;stroke-linejoin:miter;stroke-width:0.8;\"/>\n   </g>\n   <g id=\"patch_6\">\n    <path d=\"M 50.980312 22.798125 \nL 385.780313 22.798125 \n\" style=\"fill:none;stroke:#000000;stroke-linecap:square;stroke-linejoin:miter;stroke-width:0.8;\"/>\n   </g>\n   <g id=\"text_17\">\n    <!-- T. Parabólico con rozamiento - m=3 , Vo=120, g=9.8, k=0.02, w=pi/4  -->\n    <defs>\n     <path d=\"M -0.296875 72.90625 \nL 61.375 72.90625 \nL 61.375 64.59375 \nL 35.5 64.59375 \nL 35.5 0 \nL 25.59375 0 \nL 25.59375 64.59375 \nL -0.296875 64.59375 \nz\n\" id=\"DejaVuSans-84\"/>\n     <path d=\"M 10.6875 12.40625 \nL 21 12.40625 \nL 21 0 \nL 10.6875 0 \nz\n\" id=\"DejaVuSans-46\"/>\n     <path d=\"M 19.671875 64.796875 \nL 19.671875 37.40625 \nL 32.078125 37.40625 \nQ 38.96875 37.40625 42.71875 40.96875 \nQ 46.484375 44.53125 46.484375 51.125 \nQ 46.484375 57.671875 42.71875 61.234375 \nQ 38.96875 64.796875 32.078125 64.796875 \nz\nM 9.8125 72.90625 \nL 32.078125 72.90625 \nQ 44.34375 72.90625 50.609375 67.359375 \nQ 56.890625 61.8125 56.890625 51.125 \nQ 56.890625 40.328125 50.609375 34.8125 \nQ 44.34375 29.296875 32.078125 29.296875 \nL 19.671875 29.296875 \nL 19.671875 0 \nL 9.8125 0 \nz\n\" id=\"DejaVuSans-80\"/>\n     <path d=\"M 34.28125 27.484375 \nQ 23.390625 27.484375 19.1875 25 \nQ 14.984375 22.515625 14.984375 16.5 \nQ 14.984375 11.71875 18.140625 8.90625 \nQ 21.296875 6.109375 26.703125 6.109375 \nQ 34.1875 6.109375 38.703125 11.40625 \nQ 43.21875 16.703125 43.21875 25.484375 \nL 43.21875 27.484375 \nz\nM 52.203125 31.203125 \nL 52.203125 0 \nL 43.21875 0 \nL 43.21875 8.296875 \nQ 40.140625 3.328125 35.546875 0.953125 \nQ 30.953125 -1.421875 24.3125 -1.421875 \nQ 15.921875 -1.421875 10.953125 3.296875 \nQ 6 8.015625 6 15.921875 \nQ 6 25.140625 12.171875 29.828125 \nQ 18.359375 34.515625 30.609375 34.515625 \nL 43.21875 34.515625 \nL 43.21875 35.40625 \nQ 43.21875 41.609375 39.140625 45 \nQ 35.0625 48.390625 27.6875 48.390625 \nQ 23 48.390625 18.546875 47.265625 \nQ 14.109375 46.140625 10.015625 43.890625 \nL 10.015625 52.203125 \nQ 14.9375 54.109375 19.578125 55.046875 \nQ 24.21875 56 28.609375 56 \nQ 40.484375 56 46.34375 49.84375 \nQ 52.203125 43.703125 52.203125 31.203125 \nz\n\" id=\"DejaVuSans-97\"/>\n     <path d=\"M 41.109375 46.296875 \nQ 39.59375 47.171875 37.8125 47.578125 \nQ 36.03125 48 33.890625 48 \nQ 26.265625 48 22.1875 43.046875 \nQ 18.109375 38.09375 18.109375 28.8125 \nL 18.109375 0 \nL 9.078125 0 \nL 9.078125 54.6875 \nL 18.109375 54.6875 \nL 18.109375 46.1875 \nQ 20.953125 51.171875 25.484375 53.578125 \nQ 30.03125 56 36.53125 56 \nQ 37.453125 56 38.578125 55.875 \nQ 39.703125 55.765625 41.0625 55.515625 \nz\n\" id=\"DejaVuSans-114\"/>\n     <path d=\"M 48.6875 27.296875 \nQ 48.6875 37.203125 44.609375 42.84375 \nQ 40.53125 48.484375 33.40625 48.484375 \nQ 26.265625 48.484375 22.1875 42.84375 \nQ 18.109375 37.203125 18.109375 27.296875 \nQ 18.109375 17.390625 22.1875 11.75 \nQ 26.265625 6.109375 33.40625 6.109375 \nQ 40.53125 6.109375 44.609375 11.75 \nQ 48.6875 17.390625 48.6875 27.296875 \nz\nM 18.109375 46.390625 \nQ 20.953125 51.265625 25.265625 53.625 \nQ 29.59375 56 35.59375 56 \nQ 45.5625 56 51.78125 48.09375 \nQ 58.015625 40.1875 58.015625 27.296875 \nQ 58.015625 14.40625 51.78125 6.484375 \nQ 45.5625 -1.421875 35.59375 -1.421875 \nQ 29.59375 -1.421875 25.265625 0.953125 \nQ 20.953125 3.328125 18.109375 8.203125 \nL 18.109375 0 \nL 9.078125 0 \nL 9.078125 75.984375 \nL 18.109375 75.984375 \nz\n\" id=\"DejaVuSans-98\"/>\n     <path d=\"M 30.609375 48.390625 \nQ 23.390625 48.390625 19.1875 42.75 \nQ 14.984375 37.109375 14.984375 27.296875 \nQ 14.984375 17.484375 19.15625 11.84375 \nQ 23.34375 6.203125 30.609375 6.203125 \nQ 37.796875 6.203125 41.984375 11.859375 \nQ 46.1875 17.53125 46.1875 27.296875 \nQ 46.1875 37.015625 41.984375 42.703125 \nQ 37.796875 48.390625 30.609375 48.390625 \nz\nM 30.609375 56 \nQ 42.328125 56 49.015625 48.375 \nQ 55.71875 40.765625 55.71875 27.296875 \nQ 55.71875 13.875 49.015625 6.21875 \nQ 42.328125 -1.421875 30.609375 -1.421875 \nQ 18.84375 -1.421875 12.171875 6.21875 \nQ 5.515625 13.875 5.515625 27.296875 \nQ 5.515625 40.765625 12.171875 48.375 \nQ 18.84375 56 30.609375 56 \nz\nM 37.40625 79.984375 \nL 47.125 79.984375 \nL 31.203125 61.625 \nL 23.734375 61.625 \nz\n\" id=\"DejaVuSans-243\"/>\n     <path d=\"M 9.421875 75.984375 \nL 18.40625 75.984375 \nL 18.40625 0 \nL 9.421875 0 \nz\n\" id=\"DejaVuSans-108\"/>\n     <path d=\"M 9.421875 54.6875 \nL 18.40625 54.6875 \nL 18.40625 0 \nL 9.421875 0 \nz\nM 9.421875 75.984375 \nL 18.40625 75.984375 \nL 18.40625 64.59375 \nL 9.421875 64.59375 \nz\n\" id=\"DejaVuSans-105\"/>\n     <path d=\"M 48.78125 52.59375 \nL 48.78125 44.1875 \nQ 44.96875 46.296875 41.140625 47.34375 \nQ 37.3125 48.390625 33.40625 48.390625 \nQ 24.65625 48.390625 19.8125 42.84375 \nQ 14.984375 37.3125 14.984375 27.296875 \nQ 14.984375 17.28125 19.8125 11.734375 \nQ 24.65625 6.203125 33.40625 6.203125 \nQ 37.3125 6.203125 41.140625 7.25 \nQ 44.96875 8.296875 48.78125 10.40625 \nL 48.78125 2.09375 \nQ 45.015625 0.34375 40.984375 -0.53125 \nQ 36.96875 -1.421875 32.421875 -1.421875 \nQ 20.0625 -1.421875 12.78125 6.34375 \nQ 5.515625 14.109375 5.515625 27.296875 \nQ 5.515625 40.671875 12.859375 48.328125 \nQ 20.21875 56 33.015625 56 \nQ 37.15625 56 41.109375 55.140625 \nQ 45.0625 54.296875 48.78125 52.59375 \nz\n\" id=\"DejaVuSans-99\"/>\n     <path d=\"M 30.609375 48.390625 \nQ 23.390625 48.390625 19.1875 42.75 \nQ 14.984375 37.109375 14.984375 27.296875 \nQ 14.984375 17.484375 19.15625 11.84375 \nQ 23.34375 6.203125 30.609375 6.203125 \nQ 37.796875 6.203125 41.984375 11.859375 \nQ 46.1875 17.53125 46.1875 27.296875 \nQ 46.1875 37.015625 41.984375 42.703125 \nQ 37.796875 48.390625 30.609375 48.390625 \nz\nM 30.609375 56 \nQ 42.328125 56 49.015625 48.375 \nQ 55.71875 40.765625 55.71875 27.296875 \nQ 55.71875 13.875 49.015625 6.21875 \nQ 42.328125 -1.421875 30.609375 -1.421875 \nQ 18.84375 -1.421875 12.171875 6.21875 \nQ 5.515625 13.875 5.515625 27.296875 \nQ 5.515625 40.765625 12.171875 48.375 \nQ 18.84375 56 30.609375 56 \nz\n\" id=\"DejaVuSans-111\"/>\n     <path d=\"M 54.890625 33.015625 \nL 54.890625 0 \nL 45.90625 0 \nL 45.90625 32.71875 \nQ 45.90625 40.484375 42.875 44.328125 \nQ 39.84375 48.1875 33.796875 48.1875 \nQ 26.515625 48.1875 22.3125 43.546875 \nQ 18.109375 38.921875 18.109375 30.90625 \nL 18.109375 0 \nL 9.078125 0 \nL 9.078125 54.6875 \nL 18.109375 54.6875 \nL 18.109375 46.1875 \nQ 21.34375 51.125 25.703125 53.5625 \nQ 30.078125 56 35.796875 56 \nQ 45.21875 56 50.046875 50.171875 \nQ 54.890625 44.34375 54.890625 33.015625 \nz\n\" id=\"DejaVuSans-110\"/>\n     <path d=\"M 5.515625 54.6875 \nL 48.1875 54.6875 \nL 48.1875 46.484375 \nL 14.40625 7.171875 \nL 48.1875 7.171875 \nL 48.1875 0 \nL 4.296875 0 \nL 4.296875 8.203125 \nL 38.09375 47.515625 \nL 5.515625 47.515625 \nz\n\" id=\"DejaVuSans-122\"/>\n     <path d=\"M 52 44.1875 \nQ 55.375 50.25 60.0625 53.125 \nQ 64.75 56 71.09375 56 \nQ 79.640625 56 84.28125 50.015625 \nQ 88.921875 44.046875 88.921875 33.015625 \nL 88.921875 0 \nL 79.890625 0 \nL 79.890625 32.71875 \nQ 79.890625 40.578125 77.09375 44.375 \nQ 74.3125 48.1875 68.609375 48.1875 \nQ 61.625 48.1875 57.5625 43.546875 \nQ 53.515625 38.921875 53.515625 30.90625 \nL 53.515625 0 \nL 44.484375 0 \nL 44.484375 32.71875 \nQ 44.484375 40.625 41.703125 44.40625 \nQ 38.921875 48.1875 33.109375 48.1875 \nQ 26.21875 48.1875 22.15625 43.53125 \nQ 18.109375 38.875 18.109375 30.90625 \nL 18.109375 0 \nL 9.078125 0 \nL 9.078125 54.6875 \nL 18.109375 54.6875 \nL 18.109375 46.1875 \nQ 21.1875 51.21875 25.484375 53.609375 \nQ 29.78125 56 35.6875 56 \nQ 41.65625 56 45.828125 52.96875 \nQ 50 49.953125 52 44.1875 \nz\n\" id=\"DejaVuSans-109\"/>\n     <path d=\"M 18.3125 70.21875 \nL 18.3125 54.6875 \nL 36.8125 54.6875 \nL 36.8125 47.703125 \nL 18.3125 47.703125 \nL 18.3125 18.015625 \nQ 18.3125 11.328125 20.140625 9.421875 \nQ 21.96875 7.515625 27.59375 7.515625 \nL 36.8125 7.515625 \nL 36.8125 0 \nL 27.59375 0 \nQ 17.1875 0 13.234375 3.875 \nQ 9.28125 7.765625 9.28125 18.015625 \nL 9.28125 47.703125 \nL 2.6875 47.703125 \nL 2.6875 54.6875 \nL 9.28125 54.6875 \nL 9.28125 70.21875 \nz\n\" id=\"DejaVuSans-116\"/>\n     <path d=\"M 4.890625 31.390625 \nL 31.203125 31.390625 \nL 31.203125 23.390625 \nL 4.890625 23.390625 \nz\n\" id=\"DejaVuSans-45\"/>\n     <path d=\"M 10.59375 45.40625 \nL 73.1875 45.40625 \nL 73.1875 37.203125 \nL 10.59375 37.203125 \nz\nM 10.59375 25.484375 \nL 73.1875 25.484375 \nL 73.1875 17.1875 \nL 10.59375 17.1875 \nz\n\" id=\"DejaVuSans-61\"/>\n     <path d=\"M 40.578125 39.3125 \nQ 47.65625 37.796875 51.625 33 \nQ 55.609375 28.21875 55.609375 21.1875 \nQ 55.609375 10.40625 48.1875 4.484375 \nQ 40.765625 -1.421875 27.09375 -1.421875 \nQ 22.515625 -1.421875 17.65625 -0.515625 \nQ 12.796875 0.390625 7.625 2.203125 \nL 7.625 11.71875 \nQ 11.71875 9.328125 16.59375 8.109375 \nQ 21.484375 6.890625 26.8125 6.890625 \nQ 36.078125 6.890625 40.9375 10.546875 \nQ 45.796875 14.203125 45.796875 21.1875 \nQ 45.796875 27.640625 41.28125 31.265625 \nQ 36.765625 34.90625 28.71875 34.90625 \nL 20.21875 34.90625 \nL 20.21875 43.015625 \nL 29.109375 43.015625 \nQ 36.375 43.015625 40.234375 45.921875 \nQ 44.09375 48.828125 44.09375 54.296875 \nQ 44.09375 59.90625 40.109375 62.90625 \nQ 36.140625 65.921875 28.71875 65.921875 \nQ 24.65625 65.921875 20.015625 65.03125 \nQ 15.375 64.15625 9.8125 62.3125 \nL 9.8125 71.09375 \nQ 15.4375 72.65625 20.34375 73.4375 \nQ 25.25 74.21875 29.59375 74.21875 \nQ 40.828125 74.21875 47.359375 69.109375 \nQ 53.90625 64.015625 53.90625 55.328125 \nQ 53.90625 49.265625 50.4375 45.09375 \nQ 46.96875 40.921875 40.578125 39.3125 \nz\n\" id=\"DejaVuSans-51\"/>\n     <path d=\"M 11.71875 12.40625 \nL 22.015625 12.40625 \nL 22.015625 4 \nL 14.015625 -11.625 \nL 7.71875 -11.625 \nL 11.71875 4 \nz\n\" id=\"DejaVuSans-44\"/>\n     <path d=\"M 28.609375 0 \nL 0.78125 72.90625 \nL 11.078125 72.90625 \nL 34.1875 11.53125 \nL 57.328125 72.90625 \nL 67.578125 72.90625 \nL 39.796875 0 \nz\n\" id=\"DejaVuSans-86\"/>\n     <path d=\"M 45.40625 27.984375 \nQ 45.40625 37.75 41.375 43.109375 \nQ 37.359375 48.484375 30.078125 48.484375 \nQ 22.859375 48.484375 18.828125 43.109375 \nQ 14.796875 37.75 14.796875 27.984375 \nQ 14.796875 18.265625 18.828125 12.890625 \nQ 22.859375 7.515625 30.078125 7.515625 \nQ 37.359375 7.515625 41.375 12.890625 \nQ 45.40625 18.265625 45.40625 27.984375 \nz\nM 54.390625 6.78125 \nQ 54.390625 -7.171875 48.1875 -13.984375 \nQ 42 -20.796875 29.203125 -20.796875 \nQ 24.46875 -20.796875 20.265625 -20.09375 \nQ 16.0625 -19.390625 12.109375 -17.921875 \nL 12.109375 -9.1875 \nQ 16.0625 -11.328125 19.921875 -12.34375 \nQ 23.78125 -13.375 27.78125 -13.375 \nQ 36.625 -13.375 41.015625 -8.765625 \nQ 45.40625 -4.15625 45.40625 5.171875 \nL 45.40625 9.625 \nQ 42.625 4.78125 38.28125 2.390625 \nQ 33.9375 0 27.875 0 \nQ 17.828125 0 11.671875 7.65625 \nQ 5.515625 15.328125 5.515625 27.984375 \nQ 5.515625 40.671875 11.671875 48.328125 \nQ 17.828125 56 27.875 56 \nQ 33.9375 56 38.28125 53.609375 \nQ 42.625 51.21875 45.40625 46.390625 \nL 45.40625 54.6875 \nL 54.390625 54.6875 \nz\n\" id=\"DejaVuSans-103\"/>\n     <path d=\"M 10.984375 1.515625 \nL 10.984375 10.5 \nQ 14.703125 8.734375 18.5 7.8125 \nQ 22.3125 6.890625 25.984375 6.890625 \nQ 35.75 6.890625 40.890625 13.453125 \nQ 46.046875 20.015625 46.78125 33.40625 \nQ 43.953125 29.203125 39.59375 26.953125 \nQ 35.25 24.703125 29.984375 24.703125 \nQ 19.046875 24.703125 12.671875 31.3125 \nQ 6.296875 37.9375 6.296875 49.421875 \nQ 6.296875 60.640625 12.9375 67.421875 \nQ 19.578125 74.21875 30.609375 74.21875 \nQ 43.265625 74.21875 49.921875 64.515625 \nQ 56.59375 54.828125 56.59375 36.375 \nQ 56.59375 19.140625 48.40625 8.859375 \nQ 40.234375 -1.421875 26.421875 -1.421875 \nQ 22.703125 -1.421875 18.890625 -0.6875 \nQ 15.09375 0.046875 10.984375 1.515625 \nz\nM 30.609375 32.421875 \nQ 37.25 32.421875 41.125 36.953125 \nQ 45.015625 41.5 45.015625 49.421875 \nQ 45.015625 57.28125 41.125 61.84375 \nQ 37.25 66.40625 30.609375 66.40625 \nQ 23.96875 66.40625 20.09375 61.84375 \nQ 16.21875 57.28125 16.21875 49.421875 \nQ 16.21875 41.5 20.09375 36.953125 \nQ 23.96875 32.421875 30.609375 32.421875 \nz\n\" id=\"DejaVuSans-57\"/>\n     <path d=\"M 9.078125 75.984375 \nL 18.109375 75.984375 \nL 18.109375 31.109375 \nL 44.921875 54.6875 \nL 56.390625 54.6875 \nL 27.390625 29.109375 \nL 57.625 0 \nL 45.90625 0 \nL 18.109375 26.703125 \nL 18.109375 0 \nL 9.078125 0 \nz\n\" id=\"DejaVuSans-107\"/>\n     <path d=\"M 4.203125 54.6875 \nL 13.1875 54.6875 \nL 24.421875 12.015625 \nL 35.59375 54.6875 \nL 46.1875 54.6875 \nL 57.421875 12.015625 \nL 68.609375 54.6875 \nL 77.59375 54.6875 \nL 63.28125 0 \nL 52.6875 0 \nL 40.921875 44.828125 \nL 29.109375 0 \nL 18.5 0 \nz\n\" id=\"DejaVuSans-119\"/>\n     <path d=\"M 18.109375 8.203125 \nL 18.109375 -20.796875 \nL 9.078125 -20.796875 \nL 9.078125 54.6875 \nL 18.109375 54.6875 \nL 18.109375 46.390625 \nQ 20.953125 51.265625 25.265625 53.625 \nQ 29.59375 56 35.59375 56 \nQ 45.5625 56 51.78125 48.09375 \nQ 58.015625 40.1875 58.015625 27.296875 \nQ 58.015625 14.40625 51.78125 6.484375 \nQ 45.5625 -1.421875 35.59375 -1.421875 \nQ 29.59375 -1.421875 25.265625 0.953125 \nQ 20.953125 3.328125 18.109375 8.203125 \nz\nM 48.6875 27.296875 \nQ 48.6875 37.203125 44.609375 42.84375 \nQ 40.53125 48.484375 33.40625 48.484375 \nQ 26.265625 48.484375 22.1875 42.84375 \nQ 18.109375 37.203125 18.109375 27.296875 \nQ 18.109375 17.390625 22.1875 11.75 \nQ 26.265625 6.109375 33.40625 6.109375 \nQ 40.53125 6.109375 44.609375 11.75 \nQ 48.6875 17.390625 48.6875 27.296875 \nz\n\" id=\"DejaVuSans-112\"/>\n     <path d=\"M 25.390625 72.90625 \nL 33.6875 72.90625 \nL 8.296875 -9.28125 \nL 0 -9.28125 \nz\n\" id=\"DejaVuSans-47\"/>\n    </defs>\n    <g transform=\"translate(7.2 16.798125)scale(0.12 -0.12)\">\n     <use xlink:href=\"#DejaVuSans-84\"/>\n     <use x=\"49.208984\" xlink:href=\"#DejaVuSans-46\"/>\n     <use x=\"80.996094\" xlink:href=\"#DejaVuSans-32\"/>\n     <use x=\"112.783203\" xlink:href=\"#DejaVuSans-80\"/>\n     <use x=\"168.585938\" xlink:href=\"#DejaVuSans-97\"/>\n     <use x=\"229.865234\" xlink:href=\"#DejaVuSans-114\"/>\n     <use x=\"270.978516\" xlink:href=\"#DejaVuSans-97\"/>\n     <use x=\"332.257812\" xlink:href=\"#DejaVuSans-98\"/>\n     <use x=\"395.734375\" xlink:href=\"#DejaVuSans-243\"/>\n     <use x=\"456.916016\" xlink:href=\"#DejaVuSans-108\"/>\n     <use x=\"484.699219\" xlink:href=\"#DejaVuSans-105\"/>\n     <use x=\"512.482422\" xlink:href=\"#DejaVuSans-99\"/>\n     <use x=\"567.462891\" xlink:href=\"#DejaVuSans-111\"/>\n     <use x=\"628.644531\" xlink:href=\"#DejaVuSans-32\"/>\n     <use x=\"660.431641\" xlink:href=\"#DejaVuSans-99\"/>\n     <use x=\"715.412109\" xlink:href=\"#DejaVuSans-111\"/>\n     <use x=\"776.59375\" xlink:href=\"#DejaVuSans-110\"/>\n     <use x=\"839.972656\" xlink:href=\"#DejaVuSans-32\"/>\n     <use x=\"871.759766\" xlink:href=\"#DejaVuSans-114\"/>\n     <use x=\"910.623047\" xlink:href=\"#DejaVuSans-111\"/>\n     <use x=\"971.804688\" xlink:href=\"#DejaVuSans-122\"/>\n     <use x=\"1024.294922\" xlink:href=\"#DejaVuSans-97\"/>\n     <use x=\"1085.574219\" xlink:href=\"#DejaVuSans-109\"/>\n     <use x=\"1182.986328\" xlink:href=\"#DejaVuSans-105\"/>\n     <use x=\"1210.769531\" xlink:href=\"#DejaVuSans-101\"/>\n     <use x=\"1272.292969\" xlink:href=\"#DejaVuSans-110\"/>\n     <use x=\"1335.671875\" xlink:href=\"#DejaVuSans-116\"/>\n     <use x=\"1374.880859\" xlink:href=\"#DejaVuSans-111\"/>\n     <use x=\"1436.0625\" xlink:href=\"#DejaVuSans-32\"/>\n     <use x=\"1467.849609\" xlink:href=\"#DejaVuSans-45\"/>\n     <use x=\"1503.933594\" xlink:href=\"#DejaVuSans-32\"/>\n     <use x=\"1535.720703\" xlink:href=\"#DejaVuSans-109\"/>\n     <use x=\"1633.132812\" xlink:href=\"#DejaVuSans-61\"/>\n     <use x=\"1716.921875\" xlink:href=\"#DejaVuSans-51\"/>\n     <use x=\"1780.544922\" xlink:href=\"#DejaVuSans-32\"/>\n     <use x=\"1812.332031\" xlink:href=\"#DejaVuSans-44\"/>\n     <use x=\"1844.119141\" xlink:href=\"#DejaVuSans-32\"/>\n     <use x=\"1875.90625\" xlink:href=\"#DejaVuSans-86\"/>\n     <use x=\"1936.564453\" xlink:href=\"#DejaVuSans-111\"/>\n     <use x=\"1997.746094\" xlink:href=\"#DejaVuSans-61\"/>\n     <use x=\"2081.535156\" xlink:href=\"#DejaVuSans-49\"/>\n     <use x=\"2145.158203\" xlink:href=\"#DejaVuSans-50\"/>\n     <use x=\"2208.78125\" xlink:href=\"#DejaVuSans-48\"/>\n     <use x=\"2272.404297\" xlink:href=\"#DejaVuSans-44\"/>\n     <use x=\"2304.191406\" xlink:href=\"#DejaVuSans-32\"/>\n     <use x=\"2335.978516\" xlink:href=\"#DejaVuSans-103\"/>\n     <use x=\"2399.455078\" xlink:href=\"#DejaVuSans-61\"/>\n     <use x=\"2483.244141\" xlink:href=\"#DejaVuSans-57\"/>\n     <use x=\"2546.867188\" xlink:href=\"#DejaVuSans-46\"/>\n     <use x=\"2578.654297\" xlink:href=\"#DejaVuSans-56\"/>\n     <use x=\"2642.277344\" xlink:href=\"#DejaVuSans-44\"/>\n     <use x=\"2674.064453\" xlink:href=\"#DejaVuSans-32\"/>\n     <use x=\"2705.851562\" xlink:href=\"#DejaVuSans-107\"/>\n     <use x=\"2763.761719\" xlink:href=\"#DejaVuSans-61\"/>\n     <use x=\"2847.550781\" xlink:href=\"#DejaVuSans-48\"/>\n     <use x=\"2911.173828\" xlink:href=\"#DejaVuSans-46\"/>\n     <use x=\"2942.960938\" xlink:href=\"#DejaVuSans-48\"/>\n     <use x=\"3006.583984\" xlink:href=\"#DejaVuSans-50\"/>\n     <use x=\"3070.207031\" xlink:href=\"#DejaVuSans-44\"/>\n     <use x=\"3101.994141\" xlink:href=\"#DejaVuSans-32\"/>\n     <use x=\"3133.78125\" xlink:href=\"#DejaVuSans-119\"/>\n     <use x=\"3215.568359\" xlink:href=\"#DejaVuSans-61\"/>\n     <use x=\"3299.357422\" xlink:href=\"#DejaVuSans-112\"/>\n     <use x=\"3362.833984\" xlink:href=\"#DejaVuSans-105\"/>\n     <use x=\"3390.617188\" xlink:href=\"#DejaVuSans-47\"/>\n     <use x=\"3424.308594\" xlink:href=\"#DejaVuSans-52\"/>\n     <use x=\"3487.931641\" xlink:href=\"#DejaVuSans-32\"/>\n    </g>\n   </g>\n  </g>\n </g>\n <defs>\n  <clipPath id=\"p42393280fa\">\n   <rect height=\"217.44\" width=\"334.8\" x=\"50.980312\" y=\"22.798125\"/>\n  </clipPath>\n </defs>\n</svg>\n",
            "image/png": "[encoded data removed]"
          },
          "metadata": {
            "needs_background": "light"
          }
        }
      ]
    }
  ]
}