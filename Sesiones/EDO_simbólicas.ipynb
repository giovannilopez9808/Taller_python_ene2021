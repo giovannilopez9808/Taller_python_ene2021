{
  "nbformat": 4,
  "nbformat_minor": 0,
  "metadata": {
    "colab": {
      "name": "EDO_simbólicas.ipynb",
      "provenance": [],
      "collapsed_sections": []
    },
    "kernelspec": {
      "name": "python3",
      "display_name": "Python 3"
    }
  },
  "cells": [
    {
      "cell_type": "markdown",
      "metadata": {
        "id": "iAO7Tzj_RNbg"
      },
      "source": [
        "# Computación simbolica con Simpy\n",
        "\n",
        "El cálculo simbólico se ocupa del cálculo de objetos matemáticos de forma simbólica. Esto significa que los objetos matemáticos se representan exactamente, no aproximadamente, y las expresiones matemáticas con variables no evaluadas se dejan en forma simbólica.\n",
        "\n",
        "Aterricemos mejor el concepto de simbolo y a que nos referimos con \"simbolico o númerico\":\n",
        "\n",
        "Pensemos en la raíz de 9\n",
        "\n",
        "$$ \\sqrt{9} = 3 $$\n",
        "\n",
        "Tiene como solución un número entero bien definido.\n",
        "\n",
        "Ahora en la raíz de 8\n",
        "\n",
        "$$ \\sqrt{8} = 2\\sqrt{2} \\approx 2.828427 $$\n",
        "\n",
        "No existe número racional de la forma a/b o un número en la forma decimal que pueda representar propiamente el valor de $ \\sqrt{8} $, por ello su valor suele representarse de forma simbólica.\n",
        "\n",
        "Lo mismo pasa con otros números irracionales como $ \\pi $ y $ e $.\n",
        "\n",
        "Veamos la comparación de esto en Python:\n",
        "\n",
        "\n"
      ]
    },
    {
      "cell_type": "code",
      "metadata": {
        "colab": {
          "base_uri": "https://localhost:8080/",
          "height": 37
        },
        "id": "mGJC5ykqTTQO",
        "outputId": "9186819b-66d1-4198-c2c2-4c3e7f4ebd40"
      },
      "source": [
        "# RAÍZ NUMERICA DE 8 \n",
        "\n",
        "import numpy as np\n",
        "\n",
        "np.sqrt(8)"
      ],
      "execution_count": 38,
      "outputs": [
        {
          "output_type": "execute_result",
          "data": {
            "image/png": "[encoded data removed]",
            "text/latex": "$\\displaystyle 2.82842712474619$",
            "text/plain": [
              "2.8284271247461903"
            ]
          },
          "metadata": {
            "tags": []
          },
          "execution_count": 38
        }
      ]
    },
    {
      "cell_type": "code",
      "metadata": {
        "colab": {
          "base_uri": "https://localhost:8080/",
          "height": 38
        },
        "id": "Wk_javBKUVZ1",
        "outputId": "49b6cd94-1a98-412f-820c-93ef3ef46f4a"
      },
      "source": [
        "# RAÍZ SIMBOLICA DE 8 \n",
        "import sympy\n",
        "sympy.sqrt(8)   "
      ],
      "execution_count": 39,
      "outputs": [
        {
          "output_type": "execute_result",
          "data": {
            "image/png": "[encoded data removed]",
            "text/latex": "$\\displaystyle 2 \\sqrt{2}$",
            "text/plain": [
              "2⋅√2"
            ]
          },
          "metadata": {
            "tags": []
          },
          "execution_count": 39
        }
      ]
    },
    {
      "cell_type": "markdown",
      "metadata": {
        "id": "PLV2WbS3VkPf"
      },
      "source": [
        "## Expresiones algebraícas simbolicas\n",
        "\n",
        "Algo más interesante es el hecho de poder representar expresiones algebraícas y poder construir algunos sistemas más complejos:\n",
        "\n",
        "$$ 3x+4y $$\n",
        "\n",
        "Es una expresión algebraíca que la podemos expresar de forma simbolica en python"
      ]
    },
    {
      "cell_type": "code",
      "metadata": {
        "colab": {
          "base_uri": "https://localhost:8080/",
          "height": 38
        },
        "id": "qlNZUvubaMx-",
        "outputId": "603a142e-6b3c-4e04-8c56-a13daf78c6ff"
      },
      "source": [
        "from sympy import symbols\n",
        "\n",
        "x, y, z= symbols('x y z')\n",
        "\n",
        "expr = 3*x+4*y+5*z\n",
        "expr"
      ],
      "execution_count": 40,
      "outputs": [
        {
          "output_type": "execute_result",
          "data": {
            "image/png": "[encoded data removed]",
            "text/latex": "$\\displaystyle 3 x + 4 y + 5 z$",
            "text/plain": [
              "3⋅x + 4⋅y + 5⋅z"
            ]
          },
          "metadata": {
            "tags": []
          },
          "execution_count": 40
        }
      ]
    },
    {
      "cell_type": "markdown",
      "metadata": {
        "id": "JZwzwd0qalkp"
      },
      "source": [
        "Ahora podemos querer expresar la siguiente:\n",
        "\n",
        "$$ (3x+4y)^{2} $$"
      ]
    },
    {
      "cell_type": "code",
      "metadata": {
        "colab": {
          "base_uri": "https://localhost:8080/",
          "height": 39
        },
        "id": "7xtoeQxRazoF",
        "outputId": "dd7d383a-77b0-46e6-decf-6f4424b4244a"
      },
      "source": [
        "expr_square = expr**2\n",
        "expr_square"
      ],
      "execution_count": 41,
      "outputs": [
        {
          "output_type": "execute_result",
          "data": {
            "image/png": "[encoded data removed]",
            "text/latex": "$\\displaystyle \\left(3 x + 4 y + 5 z\\right)^{2}$",
            "text/plain": [
              "                 2\n",
              "(3⋅x + 4⋅y + 5⋅z) "
            ]
          },
          "metadata": {
            "tags": []
          },
          "execution_count": 41
        }
      ]
    },
    {
      "cell_type": "markdown",
      "metadata": {
        "id": "BcowjmCdDkfB"
      },
      "source": [
        "Podemos desarrollar una expresión algebraíca \n",
        "\n",
        "\n",
        "```\n",
        "# expr.expand()\n",
        "```\n",
        "\n"
      ]
    },
    {
      "cell_type": "code",
      "metadata": {
        "colab": {
          "base_uri": "https://localhost:8080/",
          "height": 38
        },
        "id": "QSoTYObQbTR3",
        "outputId": "ed5698f3-7c3a-41fe-caf8-7eeb44e12499"
      },
      "source": [
        "expanded_expr_square = expr_square.expand()\n",
        "expanded_expr_square"
      ],
      "execution_count": 42,
      "outputs": [
        {
          "output_type": "execute_result",
          "data": {
            "image/png": "[encoded data removed]",
            "text/latex": "$\\displaystyle 9 x^{2} + 24 x y + 30 x z + 16 y^{2} + 40 y z + 25 z^{2}$",
            "text/plain": [
              "   2                         2                2\n",
              "9⋅x  + 24⋅x⋅y + 30⋅x⋅z + 16⋅y  + 40⋅y⋅z + 25⋅z "
            ]
          },
          "metadata": {
            "tags": []
          },
          "execution_count": 42
        }
      ]
    },
    {
      "cell_type": "markdown",
      "metadata": {
        "id": "Y07XuqaUD6D8"
      },
      "source": [
        "Podemos factorizar una expresión algebraíca \n",
        "\n",
        "\n",
        "```\n",
        "# expr.factor()\n",
        "```"
      ]
    },
    {
      "cell_type": "code",
      "metadata": {
        "colab": {
          "base_uri": "https://localhost:8080/",
          "height": 39
        },
        "id": "fbTFkRHwETKS",
        "outputId": "47ce77c4-5161-4625-ecd5-b41ed6e1ed05"
      },
      "source": [
        "simplify_expr_square = expanded_expr_square.factor()\n",
        "simplify_expr_square"
      ],
      "execution_count": 43,
      "outputs": [
        {
          "output_type": "execute_result",
          "data": {
            "image/png": "[encoded data removed]",
            "text/latex": "$\\displaystyle \\left(3 x + 4 y + 5 z\\right)^{2}$",
            "text/plain": [
              "                 2\n",
              "(3⋅x + 4⋅y + 5⋅z) "
            ]
          },
          "metadata": {
            "tags": []
          },
          "execution_count": 43
        }
      ]
    },
    {
      "cell_type": "markdown",
      "metadata": {
        "id": "QIz43b9OcUjc"
      },
      "source": [
        "El poder real de un sistema de cálculo simbólico como SymPy es la capacidad de realizar todo tipo de cálculos simbólicamente. SymPy puede calcular derivadas, integrales y límites, resolver ecuaciones, trabajar con matrices y mucho, mucho más, y hacerlo todo simbólicamente.\n",
        "\n"
      ]
    },
    {
      "cell_type": "code",
      "metadata": {
        "id": "cmJbIt3Bcen9"
      },
      "source": [
        "from sympy import *\n",
        "x, t, z, nu = symbols('x t z nu')\n",
        "init_printing(use_unicode=True)"
      ],
      "execution_count": 44,
      "outputs": []
    },
    {
      "cell_type": "markdown",
      "metadata": {
        "id": "553H4y00cymA"
      },
      "source": [
        "Ya definidas unas cuantas variables simbolicas, vamos a probar una serie de comandos básicos.\n",
        "\n",
        "\n",
        "\n",
        "1.   Derivadas\n",
        "\n",
        "$$ f(x) = e^{x} sin(x) $$\n",
        "$$ f'(x) = e^{x}sin(x) + e^{x}cos(x) $$\n",
        "\n",
        "\n"
      ]
    },
    {
      "cell_type": "code",
      "metadata": {
        "colab": {
          "base_uri": "https://localhost:8080/",
          "height": 38
        },
        "id": "IyWOOYugdpgq",
        "outputId": "460d11c8-0520-4469-ed62-c82354d07feb"
      },
      "source": [
        "f= exp(x)*sin(x)    # Creamos la función simbolica\n",
        "diff(f,x)           # Diferenciamos f respecto a x"
      ],
      "execution_count": 45,
      "outputs": [
        {
          "output_type": "execute_result",
          "data": {
            "image/png": "[encoded data removed]",
            "text/latex": "$\\displaystyle e^{x} \\sin{\\left(x \\right)} + e^{x} \\cos{\\left(x \\right)}$",
            "text/plain": [
              " x           x       \n",
              "ℯ ⋅sin(x) + ℯ ⋅cos(x)"
            ]
          },
          "metadata": {
            "tags": []
          },
          "execution_count": 45
        }
      ]
    },
    {
      "cell_type": "code",
      "metadata": {
        "colab": {
          "base_uri": "https://localhost:8080/",
          "height": 38
        },
        "id": "u5Pi-DLqeAfy",
        "outputId": "e53edf5b-6261-41d0-a96a-b4ac48f52254"
      },
      "source": [
        "f= exp(x)*sin(x)+z*cos(x)    # Creamos la función simbolica\n",
        "diff(f,z)                    # Diferenciamos f respecto a x"
      ],
      "execution_count": 46,
      "outputs": [
        {
          "output_type": "execute_result",
          "data": {
            "image/png": "[encoded data removed]",
            "text/latex": "$\\displaystyle \\cos{\\left(x \\right)}$",
            "text/plain": [
              "cos(x)"
            ]
          },
          "metadata": {
            "tags": []
          },
          "execution_count": 46
        }
      ]
    },
    {
      "cell_type": "markdown",
      "metadata": {
        "id": "zKOmJzHDecy4"
      },
      "source": [
        "Notemos como podemos definir funciones de una y más variables y tambien derivar respecto a distintas variables, es decir, derivadas parciales.\n",
        "\n",
        "2. Integrales\n",
        "\n",
        "$$ \\int \\frac{1}{x} dx = ln(x) + C  $$"
      ]
    },
    {
      "cell_type": "code",
      "metadata": {
        "colab": {
          "base_uri": "https://localhost:8080/",
          "height": 38
        },
        "id": "SLYXbtlofFw1",
        "outputId": "98067fbb-819f-4c24-dd09-be9871c0f26e"
      },
      "source": [
        "integrando= 1/x\n",
        "\n",
        "integrate(integrando, x)"
      ],
      "execution_count": 47,
      "outputs": [
        {
          "output_type": "execute_result",
          "data": {
            "image/png": "[encoded data removed]",
            "text/latex": "$\\displaystyle \\log{\\left(x \\right)}$",
            "text/plain": [
              "log(x)"
            ]
          },
          "metadata": {
            "tags": []
          },
          "execution_count": 47
        }
      ]
    },
    {
      "cell_type": "markdown",
      "metadata": {
        "id": "ZqYJERypfldL"
      },
      "source": [
        "Ahora pongamos limites de integración:\n",
        "\n",
        "$$ \\int_{0}^{1} e^{x}cos(x) dx  $$"
      ]
    },
    {
      "cell_type": "code",
      "metadata": {
        "colab": {
          "base_uri": "https://localhost:8080/",
          "height": 55
        },
        "id": "XhXjIVVwPuk0",
        "outputId": "9897a4eb-fd32-4acd-c796-0d9169ef96c9"
      },
      "source": [
        "integrando= exp(x)*cos(x)\n",
        "\n",
        "integrate(integrando, (x, 0, pi/2))\n"
      ],
      "execution_count": 48,
      "outputs": [
        {
          "output_type": "execute_result",
          "data": {
            "image/png": "[encoded data removed]",
            "text/latex": "$\\displaystyle - \\frac{1}{2} + \\frac{e^{\\frac{\\pi}{2}}}{2}$",
            "text/plain": [
              "       π\n",
              "       ─\n",
              "       2\n",
              "  1   ℯ \n",
              "- ─ + ──\n",
              "  2   2 "
            ]
          },
          "metadata": {
            "tags": []
          },
          "execution_count": 48
        }
      ]
    },
    {
      "cell_type": "markdown",
      "metadata": {
        "id": "wq6kJNTxgtHF"
      },
      "source": [
        "$$\\int_{-\\infty}^{\\infty} \\sin{(x^2)} dx  $$"
      ]
    },
    {
      "cell_type": "code",
      "metadata": {
        "colab": {
          "base_uri": "https://localhost:8080/",
          "height": 56
        },
        "id": "miD9Yv4lRM-r",
        "outputId": "0ce77b76-3a27-4b6b-d93d-051ccba0faaa"
      },
      "source": [
        "integrando = sin(x**2)\n",
        "\n",
        "integrate(integrando, (x, -oo, oo))\n"
      ],
      "execution_count": 49,
      "outputs": [
        {
          "output_type": "execute_result",
          "data": {
            "image/png": "[encoded data removed]",
            "text/latex": "$\\displaystyle \\frac{\\sqrt{2} \\sqrt{\\pi}}{2}$",
            "text/plain": [
              "√2⋅√π\n",
              "─────\n",
              "  2  "
            ]
          },
          "metadata": {
            "tags": []
          },
          "execution_count": 49
        }
      ]
    },
    {
      "cell_type": "markdown",
      "metadata": {
        "id": "PMq9m_2DhpoK"
      },
      "source": [
        "3. Expansión por series\n",
        "\n",
        "Tratemos de hacer la expasión por series de algunas expresiones algebraícas\n",
        "\n",
        "$$ sin(x) = x - \\frac{x^{3}}{6} + \\frac{x^{5}}{120} $$\n",
        "\n",
        "$$ cos(x) = 1 - \\frac{x^{2}}{2} + \\frac{x^{4}}{24} $$\n",
        "\n",
        "\n",
        "\n",
        "```\n",
        "# f(x).series(x, x0, n)\n",
        "```\n",
        "\n",
        "f(x) : función que se va a expresar como serie de potencias\n",
        "\n",
        "x : la variable independendiente de la función\n",
        "\n",
        "x0 : el número al rededor del cual se hace la expansión\n",
        "\n",
        "n : los primeros n términos de la serie\n",
        "\n"
      ]
    },
    {
      "cell_type": "code",
      "metadata": {
        "colab": {
          "base_uri": "https://localhost:8080/",
          "height": 54
        },
        "id": "V2gSz8MdinZV",
        "outputId": "a8954bd5-0b02-46f7-81d6-ab7e0258ff91"
      },
      "source": [
        "seno = sin(x)\n",
        "seno.series(x, 0, 6)"
      ],
      "execution_count": 50,
      "outputs": [
        {
          "output_type": "execute_result",
          "data": {
            "image/png": "[encoded data removed]",
            "text/latex": "$\\displaystyle x - \\frac{x^{3}}{6} + \\frac{x^{5}}{120} + O\\left(x^{6}\\right)$",
            "text/plain": [
              "     3     5        \n",
              "    x     x     ⎛ 6⎞\n",
              "x - ── + ─── + O⎝x ⎠\n",
              "    6    120        "
            ]
          },
          "metadata": {
            "tags": []
          },
          "execution_count": 50
        }
      ]
    },
    {
      "cell_type": "code",
      "metadata": {
        "colab": {
          "base_uri": "https://localhost:8080/",
          "height": 54
        },
        "id": "aWXYLvmokI8F",
        "outputId": "30db6c40-2005-41f8-88b4-598728fb6d39"
      },
      "source": [
        "coseno = cos(x)\n",
        "coseno.series(x, 0, 6).removeO()"
      ],
      "execution_count": 51,
      "outputs": [
        {
          "output_type": "execute_result",
          "data": {
            "image/png": "[encoded data removed]",
            "text/latex": "$\\displaystyle \\frac{x^{4}}{24} - \\frac{x^{2}}{2} + 1$",
            "text/plain": [
              " 4    2    \n",
              "x    x     \n",
              "── - ── + 1\n",
              "24   2     "
            ]
          },
          "metadata": {
            "tags": []
          },
          "execution_count": 51
        }
      ]
    },
    {
      "cell_type": "markdown",
      "metadata": {
        "id": "JvVecWTMloXW"
      },
      "source": [
        "4. Ecuaciones diferenciales\n",
        "\n",
        "Encontrar las ecuaciones de movimiento y velocidad respecto al tiempo de una particula que se mueve en un medio resistente en una trayectoria parabólica con las siguientes condiciones iniciales :\n",
        "\n",
        "$$ x(t=0)= 0 = y(t=0) $$\n",
        "$$ \\dot{x} (t=0)= V_{o}Cos{\\theta} $$\n",
        "$$ \\dot{y} (t=0)= V_{o}Sin{\\theta} $$\n"
      ]
    },
    {
      "cell_type": "markdown",
      "metadata": {
        "id": "YIjRbDoHnCqd"
      },
      "source": [
        "![parabolico.png](data:image/png;base64,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)"
      ]
    },
    {
      "cell_type": "markdown",
      "metadata": {
        "id": "YArLMwoKns3E"
      },
      "source": [
        "Las ecuaciones de movimiento que describen la trayectoria del sistema son:\n",
        "\n",
        "$$ m\\ddot{x} + km\\dot{x} = 0$$\n",
        "$$ m\\ddot{y} + km\\dot{y} + mg = 0 $$\n",
        "\n",
        " Vamos a tratar de resolverlo de forma símbolica "
      ]
    },
    {
      "cell_type": "code",
      "metadata": {
        "id": "zsYq7FbfoPJQ"
      },
      "source": [
        "# Definición de simbolos \n",
        "\n",
        "x, y = symbols('x y', cls=Function)    # Funciones\n",
        "m, k, g, t, Vo, w = symbols(' m k g t Vo w')            # Parametros (ctes)\n",
        "\n",
        "              # Pt. Izquierda igualdad            # Pt. derecha\n",
        "deqn_1 = Eq( m*x(t).diff(t).diff(t)+k*m*x(t).diff(t) ,  0 )      # Ecn. diferencial 1\n",
        "deqn_2 = Eq( m*y(t).diff(t).diff(t)+k*m*y(t).diff(t)+m*g , 0 )      # Ecn. diferencial 2\n"
      ],
      "execution_count": 52,
      "outputs": []
    },
    {
      "cell_type": "code",
      "metadata": {
        "colab": {
          "base_uri": "https://localhost:8080/",
          "height": 54
        },
        "id": "LKg7JVEnqHkM",
        "outputId": "b6d256d2-34e6-4695-a07d-0a41e19b3088"
      },
      "source": [
        "deqn_1"
      ],
      "execution_count": 53,
      "outputs": [
        {
          "output_type": "execute_result",
          "data": {
            "image/png": "[encoded data removed]",
            "text/latex": "$\\displaystyle k m \\frac{d}{d t} x{\\left(t \\right)} + m \\frac{d^{2}}{d t^{2}} x{\\left(t \\right)} = 0$",
            "text/plain": [
              "                   2          \n",
              "    d             d           \n",
              "k⋅m⋅──(x(t)) + m⋅───(x(t)) = 0\n",
              "    dt             2          \n",
              "                 dt           "
            ]
          },
          "metadata": {
            "tags": []
          },
          "execution_count": 53
        }
      ]
    },
    {
      "cell_type": "code",
      "metadata": {
        "colab": {
          "base_uri": "https://localhost:8080/",
          "height": 54
        },
        "id": "zL5DlduUqKiP",
        "outputId": "094fd93b-fb2f-4779-876c-261c7b44c12b"
      },
      "source": [
        "deqn_2"
      ],
      "execution_count": 54,
      "outputs": [
        {
          "output_type": "execute_result",
          "data": {
            "image/png": "[encoded data removed]",
            "text/latex": "$\\displaystyle g m + k m \\frac{d}{d t} y{\\left(t \\right)} + m \\frac{d^{2}}{d t^{2}} y{\\left(t \\right)} = 0$",
            "text/plain": [
              "                         2          \n",
              "          d             d           \n",
              "g⋅m + k⋅m⋅──(y(t)) + m⋅───(y(t)) = 0\n",
              "          dt             2          \n",
              "                       dt           "
            ]
          },
          "metadata": {
            "tags": []
          },
          "execution_count": 54
        }
      ]
    },
    {
      "cell_type": "markdown",
      "metadata": {
        "id": "vLF711avrbDQ"
      },
      "source": [
        "Resolvemos sin condiciones inciales:"
      ]
    },
    {
      "cell_type": "code",
      "metadata": {
        "colab": {
          "base_uri": "https://localhost:8080/",
          "height": 38
        },
        "id": "P7W4BkZVrFsP",
        "outputId": "84d8767e-4711-4c25-c388-ed70f808624b"
      },
      "source": [
        "dsolve(deqn_1, x(t))"
      ],
      "execution_count": 55,
      "outputs": [
        {
          "output_type": "execute_result",
          "data": {
            "image/png": "[encoded data removed]",
            "text/latex": "$\\displaystyle x{\\left(t \\right)} = C_{1} + C_{2} e^{- k t}$",
            "text/plain": [
              "                -k⋅t\n",
              "x(t) = C₁ + C₂⋅ℯ    "
            ]
          },
          "metadata": {
            "tags": []
          },
          "execution_count": 55
        }
      ]
    },
    {
      "cell_type": "code",
      "metadata": {
        "colab": {
          "base_uri": "https://localhost:8080/",
          "height": 51
        },
        "id": "GsakPS60rUvT",
        "outputId": "3ad32716-8b6d-4c24-8549-c1d9237745b2"
      },
      "source": [
        "dsolve(deqn_2, y(t))"
      ],
      "execution_count": 56,
      "outputs": [
        {
          "output_type": "execute_result",
          "data": {
            "image/png": "[encoded data removed]",
            "text/latex": "$\\displaystyle y{\\left(t \\right)} = C_{1} + C_{2} e^{- k t} - \\frac{g t}{k}$",
            "text/plain": [
              "                -k⋅t   g⋅t\n",
              "y(t) = C₁ + C₂⋅ℯ     - ───\n",
              "                        k "
            ]
          },
          "metadata": {
            "tags": []
          },
          "execution_count": 56
        }
      ]
    },
    {
      "cell_type": "markdown",
      "metadata": {
        "id": "AT6z2-QNrrbG"
      },
      "source": [
        "A continuación resolvemos con condiciones inciales:"
      ]
    },
    {
      "cell_type": "code",
      "metadata": {
        "id": "ninWOGKTrweu"
      },
      "source": [
        "# x(0) = 0 : x(0):0\n",
        "# x'(0)= VoCos(w) : sym.diff(x(t), t).subs(t,0): Vo*cos(w)\n",
        "\n",
        "# y(0) = 0 : x(0):0\n",
        "# y'(0)= VoSen(w) : sym.diff(x(t), t).subs(t,0): Vo*cos(w)\n",
        "\n",
        "ics_deqn_1={x(0): 0, diff(x(t), t).subs(t,0): Vo*cos(w)}\n",
        "ics_deqn_2={y(0): 0, diff(y(t), t).subs(t,0): Vo*sin(w)}\n",
        "\n",
        "# para que quede más claro como funciona cada parte\n",
        "# x'(t) : sym.diff(x(t), t)\n",
        "# x'(0) : sym.diff(x(t), t).subs(t,0)\n",
        "# y'(t) : sym.diff(y(t), t)\n",
        "# y'(0) : sym.diff(y(t), t).subs(t,0)"
      ],
      "execution_count": 57,
      "outputs": []
    },
    {
      "cell_type": "code",
      "metadata": {
        "colab": {
          "base_uri": "https://localhost:8080/",
          "height": 55
        },
        "id": "s9NrFiZitgGK",
        "outputId": "94409093-9a98-4ca5-9fc8-41783634c206"
      },
      "source": [
        "pos_eqn_1 = dsolve(deqn_1,ics=ics_deqn_1) # reemplazando condiciones iniciales\n",
        "pos_eqn_1"
      ],
      "execution_count": 58,
      "outputs": [
        {
          "output_type": "execute_result",
          "data": {
            "image/png": "[encoded data removed]",
            "text/latex": "$\\displaystyle x{\\left(t \\right)} = \\frac{Vo \\cos{\\left(w \\right)}}{k} - \\frac{Vo e^{- k t} \\cos{\\left(w \\right)}}{k}$",
            "text/plain": [
              "                       -k⋅t       \n",
              "       Vo⋅cos(w)   Vo⋅ℯ    ⋅cos(w)\n",
              "x(t) = ───────── - ───────────────\n",
              "           k              k       "
            ]
          },
          "metadata": {
            "tags": []
          },
          "execution_count": 58
        }
      ]
    },
    {
      "cell_type": "code",
      "metadata": {
        "colab": {
          "base_uri": "https://localhost:8080/",
          "height": 55
        },
        "id": "robc9xbgt52U",
        "outputId": "34a08283-ec17-4300-dcea-0d99d3e2d6b9"
      },
      "source": [
        "pos_eqn_2 = dsolve(deqn_2,ics=ics_deqn_2) # reemplazando condiciones iniciales\n",
        "pos_eqn_2"
      ],
      "execution_count": 59,
      "outputs": [
        {
          "output_type": "execute_result",
          "data": {
            "image/png": "[encoded data removed]",
            "text/latex": "$\\displaystyle y{\\left(t \\right)} = - \\frac{g t}{k} + \\frac{\\left(- Vo k \\sin{\\left(w \\right)} - g\\right) e^{- k t}}{k^{2}} + \\frac{Vo k \\sin{\\left(w \\right)} + g}{k^{2}}$",
            "text/plain": [
              "                                   -k⋅t                  \n",
              "         g⋅t   (-Vo⋅k⋅sin(w) - g)⋅ℯ       Vo⋅k⋅sin(w) + g\n",
              "y(t) = - ─── + ──────────────────────── + ───────────────\n",
              "          k                2                      2      \n",
              "                          k                      k       "
            ]
          },
          "metadata": {
            "tags": []
          },
          "execution_count": 59
        }
      ]
    },
    {
      "cell_type": "code",
      "metadata": {
        "id": "kEHP_vbGFQwT"
      },
      "source": [
        ""
      ],
      "execution_count": 59,
      "outputs": []
    },
    {
      "cell_type": "markdown",
      "metadata": {
        "id": "E7aPm6R9uoDL"
      },
      "source": [
        "Hemos obtenido las expresione para la posición en función del tiempo, ahora obtengamos las siguientes expresiones\n",
        "\n",
        "\n",
        "\n",
        "* Velocidad\n",
        "* Energía cinetica\n",
        "* Energía potencial\n",
        "* Energía mécanica\n",
        "\n"
      ]
    },
    {
      "cell_type": "code",
      "metadata": {
        "id": "eCP4FGC6wkey"
      },
      "source": [
        "# VELOCIDAD (componente X)\n",
        "# trabajaremos con la expresión de la parte izquierda de la ecuación de posición\n",
        "\n",
        "pos_1 = pos_eqn_1.rhs    # X(t)\n",
        "pos_2 = pos_eqn_2.rhs    # Y(t)\n",
        "\n",
        "vel_1 = pos_1.diff(t)    # X'(t)\n",
        "vel_2 = pos_2.diff(t)    # Y'(t)\n"
      ],
      "execution_count": 60,
      "outputs": []
    },
    {
      "cell_type": "code",
      "metadata": {
        "colab": {
          "base_uri": "https://localhost:8080/",
          "height": 38
        },
        "id": "o38EHni8Acgt",
        "outputId": "23d22d84-485b-4daa-a9f6-8e6bccc443c7"
      },
      "source": [
        "vel_1"
      ],
      "execution_count": 61,
      "outputs": [
        {
          "output_type": "execute_result",
          "data": {
            "image/png": "[encoded data removed]",
            "text/latex": "$\\displaystyle Vo e^{- k t} \\cos{\\left(w \\right)}$",
            "text/plain": [
              "    -k⋅t       \n",
              "Vo⋅ℯ    ⋅cos(w)"
            ]
          },
          "metadata": {
            "tags": []
          },
          "execution_count": 61
        }
      ]
    },
    {
      "cell_type": "code",
      "metadata": {
        "colab": {
          "base_uri": "https://localhost:8080/",
          "height": 55
        },
        "id": "zkxF0JxLAeRb",
        "outputId": "cb6bf5cf-249e-490c-834e-0b10dab0ea56"
      },
      "source": [
        "vel_2"
      ],
      "execution_count": 62,
      "outputs": [
        {
          "output_type": "execute_result",
          "data": {
            "image/png": "[encoded data removed]",
            "text/latex": "$\\displaystyle - \\frac{g}{k} - \\frac{\\left(- Vo k \\sin{\\left(w \\right)} - g\\right) e^{- k t}}{k}$",
            "text/plain": [
              "                          -k⋅t\n",
              "  g   (-Vo⋅k⋅sin(w) - g)⋅ℯ    \n",
              "- ─ - ────────────────────────\n",
              "  k              k            "
            ]
          },
          "metadata": {
            "tags": []
          },
          "execution_count": 62
        }
      ]
    },
    {
      "cell_type": "code",
      "metadata": {
        "colab": {
          "base_uri": "https://localhost:8080/",
          "height": 59
        },
        "id": "g83jLatb_sIR",
        "outputId": "87ec840d-a11b-4591-8477-66383a3b4025"
      },
      "source": [
        "# ENERGÍA CINETICA\n",
        "\n",
        "K_energy = Rational(1,2)*m*(vel_1**2).simplify() + Rational(1,2)*m*(vel_2**2).simplify()\n",
        "K_energy"
      ],
      "execution_count": 63,
      "outputs": [
        {
          "output_type": "execute_result",
          "data": {
            "image/png": "[encoded data removed]",
            "text/latex": "$\\displaystyle \\frac{Vo^{2} m e^{- 2 k t} \\cos^{2}{\\left(w \\right)}}{2} + \\frac{m \\left(- Vo k \\sin{\\left(w \\right)} + g e^{k t} - g\\right)^{2} e^{- 2 k t}}{2 k^{2}}$",
            "text/plain": [
              "                                                     2        \n",
              "  2    -2⋅k⋅t    2        ⎛                  k⋅t    ⎞   -2⋅k⋅t\n",
              "Vo ⋅m⋅ℯ      ⋅cos (w)   m⋅⎝-Vo⋅k⋅sin(w) + g⋅ℯ    - g⎠ ⋅ℯ      \n",
              "───────────────────── + ──────────────────────────────────────\n",
              "          2                                 2                 \n",
              "                                         2⋅k                  "
            ]
          },
          "metadata": {
            "tags": []
          },
          "execution_count": 63
        }
      ]
    },
    {
      "cell_type": "code",
      "metadata": {
        "colab": {
          "base_uri": "https://localhost:8080/",
          "height": 56
        },
        "id": "M3lLK1lwB7AE",
        "outputId": "e1e017bf-2b23-4558-b440-c0be7c15ea1f"
      },
      "source": [
        "# ENERGIA POTENCIAL\n",
        "\n",
        "U_energy = m*g*pos_2\n",
        "U_energy = U_energy.simplify()\n",
        "U_energy"
      ],
      "execution_count": 64,
      "outputs": [
        {
          "output_type": "execute_result",
          "data": {
            "image/png": "[encoded data removed]",
            "text/latex": "$\\displaystyle - \\frac{g m \\left(Vo k \\sin{\\left(w \\right)} + g k t e^{k t} + g - \\left(Vo k \\sin{\\left(w \\right)} + g\\right) e^{k t}\\right) e^{- k t}}{k^{2}}$",
            "text/plain": [
              "     ⎛                     k⋅t                          k⋅t⎞  -k⋅t \n",
              "-g⋅m⋅⎝Vo⋅k⋅sin(w) + g⋅k⋅t⋅ℯ    + g - (Vo⋅k⋅sin(w) + g)⋅ℯ   ⎠⋅ℯ     \n",
              "───────────────────────────────────────────────────────────────────\n",
              "                                  2                                \n",
              "                                 k                                 "
            ]
          },
          "metadata": {
            "tags": []
          },
          "execution_count": 64
        }
      ]
    },
    {
      "cell_type": "code",
      "metadata": {
        "colab": {
          "base_uri": "https://localhost:8080/",
          "height": 59
        },
        "id": "-vDbnEcmCX_Y",
        "outputId": "fa25fd43-8eea-4074-f35c-3f62ebbe3bfb"
      },
      "source": [
        "# ENERÍA MÉCANICA\n",
        "\n",
        "M_energy = U_energy + K_energy\n",
        "M_energy"
      ],
      "execution_count": 65,
      "outputs": [
        {
          "output_type": "execute_result",
          "data": {
            "image/png": "[encoded data removed]",
            "text/latex": "$\\displaystyle \\frac{Vo^{2} m e^{- 2 k t} \\cos^{2}{\\left(w \\right)}}{2} - \\frac{g m \\left(Vo k \\sin{\\left(w \\right)} + g k t e^{k t} + g - \\left(Vo k \\sin{\\left(w \\right)} + g\\right) e^{k t}\\right) e^{- k t}}{k^{2}} + \\frac{m \\left(- Vo k \\sin{\\left(w \\right)} + g e^{k t} - g\\right)^{2} e^{- 2 k t}}{2 k^{2}}$",
            "text/plain": [
              "                                                                              \n",
              "  2    -2⋅k⋅t    2          ⎛                     k⋅t                         \n",
              "Vo ⋅m⋅ℯ      ⋅cos (w)   g⋅m⋅⎝Vo⋅k⋅sin(w) + g⋅k⋅t⋅ℯ    + g - (Vo⋅k⋅sin(w) + g)⋅\n",
              "───────────────────── - ──────────────────────────────────────────────────────\n",
              "          2                                              2                    \n",
              "                                                        k                     \n",
              "\n",
              "                                           2        \n",
              " k⋅t⎞  -k⋅t     ⎛                  k⋅t    ⎞   -2⋅k⋅t\n",
              "ℯ   ⎠⋅ℯ       m⋅⎝-Vo⋅k⋅sin(w) + g⋅ℯ    - g⎠ ⋅ℯ      \n",
              "─────────── + ──────────────────────────────────────\n",
              "                                  2                 \n",
              "                               2⋅k                  "
            ]
          },
          "metadata": {
            "tags": []
          },
          "execution_count": 65
        }
      ]
    },
    {
      "cell_type": "markdown",
      "metadata": {
        "id": "en6v8mpxGOjH"
      },
      "source": [
        "Asignamos unos parametros definidos:"
      ]
    },
    {
      "cell_type": "code",
      "metadata": {
        "id": "ATUP7IPmGboa"
      },
      "source": [
        "pos_1= pos_1.subs([(g,9.8),(m,3),(Vo,120),(w,pi/4),(k,0.02)])\n",
        "pos_2= pos_2.subs([(g,9.8),(m,3),(Vo,120),(w,pi/4),(k,0.02)])\n",
        "vel_1= vel_1.subs([(g,9.8),(m,3),(Vo,120),(w,pi/4),(k,0.02)])\n",
        "vel_2= vel_2.subs([(g,9.8),(m,3),(Vo,120),(w,pi/4),(k,0.02)])\n",
        "\n",
        "K_energy= K_energy.subs([(g,9.8),(m,3),(Vo,120),(w,pi/4),(k,0.02)])\n",
        "U_energy= U_energy.subs([(g,9.8),(m,3),(Vo,120),(w,pi/4),(k,0.02)])\n",
        "M_energy= M_energy.subs([(g,9.8),(m,3),(Vo,120),(w,pi/4),(k,0.02)])"
      ],
      "execution_count": 66,
      "outputs": []
    },
    {
      "cell_type": "code",
      "metadata": {
        "colab": {
          "base_uri": "https://localhost:8080/",
          "height": 47
        },
        "id": "lWqfo0wwLFqo",
        "outputId": "979f265d-ddec-469b-a478-af8080792377"
      },
      "source": [
        "pos_2"
      ],
      "execution_count": 67,
      "outputs": [
        {
          "output_type": "execute_result",
          "data": {
            "image/png": "[encoded data removed]",
            "text/latex": "$\\displaystyle - 490.0 t + 3000.0 \\sqrt{2} + 24500.0 + 2500.0 \\left(-9.8 - 1.2 \\sqrt{2}\\right) e^{- 0.02 t}$",
            "text/plain": [
              "                                                         -0.02⋅t\n",
              "-490.0⋅t + 3000.0⋅√2 + 24500.0 + 2500.0⋅(-9.8 - 1.2⋅√2)⋅ℯ       "
            ]
          },
          "metadata": {
            "tags": []
          },
          "execution_count": 67
        }
      ]
    },
    {
      "cell_type": "code",
      "metadata": {
        "colab": {
          "base_uri": "https://localhost:8080/",
          "height": 37
        },
        "id": "LcJ_yYOFGunh",
        "outputId": "673755df-2671-42f1-d887-af0894ac6302"
      },
      "source": [
        "solve(Eq(pos_2, 0), t)"
      ],
      "execution_count": 69,
      "outputs": [
        {
          "output_type": "execute_result",
          "data": {
            "image/png": "[encoded data removed]",
            "text/latex": "$\\displaystyle \\left[ 0.0, \\  16.4198112782955\\right]$",
            "text/plain": [
              "[0.0, 16.4198112782955]"
            ]
          },
          "metadata": {
            "tags": []
          },
          "execution_count": 69
        }
      ]
    },
    {
      "cell_type": "markdown",
      "metadata": {
        "id": "AxaHCN11DEdB"
      },
      "source": [
        "Podemos pasar de expresiones simbolicas a númericas y aprovechar librerías como matplotlib para realizar gráficas"
      ]
    },
    {
      "cell_type": "code",
      "metadata": {
        "id": "X9EaxZlDDPBE"
      },
      "source": [
        "# SYMPY (símbolico) ----->  NUMPY (númerico)\n",
        "# variable independiente, expresión, librería\n",
        "\n",
        "np_vel_1=lambdify(t,vel_1,'numpy')        # velocidad X'(t)\n",
        "np_pos_1=lambdify(t,pos_1,'numpy')        # posición  X(t)\n",
        "\n",
        "np_vel_2=lambdify(t,vel_2,'numpy')        # velocidad Y'(t)\n",
        "np_pos_2=lambdify(t,pos_2,'numpy')        # posición  Y(t)\n",
        "\n",
        "np_K_energy = lambdify(t,K_energy,'numpy')   # E. Cinetica\n",
        "np_U_energy = lambdify(t,U_energy,'numpy')   # E. Potencial\n",
        "np_M_energy = lambdify(t,M_energy,'numpy')   # E. Mécanica"
      ],
      "execution_count": 70,
      "outputs": []
    },
    {
      "cell_type": "markdown",
      "metadata": {
        "id": "XUIASkimH5Kx"
      },
      "source": [
        "Trataremos de encontrar una gráfica con la trayectoria, con la expresión númerica"
      ]
    },
    {
      "cell_type": "code",
      "metadata": {
        "colab": {
          "base_uri": "https://localhost:8080/",
          "height": 295
        },
        "id": "dSZ62YQrH3kU",
        "outputId": "afa71d30-ea36-44b7-d13e-022729a35db7"
      },
      "source": [
        "import matplotlib.pyplot as plt\n",
        "\n",
        "t = np.linspace(0,16.4198112782955,100)\n",
        "X = np_pos_1(t)\n",
        "Y = np_pos_2(t)\n",
        "\n",
        "plt.xlabel('Eje X')\n",
        "plt.ylabel('Eje Y')\n",
        "plt.title('T. Parabólico con rozamiento - m=3 , Vo=20, g=9.8, k=0.02 ')\n",
        "plt.plot(X,Y)\n",
        "plt.grid()"
      ],
      "execution_count": 71,
      "outputs": [
        {
          "output_type": "display_data",
          "data": {
            "image/png": "[encoded data removed]",
            "text/plain": [
              "<Figure size 432x288 with 1 Axes>"
            ]
          },
          "metadata": {
            "tags": [],
            "needs_background": "light"
          }
        }
      ]
    }
  ]
}