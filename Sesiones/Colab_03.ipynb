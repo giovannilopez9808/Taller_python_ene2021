{
 "cells": [
  {
   "cell_type": "markdown",
   "metadata": {
    "id": "G6m-YtOmKGZ9"
   },
   "source": [
    "# 3. Tipos de datos, variables y como usarlas\n",
    "\n",
    "## Python básico\n",
    "\n",
    "Existen distintos tipos de datos que pueden ser utilizados en python, como:\n",
    "\n",
    "*   Enteros\n",
    "*   Flotantes\n",
    "*   Strings\n",
    "*   Booleanos\n",
    "*   Listas\n",
    "*   Tuplas\n",
    "\n",
    "Y es posible almacenar esos datos en *variables* que nosostros creamos."
   ]
  },
  {
   "cell_type": "markdown",
   "metadata": {
    "id": "oqBJb19gLPH5"
   },
   "source": [
    "## 3.1 Variables\n",
    "\n",
    "En programación, una variable está formada por un espacio en la memoria del ordenador y un nombre simbólico (un identificador) que está asociado a dicho espacio. Ese espacio contiene una cantidad de información conocida o desconocida, es decir un valor.\n",
    "\n",
    "\n",
    "\n",
    "![variables.gif](data:image/gif;base64,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)\n",
    "\n"
   ]
  },
  {
   "cell_type": "markdown",
   "metadata": {
    "id": "hohyGDnqMNt_"
   },
   "source": [
    "En la imagen anterior vemos dos variables llamadas edad y numero_de_hijos (identificadores) cada una con su respectivo valor almacenado en la memoria del ordenador.\n",
    "\n",
    "### Variables en Python\n",
    "\n",
    "Las variables en python no necesitan ser declaradas, simplemente se definen al ser utilizadas por primera vez. Además, (si bien no es recomendable) pueden cambiar de tipo volviendo a definir.\n",
    "\n",
    "Veamos como podemos crear variables en python y asiganarles valores en memoria:\n"
   ]
  },
  {
   "cell_type": "code",
   "execution_count": null,
   "metadata": {
    "colab": {
     "base_uri": "https://localhost:8080/"
    },
    "id": "4iVqebr2NOur",
    "outputId": "dd9a9de6-4edb-4406-b2e6-88c25315040b"
   },
   "outputs": [
    {
     "name": "stdout",
     "output_type": "stream",
     "text": [
      "hola\n",
      "5\n"
     ]
    }
   ],
   "source": [
    "\"\"\"\n",
    "Creamos una variable con un identificador 'x' y con un valor reservado en memoria ' \"hola\" '\n",
    "\"\"\"\n",
    "x=\"hola\"\n",
    "\"\"\"\n",
    "Esta linea de código nos mostrará el valor que almacena la variable 'x'\n",
    "\"\"\"\n",
    "print(x)\n",
    "\"\"\"\n",
    "Redefinimos la variable identificada con 'x' con otro valor '5'\n",
    "\"\"\"\n",
    "x=5\n",
    "print(x)\n"
   ]
  },
  {
   "cell_type": "markdown",
   "metadata": {
    "id": "THVgGKP7N8EL"
   },
   "source": [
    "## 3.2.1 Tipos de datos: int\n",
    "\n",
    "En Python existe un tipo de datos llamados *int* que vienen siendo lo que nosotros conocemos como los números enteros.\n",
    "\n",
    "Es decir ...,-3 ,-2, -1, 0, 1, 2, 3,..."
   ]
  },
  {
   "cell_type": "code",
   "execution_count": null,
   "metadata": {
    "colab": {
     "base_uri": "https://localhost:8080/"
    },
    "id": "pT9nGsiXPSiD",
    "outputId": "beaca2e2-edb9-4cde-e09f-ce04b5ee7075"
   },
   "outputs": [
    {
     "name": "stdout",
     "output_type": "stream",
     "text": [
      "<class 'int'>\n",
      "<class 'int'>\n",
      "<class 'int'>\n"
     ]
    }
   ],
   "source": [
    "### Enteros ###\n",
    "\n",
    "x = 3 \n",
    "y = -2\n",
    "z = 0\n",
    "\n",
    "\"\"\"\n",
    "La función type( _nombre de la variable_ ) \n",
    "nos permite conocer el tipo de datos que almacena una variable\n",
    "\"\"\"\n",
    "print( type(x) )\n",
    "print( type(y) )\n",
    "print( type(z) )\n",
    "\n",
    "# Debaríamos obtener que las tresvariables x,y,z son enteros"
   ]
  },
  {
   "cell_type": "markdown",
   "metadata": {
    "id": "c_Hou08FQ7Xn"
   },
   "source": [
    "## 3.2.2 Tipos de datos: float\n",
    "\n",
    "El tipo de datos *float* o conocidos como *flotantes* nos sirven para almacenar en memoria los números que conocemos como los números reales:\n",
    "\n",
    "Por ejemplo:\n",
    "\n",
    "* 1.5\n",
    "* 2.9999\n",
    "* 3.14159\n",
    "* 1.0\n",
    "\n",
    "Todos los anteriores son números reales.\n",
    "\n",
    "Comprobemoslo:\n",
    "\n",
    "\n"
   ]
  },
  {
   "cell_type": "code",
   "execution_count": null,
   "metadata": {
    "colab": {
     "base_uri": "https://localhost:8080/"
    },
    "id": "eAxeB1N1R89e",
    "outputId": "89c3c222-21ae-4ce5-dcd4-ff2cd3c4f658"
   },
   "outputs": [
    {
     "name": "stdout",
     "output_type": "stream",
     "text": [
      "<class 'float'>\n",
      "<class 'float'>\n",
      "<class 'float'>\n",
      "<class 'float'>\n"
     ]
    }
   ],
   "source": [
    "### Flotantes ###\n",
    "\n",
    "x = 1.5\n",
    "y = 2.9999\n",
    "z = 3.14159\n",
    "t = 1.0\n",
    "\"\"\"\n",
    "La función type( _nombre de la variable_ ) \n",
    "nos permite conocer el tipo de datos que almacena una variable\n",
    "\"\"\"\n",
    "\n",
    "print( type(x) )\n",
    "print( type(y) )\n",
    "print( type(z) )\n",
    "print( type(t))\n",
    "\n",
    "\n",
    "# Debaríamos obtener que las tresvariables x,y,z,t son floats"
   ]
  },
  {
   "cell_type": "markdown",
   "metadata": {
    "id": "0ioxyWxG-Wew"
   },
   "source": [
    "## 3.2.3 Tipos de datos: booleano\n",
    "\n",
    "Una variable booleana es una variable que sólo puede tomar dos posibles valores: True (verdadero) o False (falso). \n",
    "\n",
    "En Python cualquier variable (en general, cualquier objeto) puede considerarse como una variable booleana. En general los elementos nulos o vacíos se consideran False y el resto se consideran True.\n",
    "\n",
    "Veamos primero los valores **True** y **False**:"
   ]
  },
  {
   "cell_type": "code",
   "execution_count": null,
   "metadata": {
    "colab": {
     "base_uri": "https://localhost:8080/"
    },
    "id": "Y2dEP5SA_OR_",
    "outputId": "e3233d34-0623-416d-ce33-b9241570bab5"
   },
   "outputs": [
    {
     "name": "stdout",
     "output_type": "stream",
     "text": [
      "<class 'bool'>\n",
      "<class 'bool'>\n"
     ]
    }
   ],
   "source": [
    "### Booleanos ###\n",
    "\n",
    "verdadero = True #el valor verdadero se escribe True \n",
    "falso = False #el valor verdadero se escribe False\n",
    "\"\"\"\n",
    "La función type( _nombre de la variable_ ) \n",
    "nos permite conocer el tipo de datos que almacena una variable\n",
    "\"\"\"\n",
    "\n",
    "print( type(verdadero) )\n",
    "print( type(falso) )\n",
    "\n",
    "# Debería mostrarnos que ambos son booleanos"
   ]
  },
  {
   "cell_type": "markdown",
   "metadata": {
    "id": "RH4xx6uU_611"
   },
   "source": [
    "Tambien mencionamos que otro tipo de datos podían considerarse verdaderos o falsos, veamos esto con la función bool()"
   ]
  },
  {
   "cell_type": "code",
   "execution_count": null,
   "metadata": {
    "colab": {
     "base_uri": "https://localhost:8080/"
    },
    "id": "Tx6X8uRNAR5y",
    "outputId": "3597e65a-320a-44e8-b3e1-3d1c8dffd608"
   },
   "outputs": [
    {
     "name": "stdout",
     "output_type": "stream",
     "text": [
      "False\n",
      "False\n",
      "False\n",
      "False\n",
      "False\n",
      "False\n",
      "False\n"
     ]
    }
   ],
   "source": [
    "print(bool(0))\n",
    "print(bool(0.0))\n",
    "print(bool(\"\"))\n",
    "print(bool(()))\n",
    "print(bool([]))\n",
    "print( bool({}) )\n",
    "print(bool(None))\n"
   ]
  },
  {
   "cell_type": "code",
   "execution_count": null,
   "metadata": {
    "colab": {
     "base_uri": "https://localhost:8080/"
    },
    "id": "HiWhFLsYA3WN",
    "outputId": "89f41392-8e2e-40bf-d8da-47d5ec20d252"
   },
   "outputs": [
    {
     "name": "stdout",
     "output_type": "stream",
     "text": [
      "True\n",
      "True\n",
      "True\n",
      "True\n",
      "True\n",
      "True\n"
     ]
    }
   ],
   "source": [
    "print(bool(1))\n",
    "print(bool(1.0))\n",
    "print(bool(\"string\"))\n",
    "print(bool((1)))\n",
    "print(bool([34]))\n",
    "print( bool({1,2,3}) )"
   ]
  },
  {
   "cell_type": "markdown",
   "metadata": {
    "id": "3HxjYJGdD35S"
   },
   "source": [
    "## 3.2.5 Tipos de datos: String\n",
    "\n",
    "String o tambien cadena de texto es una cadena es una secuencia inmutable de caracteres Unicode, delimitada por comillas.\n",
    "\n",
    "Veamoslo rapidamente en unas lineas de código:"
   ]
  },
  {
   "cell_type": "code",
   "execution_count": null,
   "metadata": {
    "colab": {
     "base_uri": "https://localhost:8080/"
    },
    "id": "-PwxwOFPFRw1",
    "outputId": "bcbaf1d6-4370-498f-9876-b2ce54feb85d"
   },
   "outputs": [
    {
     "name": "stdout",
     "output_type": "stream",
     "text": [
      "<class 'str'>\n",
      "<class 'str'>\n"
     ]
    }
   ],
   "source": [
    "######## String ###############\n",
    "\n",
    "# Probemos con comillas simples y dobles\n",
    "string1 = 'Esto es una cadena'\n",
    "string2 = \"Esto es una cadena\"\n",
    "\n",
    "# La función type( _nombre de la variable_ ) nos permite conocer el tipo de datos que almacena una variable\n",
    "\n",
    "print(type(string1))\n",
    "print(type(string2))\n",
    "\n",
    "# Debería marcarnos string"
   ]
  },
  {
   "cell_type": "markdown",
   "metadata": {
    "id": "xGgMJfDfBIyi"
   },
   "source": [
    "## 3.2.6 Tipos de datos: Listas\n",
    "\n",
    "Una lista es un arreglo de elementos donde podemos ingresar cualquier tipo de dato, para acceder a estos datos podemos hacer mediante un índice.\n",
    "\n",
    "Para crear una lista basta con poner cosas entre [] (corchetes) y separarlas con , (comas).\n",
    "\n",
    "Son secuencias mutables y vienen dotadas de una variedad de operaciones muy útiles.\n",
    "\n",
    "Esto puede visualizarse mucho mejor con un ejemplo:"
   ]
  },
  {
   "cell_type": "code",
   "execution_count": null,
   "metadata": {
    "colab": {
     "base_uri": "https://localhost:8080/"
    },
    "id": "EpHg1Pp2C0Ij",
    "outputId": "0cb3c386-12e0-4447-ae7d-3f6e2ae82e12"
   },
   "outputs": [
    {
     "name": "stdout",
     "output_type": "stream",
     "text": [
      "1\n",
      "2.4\n",
      "Curso THC\n",
      "[5, 6]\n",
      "True\n"
     ]
    }
   ],
   "source": [
    "# Creamos una lista\n",
    "\n",
    "lista = [1, 2.4, 'Curso THC', [5,6] ,True]\n",
    "\n",
    "# Veamos como guardamos int, float, string, booleano e incluso una lista dentro de la lista\n",
    "\n",
    "# Accedemos a cada elemento de la lista de forma ordenada y progresiva enlistando los elementos de uno en uno empezando en cero\n",
    "# Vemos que se encuentra en cada elemento\n",
    "\n",
    "# Elemento 0\n",
    "print( lista[0] )\n",
    "\n",
    "# Elemento 1\n",
    "print( lista[1] )\n",
    "\n",
    "# Elemento 2\n",
    "print( lista[2] )\n",
    "\n",
    "# Elemento 3\n",
    "print( lista[3] )\n",
    "\n",
    "# Elemento 4\n",
    "print( lista[4] )\n"
   ]
  },
  {
   "cell_type": "code",
   "execution_count": null,
   "metadata": {
    "colab": {
     "base_uri": "https://localhost:8080/"
    },
    "id": "L117WSLdHLgY",
    "outputId": "89bc93a1-6c81-488d-d1e3-8ab9b04a4faf"
   },
   "outputs": [
    {
     "name": "stdout",
     "output_type": "stream",
     "text": [
      "['Este elemento ahora se cambió por un string', 2.4, 'Curso THC', [5, 6], False]\n"
     ]
    }
   ],
   "source": [
    "# Veamos incluso como podemos cambiar los elementos de la lista\n",
    "\n",
    "# Cambiemos el verdadero por un falso\n",
    "lista[4] = False\n",
    "\n",
    "# Cambiemos el primer elemento\n",
    "lista[0] = 'Este elemento ahora se cambió por un string'\n",
    "\n",
    "# Veamos la lista ahora con los cambios\n",
    "print(lista)"
   ]
  },
  {
   "cell_type": "markdown",
   "metadata": {
    "id": "YoD0MxH-GifP"
   },
   "source": [
    "## 3.2.7 Tipos de datos: Tuplas\n",
    "\n",
    "Las tuplas son como las listas, podemos almacenar de todo tipo de datos, pero la diferencia es que son *inmutables*, es decir, no se pueden modificar. Son como unas listas de sólo lectura. Se crean con () (paréntesis) en lugar de [] (corchetes).\n",
    "\n",
    "Veamos un ejemplo:\n",
    "\n"
   ]
  },
  {
   "cell_type": "code",
   "execution_count": null,
   "metadata": {
    "colab": {
     "base_uri": "https://localhost:8080/"
    },
    "id": "HsEnmf13ICfO",
    "outputId": "d4d2d196-f333-484e-fecc-d3771261af0f"
   },
   "outputs": [
    {
     "name": "stdout",
     "output_type": "stream",
     "text": [
      "1\n",
      "2.4\n",
      "Curso THC\n",
      "[5, 6]\n",
      "True\n"
     ]
    }
   ],
   "source": [
    "########### tupla ########################\n",
    "\n",
    "tupla = (1, 2.4, 'Curso THC', [5,6] ,True)\n",
    "\n",
    "# Elemento 0\n",
    "print( tupla[0] )\n",
    "\n",
    "# Elemento 1\n",
    "print( tupla[1] )\n",
    "\n",
    "# Elemento 2\n",
    "print( tupla[2] )\n",
    "\n",
    "# Elemento 3\n",
    "print( tupla[3] )\n",
    "\n",
    "# Elemento 4\n",
    "print( tupla[4] )"
   ]
  },
  {
   "cell_type": "markdown",
   "metadata": {
    "id": "lvXoV2Z_IXmY"
   },
   "source": [
    "Veamos como los elementos de las tuplas son inmutables:"
   ]
  },
  {
   "cell_type": "code",
   "execution_count": null,
   "metadata": {
    "colab": {
     "base_uri": "https://localhost:8080/",
     "height": 231
    },
    "id": "HzukldHrIWPM",
    "outputId": "e7081693-0474-4fc9-9334-ef3e9416cd4a"
   },
   "outputs": [
    {
     "ename": "TypeError",
     "evalue": "ignored",
     "output_type": "error",
     "traceback": [
      "\u001b[0;31m---------------------------------------------------------------------------\u001b[0m",
      "\u001b[0;31mTypeError\u001b[0m                                 Traceback (most recent call last)",
      "\u001b[0;32m<ipython-input-11-f3fca04d8563>\u001b[0m in \u001b[0;36m<module>\u001b[0;34m()\u001b[0m\n\u001b[1;32m      1\u001b[0m \u001b[0;31m# Tratemos de cambiar el primer elemento\u001b[0m\u001b[0;34m\u001b[0m\u001b[0;34m\u001b[0m\u001b[0;34m\u001b[0m\u001b[0m\n\u001b[0;32m----> 2\u001b[0;31m \u001b[0mtupla\u001b[0m\u001b[0;34m[\u001b[0m\u001b[0;36m0\u001b[0m\u001b[0;34m]\u001b[0m \u001b[0;34m=\u001b[0m \u001b[0;34m'Este elemento no es mutable'\u001b[0m\u001b[0;34m\u001b[0m\u001b[0;34m\u001b[0m\u001b[0m\n\u001b[0m\u001b[1;32m      3\u001b[0m \u001b[0;34m\u001b[0m\u001b[0m\n\u001b[1;32m      4\u001b[0m \u001b[0;31m# Veamos la lista ahora con los cambios\u001b[0m\u001b[0;34m\u001b[0m\u001b[0;34m\u001b[0m\u001b[0;34m\u001b[0m\u001b[0m\n\u001b[1;32m      5\u001b[0m \u001b[0mprint\u001b[0m\u001b[0;34m(\u001b[0m\u001b[0mlista\u001b[0m\u001b[0;34m)\u001b[0m\u001b[0;34m\u001b[0m\u001b[0;34m\u001b[0m\u001b[0m\n",
      "\u001b[0;31mTypeError\u001b[0m: 'tuple' object does not support item assignment"
     ]
    }
   ],
   "source": [
    "# Tratemos de cambiar el primer elemento\n",
    "tupla[0] = 'Este elemento no es mutable'\n",
    "\n",
    "# Veamos la lista ahora con los cambios\n",
    "print(lista)"
   ]
  },
  {
   "cell_type": "markdown",
   "metadata": {
    "id": "62Hy6n5GIpr6"
   },
   "source": [
    "Efectivamente nos arroja un error."
   ]
  },
  {
   "cell_type": "markdown",
   "metadata": {
    "id": "5y2urRG-7_-H"
   },
   "source": [
    "## 3.3 Operaciones matemáticas básicas\n",
    "\n",
    "Aquí vamos a presentar la sintaxis para hacer uso de las operaciones más básicas que solemos usar:\n",
    "\n",
    "\n",
    "\n",
    "*   Suma\n",
    "*   Resta\n",
    "*   Multiplicación\n",
    "*   División\n",
    "*   Mod\n",
    "*   Potencias\n",
    "*   Redondeo\n",
    "*   Valor absoluto\n",
    "*   Maximo de un arreglo\n",
    "*   Mínimo de un arreglo\n",
    "*   Suma de un arreglo\n",
    "\n"
   ]
  },
  {
   "cell_type": "code",
   "execution_count": 1,
   "metadata": {
    "colab": {
     "base_uri": "https://localhost:8080/"
    },
    "id": "At9ZlBqN9gh8",
    "outputId": "1c2d5972-7898-4b90-a5f1-d157b1f9158e"
   },
   "outputs": [
    {
     "name": "stdout",
     "output_type": "stream",
     "text": [
      "5\n"
     ]
    }
   ],
   "source": [
    "# SUMA\n",
    "\n",
    "a = 2\n",
    "b = 3\n",
    "\n",
    "c = a + b\n",
    "\n",
    "print(c)"
   ]
  },
  {
   "cell_type": "code",
   "execution_count": 2,
   "metadata": {
    "colab": {
     "base_uri": "https://localhost:8080/"
    },
    "id": "VGLosYjG9pom",
    "outputId": "27806785-167d-403f-d4d1-27af61894ba2"
   },
   "outputs": [
    {
     "name": "stdout",
     "output_type": "stream",
     "text": [
      "1\n"
     ]
    }
   ],
   "source": [
    "# RESTA\n",
    "\n",
    "a = 2\n",
    "b = 3\n",
    "\n",
    "c = b - a\n",
    "\n",
    "print(c)"
   ]
  },
  {
   "cell_type": "code",
   "execution_count": 3,
   "metadata": {
    "colab": {
     "base_uri": "https://localhost:8080/"
    },
    "id": "GFivsC0o9wvn",
    "outputId": "cb2dc36a-1c6b-4e4c-c78f-debe2a9b031e"
   },
   "outputs": [
    {
     "name": "stdout",
     "output_type": "stream",
     "text": [
      "6\n"
     ]
    }
   ],
   "source": [
    "# MULTIPLICACIÓN\n",
    "\n",
    "a = 2\n",
    "b = 3\n",
    "\n",
    "c = a * b\n",
    "\n",
    "print(c)"
   ]
  },
  {
   "cell_type": "code",
   "execution_count": 4,
   "metadata": {
    "colab": {
     "base_uri": "https://localhost:8080/"
    },
    "id": "yuQouAzl94Qr",
    "outputId": "a67ba5f4-6396-4f66-e085-1da45d21ae92"
   },
   "outputs": [
    {
     "name": "stdout",
     "output_type": "stream",
     "text": [
      "0.6666666666666666\n"
     ]
    }
   ],
   "source": [
    "# DIVISIÓN\n",
    "\n",
    "a = 2\n",
    "b = 3\n",
    "\n",
    "c = a / b\n",
    "\n",
    "print(c)"
   ]
  },
  {
   "cell_type": "code",
   "execution_count": 7,
   "metadata": {
    "colab": {
     "base_uri": "https://localhost:8080/"
    },
    "id": "ol0BLOyG9_nh",
    "outputId": "94740dac-7249-4d06-fa22-5ba05dbbe24f"
   },
   "outputs": [
    {
     "name": "stdout",
     "output_type": "stream",
     "text": [
      "1\n"
     ]
    }
   ],
   "source": [
    "# MOD\n",
    "\n",
    "a = 2\n",
    "b = 7\n",
    "\n",
    "c = b%a\n",
    "\n",
    "print(c)"
   ]
  },
  {
   "cell_type": "code",
   "execution_count": 8,
   "metadata": {
    "colab": {
     "base_uri": "https://localhost:8080/"
    },
    "id": "VmTCrOV4-EK0",
    "outputId": "17c7d141-ea48-4c7a-98bf-ee7aca5fec49"
   },
   "outputs": [
    {
     "name": "stdout",
     "output_type": "stream",
     "text": [
      "8\n"
     ]
    }
   ],
   "source": [
    "# POTENCIAS\n",
    "\n",
    "a = 2\n",
    "b = 3\n",
    "\n",
    "c = a**b\n",
    "\n",
    "print(c)"
   ]
  },
  {
   "cell_type": "code",
   "execution_count": 9,
   "metadata": {
    "colab": {
     "base_uri": "https://localhost:8080/"
    },
    "id": "602KIlv2-mhY",
    "outputId": "8f65a2c1-1809-44bc-b0e4-fdcd5ca7a9c1"
   },
   "outputs": [
    {
     "name": "stdout",
     "output_type": "stream",
     "text": [
      "1.7320508075688772\n"
     ]
    }
   ],
   "source": [
    "# POTENCIA (RAIZ CUADRADA)\n",
    "\n",
    "b = 3\n",
    "\n",
    "c = 3**(1/2)\n",
    "\n",
    "print(c)"
   ]
  },
  {
   "cell_type": "code",
   "execution_count": 10,
   "metadata": {
    "colab": {
     "base_uri": "https://localhost:8080/"
    },
    "id": "27aAQSUc-6kP",
    "outputId": "8e8777c0-7a66-4040-f3af-8e01ff256f99"
   },
   "outputs": [
    {
     "name": "stdout",
     "output_type": "stream",
     "text": [
      "3\n"
     ]
    }
   ],
   "source": [
    "# SUMA\n",
    "\n",
    "a = 2.87\n",
    "\n",
    "c = round(a)\n",
    "\n",
    "print(c)"
   ]
  },
  {
   "cell_type": "code",
   "execution_count": 11,
   "metadata": {
    "colab": {
     "base_uri": "https://localhost:8080/"
    },
    "id": "k0GPAump_CUy",
    "outputId": "2991392e-9331-4aa7-b82f-24fd46809bba"
   },
   "outputs": [
    {
     "name": "stdout",
     "output_type": "stream",
     "text": [
      "2\n"
     ]
    }
   ],
   "source": [
    "# VALOR ABSOLUTO\n",
    "\n",
    "a = -2\n",
    "\n",
    "c = abs(a)\n",
    "\n",
    "print(c)"
   ]
  },
  {
   "cell_type": "code",
   "execution_count": 14,
   "metadata": {
    "colab": {
     "base_uri": "https://localhost:8080/"
    },
    "id": "Mx9hb8Sz_Kl1",
    "outputId": "0b38a9be-8599-49d8-887e-7edeb37fa689"
   },
   "outputs": [
    {
     "name": "stdout",
     "output_type": "stream",
     "text": [
      "4\n"
     ]
    }
   ],
   "source": [
    "# VALOR MÁXIMO DE UN ARREGLO\n",
    "\n",
    "a = (1,2,3,4,4)\n",
    "\n",
    "c = max(a)\n",
    "\n",
    "print(c)"
   ]
  },
  {
   "cell_type": "code",
   "execution_count": 15,
   "metadata": {
    "colab": {
     "base_uri": "https://localhost:8080/"
    },
    "id": "LbKUAmDA_Zn7",
    "outputId": "7c80593e-11ae-4e1f-a447-1433e97a2890"
   },
   "outputs": [
    {
     "name": "stdout",
     "output_type": "stream",
     "text": [
      "1\n"
     ]
    }
   ],
   "source": [
    "# VALOR MÍNIMO DE UN ARREGLO\n",
    "\n",
    "a = (1,2,3,4,4)\n",
    "\n",
    "c = min(a)\n",
    "\n",
    "print(c)"
   ]
  },
  {
   "cell_type": "code",
   "execution_count": 16,
   "metadata": {
    "colab": {
     "base_uri": "https://localhost:8080/"
    },
    "id": "CGopqanv_jQF",
    "outputId": "e8712c4f-e441-4156-a488-5cbf70393720"
   },
   "outputs": [
    {
     "name": "stdout",
     "output_type": "stream",
     "text": [
      "14\n"
     ]
    }
   ],
   "source": [
    "# SUMA DE UN ARREGLO\n",
    "\n",
    "a = (1,2,3,4,4)\n",
    "\n",
    "c = sum(a)\n",
    "\n",
    "print(c)"
   ]
  }
 ],
 "metadata": {
  "colab": {
   "collapsed_sections": [],
   "name": "Colab_03.ipynb",
   "provenance": []
  },
  "kernelspec": {
   "display_name": "Python 3",
   "language": "python",
   "name": "python3"
  },
  "language_info": {
   "codemirror_mode": {
    "name": "ipython",
    "version": 3
   },
   "file_extension": ".py",
   "mimetype": "text/x-python",
   "name": "python",
   "nbconvert_exporter": "python",
   "pygments_lexer": "ipython3",
   "version": "3.8.5"
  }
 },
 "nbformat": 4,
 "nbformat_minor": 1
}
