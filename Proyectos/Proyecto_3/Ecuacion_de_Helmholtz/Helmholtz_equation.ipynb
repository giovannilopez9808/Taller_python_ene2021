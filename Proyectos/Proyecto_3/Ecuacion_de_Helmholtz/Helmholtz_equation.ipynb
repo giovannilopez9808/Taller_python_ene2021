{
  "nbformat": 4,
  "nbformat_minor": 0,
  "metadata": {
    "colab": {
      "name": "Helmholtz_equation.ipynb",
      "provenance": [],
      "collapsed_sections": []
    },
    "kernelspec": {
      "name": "python3",
      "display_name": "Python 3"
    }
  },
  "cells": [
    {
      "cell_type": "code",
      "metadata": {
        "id": "xVCdV_bsL449"
      },
      "source": [
        "from scipy.integrate import odeint\n",
        "import matplotlib.pyplot as plt\n",
        "import numpy as np"
      ],
      "execution_count": 1,
      "outputs": []
    },
    {
      "cell_type": "code",
      "metadata": {
        "id": "AT7DgNOiSsfu"
      },
      "source": [
        "class wave:\n",
        "  \"\"\"\n",
        "  Clase que contiene los algoritmos para resolver la ecuación de Helmoltz\n",
        "  a partir de los parámetros\n",
        "  \"\"\"\n",
        "  def __init__(self, min, max, size, y0):\n",
        "    \"\"\"\n",
        "    Parámetros de la onda para obtener su solucion\n",
        "    Definición de variables\n",
        "    Dominio de la funcion (0,\\infty)\n",
        "    min  ----> valor minimo de los valores de r \n",
        "    max  ----> valor máximo de los valores de r\n",
        "    size ----> numero de celdas a lo largo y ancho para \n",
        "               generae una matriz de sizeXsize\n",
        "    y0   ----> Valores iniciales de la posicion y la velocidad respectivamente\n",
        "    \"\"\"\n",
        "    self.min = min\n",
        "    self.max = max\n",
        "    self.size = size\n",
        "    self.y0 = y0\n",
        "    self.initialize_system()\n",
        "\n",
        "  def initialize_system(self):\n",
        "    \"\"\"\n",
        "    A partir de los valores maximos y minimos genera una\n",
        "    serie de valores para la variable r y genera un mapa con los valores\n",
        "    en cada celda\n",
        "    \"\"\"\n",
        "    self.r = np.sqrt(2)*np.linspace(self.min, self.max, self.size)\n",
        "    self.map = np.zeros((2*self.size, 2*self.size))\n",
        "\n",
        "  def solve_PDE(self, df):\n",
        "    \"\"\"\n",
        "    Funcion que resuelve la ecuación diferencial y asigna a cada valor\n",
        "    de la celda su correspondiente solución\n",
        "    \"\"\"\n",
        "    sol = odeint(df, self.y0, self.r)\n",
        "    self.solution = sol[:, 0]\n",
        "    self.fill_map()\n",
        "\n",
        "  def fill_map(self):\n",
        "    \"\"\"\n",
        "    Algoritmo para asignar el valor de la solucion en sus celdas correspondientes\n",
        "    haciendo uso de la simetria radial, como princpical cuadrante de llenado es \n",
        "    I, los demás cuadrantes se les asigna su valor por medio de simetrias\n",
        "    \"\"\"\n",
        "    for i in range(self.size):\n",
        "        pos_i = self.pos_values(i)\n",
        "        for j in range(self.size):\n",
        "            pos_j = self.pos_values(j)\n",
        "            self.fill_pos(pos_i, pos_j, i, j)\n",
        "\n",
        "  def pos_values(self, pos):\n",
        "    \"\"\"\n",
        "    Valores donde se encuentran las simetrias \n",
        "    \"\"\"\n",
        "    return [self.size-pos, self.size+pos]\n",
        "\n",
        "  def fill_pos(self, pos_i, pos_j, i, j):\n",
        "    \"\"\"\n",
        "    Funcion para asignar el valor a cada mapa haciedno uso de la simetria \n",
        "    \"\"\"\n",
        "    for ii in pos_i:\n",
        "        for jj in pos_j:\n",
        "            r_ij = (self.r[i]**2+self.r[j]**2)**(1/2)\n",
        "            self.map[ii, jj] = self.fill_values(r_ij)\n",
        "\n",
        "  def fill_values(self, r_ij):\n",
        "    \"\"\"\n",
        "    Algoritmo para encontrar que valor le corresponde a cada celda\n",
        "    \"\"\"\n",
        "    istrue = True\n",
        "    n = 0\n",
        "    value = 0\n",
        "    while istrue and n < self.size:\n",
        "        if r_ij-self.r[n] <= 0.001:\n",
        "            value = self.solution[n]\n",
        "            istrue = False\n",
        "        else:\n",
        "            n += 1\n",
        "    return value\n",
        "\n",
        "  def plot_graphics(self):\n",
        "    \"\"\"\n",
        "    Funcion para graficar la funcion radial y creacion del mapa de colores\n",
        "    \"\"\"\n",
        "    fig, (ax1, ax2) = plt.subplots(1, 2, figsize=(10, 4))\n",
        "    ax2.axis(\"off\")\n",
        "    contour = ax2.contourf(self.map, cmap=\"inferno_r\")\n",
        "    ax1.plot(self.r, self.solution)\n",
        "    fig.colorbar(contour)\n",
        "    plt.show()"
      ],
      "execution_count": 2,
      "outputs": []
    },
    {
      "cell_type": "code",
      "metadata": {
        "id": "TtXREvc-S0S0"
      },
      "source": [
        "def df(y, x, k=0.2, v=0.1):\n",
        "  \"\"\"\n",
        "  Ecuación de Helmholtz\n",
        "  \"\"\"\n",
        "  y1, y2 = y[0], y[1]\n",
        "  dy1 = y2\n",
        "  if 30 < x < 40:\n",
        "      dy2 = 10\n",
        "  else:\n",
        "      dy2 = -y2/x-k*y1-v*y2\n",
        "  return [dy1, dy2]"
      ],
      "execution_count": 3,
      "outputs": []
    },
    {
      "cell_type": "code",
      "metadata": {
        "id": "yeM4KoPIS3Ex"
      },
      "source": [
        "parameters = {\n",
        "    \"size\": 100,\n",
        "    \"y0\": [0, 1],\n",
        "    \"minimum\": 0.01,\n",
        "    \"maximum\": 100, }"
      ],
      "execution_count": 4,
      "outputs": []
    },
    {
      "cell_type": "code",
      "metadata": {
        "colab": {
          "base_uri": "https://localhost:8080/",
          "height": 269
        },
        "id": "IUebdVjPS7I8",
        "outputId": "c4ae7281-1b0c-439a-f825-1719036a2ada"
      },
      "source": [
        "# Inicialización del sistema\n",
        "wave_solution = wave(parameters[\"minimum\"],\n",
        "                     parameters[\"maximum\"],\n",
        "                     parameters[\"size\"],\n",
        "                     parameters[\"y0\"])\n",
        "# Resuelve la ecuación diferencial con los parámetros asignados\n",
        "wave_solution.solve_PDE(df)\n",
        "# Grafica de la solución\n",
        "wave_solution.plot_graphics()"
      ],
      "execution_count": 5,
      "outputs": [
        {
          "output_type": "display_data",
          "data": {
            "image/png": "[encoded data removed]",
            "text/plain": [
              "<Figure size 720x288 with 3 Axes>"
            ]
          },
          "metadata": {
            "tags": [],
            "needs_background": "light"
          }
        }
      ]
    },
    {
      "cell_type": "code",
      "metadata": {
        "id": "Vbd5Slo6S85d"
      },
      "source": [
        ""
      ],
      "execution_count": null,
      "outputs": []
    }
  ]
}