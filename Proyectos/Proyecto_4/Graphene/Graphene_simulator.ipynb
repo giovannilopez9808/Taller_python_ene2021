{
 "cells": [
  {
   "cell_type": "markdown",
   "metadata": {},
   "source": [
    "En la sesión anterior, aprendimos a como emplear la Teoría del Funcional de la Densidad (DFT), en su implementación periódica (ondas planas) para calcular energías totales, así como energías de enlace (E$_{enl}$) para un diámero atómico de oro (Au$_{2}$); y la energía de cohesión (E$_{coh}$) del oro en su fase cristalina FCC. Vimos como optimizar la estructura (geometría) y finalmente, aprendimos como calcular y analizar la parte correspondiente a la estructura electrónica (bandas y densidad de estados).\n",
    "\n",
    "El objetivo de esta sesión es aplicar los conceptos aprendidos en la sesión anterior a cálculos que tiene relación directa con experimentos. Para ello realizaremos los siguientes tres cálculos:\n",
    "\n"
   ]
  },
  {
   "cell_type": "markdown",
   "metadata": {},
   "source": []
  }
 ],
 "metadata": {
  "kernelspec": {
   "display_name": "Python 3",
   "language": "python",
   "name": "python3"
  },
  "language_info": {
   "codemirror_mode": {
    "name": "ipython",
    "version": 3
   },
   "file_extension": ".py",
   "mimetype": "text/x-python",
   "name": "python",
   "nbconvert_exporter": "python",
   "pygments_lexer": "ipython3",
   "version": "3.8.5"
  },
  "latex_envs": {
   "LaTeX_envs_menu_present": true,
   "autoclose": false,
   "autocomplete": true,
   "bibliofile": "biblio.bib",
   "cite_by": "apalike",
   "current_citInitial": 1,
   "eqLabelWithNumbers": true,
   "eqNumInitial": 1,
   "hotkeys": {
    "equation": "Ctrl-E",
    "itemize": "Ctrl-I"
   },
   "labels_anchors": false,
   "latex_user_defs": false,
   "report_style_numbering": false,
   "user_envs_cfg": false
  }
 },
 "nbformat": 4,
 "nbformat_minor": 4
}
