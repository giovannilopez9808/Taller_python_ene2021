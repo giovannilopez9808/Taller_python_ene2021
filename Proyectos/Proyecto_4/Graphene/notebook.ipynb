{
 "cells": [
  {
   "cell_type": "markdown",
   "metadata": {},
   "source": [
    "\n",
    "<h1 id=\"Sesion-2\">\n",
    "                Sesion 2<a class=\"anchor-link\" href=\"#Sesion-2\">Â¶</a>\n",
    "</h1>\n",
    "<p>\n",
    "                En la sesión anterior, aprendimos a como emplear la Teoría del\n",
    "                Funcional de la Densidad (DFT), en su implementación periódica\n",
    "                (ondas planas) para calcular energías totales, así como energías\n",
    "                de enlace (E$_{enl}$) para un dímero atómico de oro (Au$_{2}$);\n",
    "                y la energía de cohesión (E$_{coh}$) del oro en su fase\n",
    "                cristalina FCC. Vimos como optimizar la estructura (geometría) y\n",
    "                finalmente, aprendimos como calcular y analizar la parte\n",
    "                correspondiente a la estructura electrónica (bandas y densidad\n",
    "                de estados).\n",
    "              </p><p>\n",
    "                El objetivo de esta sesión es aplicar los conceptos aprendidos\n",
    "                en la sesión anterior a cálculos que tiene relación directa con\n",
    "                experimentos. Para ello realizaremos los siguientes tres\n",
    "                cálculos:\n",
    "              </p>\n",
    "<h3 id=\"a)-Cálculo-de-la-estructura-electronica-de-una-hojuela-de-grafeno\">\n",
    "<strong>a) Cálculo de la estructura electronica de una hojuela\n",
    "                  de grafeno</strong><a class=\"anchor-link\" href=\"#a)-Cálculo-de-la-estructura-electronica-de-una-hojuela-de-grafeno\">Â¶</a>\n",
    "</h3>\n",
    "<p>\n",
    "<img src=\"Images/gr_unitcell.png\" width=\"200\"/>\n",
    "<strong>Figura </strong>. Celda unitaria de grafeno, tamaño\n",
    "                1$\\times$1.\n",
    "              </p>\n",
    "<h3 id=\"b)-La-interacción-de-un-átomo-de-oro-(Au$_{1}$)-con-grafeno,-en-varios-sitios-de-adsorción:\">\n",
    "<strong>b) La interacción de un átomo de oro (Au$_{1}$) con\n",
    "                  grafeno, en varios sitios de adsorción:</strong><a class=\"anchor-link\" href=\"#b)-La-interacción-de-un-átomo-de-oro-(Au$_{1}$)-con-grafeno,-en-varios-sitios-de-adsorción:\">Â¶</a>\n",
    "</h3>\n",
    "<pre><code>  -  \"Top\"    (arriba de un átomo de C)\n",
    "  -  \"bridge\" (entre 2 átomos de C)\n",
    "  -  \"hollow\" (en el espacio hueco de la celda hexagonal)\n",
    "</code></pre>\n",
    "<p>\n",
    "<img src=\"Images/ads_sites.png\" width=\"600\"/>\n",
    "<strong>Figura </strong>. Diferentes sitios de adsorción para 1\n",
    "                átomo de oro (Au$_{1}$) en la superficie (3$\\times$3) de\n",
    "                grafeno.\n",
    "              </p>\n",
    "<h3 id=\"c)-La-simulación-de-una-imagen-de-microscopía-por-tunelamiento-de-electrones-(STM)-para-una-hojuela-de-grafeno-pristino-y-otra-con-un-defecto-(vacancia-de-1-átomo-de-C).\">\n",
    "<strong>c) La simulación de una imagen de microscopía por\n",
    "                  tunelamiento de electrones (STM) para una hojuela de grafeno\n",
    "                  pristino y otra con un defecto (vacancia de 1 átomo de\n",
    "                  C).</strong><a class=\"anchor-link\" href=\"#c)-La-simulación-de-una-imagen-de-microscopía-por-tunelamiento-de-electrones-(STM)-para-una-hojuela-de-grafeno-pristino-y-otra-con-un-defecto-(vacancia-de-1-átomo-de-C).\">Â¶</a>\n",
    "</h3>\n",
    "<p>\n",
    "<img src=\"Images/stm_graphene.png\" width=\"200\"/>\n",
    "<strong>Figura </strong>. Imagen simulada de una capa de grafeno\n",
    "                empleando la aproximación Tersoff-Hamann (2 eV). _Figura tomada\n",
    "                del sitio web:\n",
    "                <a href=\"http://www.openmx-square.org/openmx_man3.7/node129.html\">http://www.openmx-square.org/openmx_man3.7/node129.html</a>\n",
    "</p>\n",
    "<p><strong> ... A darle atomos!!!</strong></p>\n"
   ]
  },
  {
   "cell_type": "markdown",
   "metadata": {},
   "source": [
    "\n",
    "<h1 id=\"Grafeno-pristino\">\n",
    "                Grafeno pristino<a class=\"anchor-link\" href=\"#Grafeno-pristino\">Â¶</a>\n",
    "</h1>\n",
    "<p>\n",
    "                Lo que haremos a continuación, es generar una hojuela de\n",
    "                <a href=\"https://en.wikipedia.org/wiki/Graphene\">grafeno</a> (1\n",
    "                monocapa atómica) como una supercelda periodica de tamaño\n",
    "                3$\\times$3.\n",
    "              </p>\n",
    "<p>\n",
    "<img src=\"Images/gr_unitcell.png\" width=\"300\"/>\n",
    "<strong>Figura </strong>. Celda unitaria de grafeno, tamaño\n",
    "                1$\\times$1.\n",
    "              </p>\n"
   ]
  },
  {
   "cell_type": "code",
   "execution_count": null,
   "metadata": {},
   "outputs": [],
   "source": [
    "%run pw\n",
    "t00=time.time()"
   ]
  },
  {
   "cell_type": "markdown",
   "metadata": {},
   "source": [
    "\n",
    "<h3 id=\"1.1-Generación-de-la-celda-unitaria-de-grafeno-(bulto):\">\n",
    "                1.1 Generación de la celda unitaria de grafeno (bulto):<a class=\"anchor-link\" href=\"#1.1-Generación-de-la-celda-unitaria-de-grafeno-(bulto):\">Â¶</a>\n",
    "</h3>\n"
   ]
  },
  {
   "cell_type": "code",
   "execution_count": null,
   "metadata": {},
   "outputs": [],
   "source": [
    "# Definimos un objeto \"Atoms\" con la celda del grafeno:\n",
    "a0 = 2.46747\n",
    "celda_gr = np.array([[a0, 0, 0], [-a0 / 2., a0 * sqrt(3) / 2., 0],\n",
    "                     [0, 0, 15.0]])\n",
    "base = np.array([[0, 0, 0], [1 / 3., 2 / 3., 0]])\n",
    "grafeno = Atoms('C2', scaled_positions=base, cell=celda_gr)"
   ]
  },
  {
   "cell_type": "markdown",
   "metadata": {},
   "source": [
    "\n",
    "<h3 id=\"1.2-Calculamos-la-energía-total-con-DFT-(ciclo-SFC):\">\n",
    "                1.2 Calculamos la energía total con DFT (ciclo SFC):<a class=\"anchor-link\" href=\"#1.2-Calculamos-la-energía-total-con-DFT-(ciclo-SFC):\">Â¶</a>\n",
    "</h3>\n"
   ]
  },
  {
   "cell_type": "code",
   "execution_count": null,
   "metadata": {},
   "outputs": [],
   "source": [
    "t0=time.time()\n",
    "scf=PWSCF(label='grafeno',pseudos=[['C',12.01,'C.upf']], kpts=(9,9,1))\n",
    "grafeno.set_calculator(scf)\n",
    "E_gr = grafeno.get_potential_energy()  # Esta función nos da la energía total del sistema en eV\n",
    "t1=time.time()\n",
    "print('Tiempo transcurrido: %9.3f segundos'%(t1-t0))"
   ]
  },
  {
   "cell_type": "markdown",
   "metadata": {},
   "source": [
    "\n",
    "<h3 id=\"1.3-Analizamos-la-estructura-electronica-del-grafeno:-Densidad-de-estados-(DOS)\">\n",
    "                1.3 Analizamos la estructura electronica del grafeno: Densidad\n",
    "                de estados (DOS)<a class=\"anchor-link\" href=\"#1.3-Analizamos-la-estructura-electronica-del-grafeno:-Densidad-de-estados-(DOS)\">Â¶</a>\n",
    "</h3>\n"
   ]
  },
  {
   "cell_type": "code",
   "execution_count": null,
   "metadata": {},
   "outputs": [],
   "source": [
    "t0=time.time()\n",
    "dos = scf.get_dos(np.array([96,96,1]), emin=-5.0, emax=5.0, deltaE=0.01)\n",
    "t1=time.time()\n",
    "print('Tiempo transcurrido: %9.3f segundos'%(t1-t0))"
   ]
  },
  {
   "cell_type": "code",
   "execution_count": null,
   "metadata": {},
   "outputs": [],
   "source": [
    "plt.figure(figsize=(10,10))\n",
    "plt.plot(dos[:,0],dos[:,1],'k')\n",
    "plt.xlabel(u'Energía $E_k$ - $E_F$ (eV)',fontsize=15)\n",
    "plt.ylabel(u'Densidad de estados',fontsize=15)\n",
    "plt.show()"
   ]
  },
  {
   "cell_type": "markdown",
   "metadata": {},
   "source": [
    "\n",
    "<p>\n",
    "<strong> Nota </strong> La densidad de estados del grafeno es\n",
    "                muy particular. No es un semiconductor porque no se observa una\n",
    "                brecha de energía. Sin embargo, en el nivel de Fermi ($E_F$) la\n",
    "                densidad tiende a cero. De hecho, en el nivel de Fermi sólo hay\n",
    "                dos estados disponibles que corresponden a los puntos en donde\n",
    "                los conos de Dirac se cruzan en los dos puntos no equivalentes\n",
    "                de alta simetria $\\mathbf{K}$ y $\\mathbf{K}^{\\prime}$:\n",
    "              </p>\n",
    "<p><img src=\"Images/bz_gr.png\" width=\"600\"/></p>\n"
   ]
  },
  {
   "cell_type": "markdown",
   "metadata": {},
   "source": [
    "\n",
    "<h1 id=\"Generación-de-la-superficie-del-grafeno-(monocapa-atómica)\">\n",
    "                Generación de la superficie del grafeno (monocapa\n",
    "                atómica)<a class=\"anchor-link\" href=\"#Generación-de-la-superficie-del-grafeno-(monocapa-atómica)\">Â¶</a>\n",
    "</h1>\n",
    "<p>\n",
    "<img src=\"Images/supercelda.png\" width=\"600\"/>\n",
    "<strong>Figura </strong>. Supercelda de grafeno, tamaño\n",
    "                3$\\times$3.\n",
    "              </p>\n",
    "<p>\n",
    "                La constante de red a usar para el grafeno,\n",
    "                <strong>a = 2.46747</strong>\n",
    "</p>\n",
    "<p>\n",
    "                Es importante mencionar que el tamaño\n",
    "                <strong>3$\\times$3</strong> (en <em>x, y</em>) es necesario para\n",
    "                poder colocar 1 átomo de Au sobre el grafeno, evitando que las\n",
    "                imagen periodicas la supercelda interaccionen entre ellas.\n",
    "              </p>\n",
    "<p>\n",
    "                Lo mismo para la coordenada <em>z</em>, donde damos una\n",
    "                distancia suficiente <strong>15.0 Å</strong>, de altura:\n",
    "              </p>\n"
   ]
  },
  {
   "cell_type": "code",
   "execution_count": null,
   "metadata": {},
   "outputs": [],
   "source": [
    "\n",
    "\n",
    "gr33 = super_cell(grafeno,[3,3,1])\n",
    "plt.scatter(gr33.positions[:,0],gr33.positions[:,1])\n",
    "plt.axis('equal')\n",
    "plt.show()\n",
    "\n",
    "\n"
   ]
  },
  {
   "cell_type": "markdown",
   "metadata": {},
   "source": [
    "\n",
    "<p>Veamos las posiciones de los átomos.</p>\n"
   ]
  },
  {
   "cell_type": "code",
   "execution_count": null,
   "metadata": {},
   "outputs": [],
   "source": [
    "\n",
    "\n",
    "gr33.positions\n",
    "\n",
    "\n"
   ]
  },
  {
   "cell_type": "markdown",
   "metadata": {},
   "source": [
    "\n",
    "<p>\n",
    "                Ahora, la idea será añadir un átomo de Au sobre un átomo de\n",
    "                carbono:\n",
    "              </p>\n"
   ]
  },
  {
   "cell_type": "markdown",
   "metadata": {},
   "source": [
    "\n",
    "<h1 id='Adsorción-de-1-átomo-de-Au-sobre-grafeno:-sitio-\"top\":'>\n",
    "                Adsorción de 1 átomo de Au sobre grafeno: sitio\n",
    "                \"top\":<a class=\"anchor-link\" href='#Adsorción-de-1-átomo-de-Au-sobre-grafeno:-sitio-\"top\":'>Â¶</a>\n",
    "</h1>\n",
    "<p>\n",
    "<img src=\"Images/graphene_top.png\" width=\"500\"/>\n",
    "<strong>Figura </strong>. Sitio \"top\" de adsorción para 1 átomo\n",
    "                de oro (Au$_{1}$) en la superficie (3$\\times$3) de grafeno.\n",
    "              </p>\n"
   ]
  },
  {
   "cell_type": "code",
   "execution_count": null,
   "metadata": {},
   "outputs": [],
   "source": [
    "top_pos = gr33.positions[13,:] + np.array([[0,0,3.0]])\n",
    "print top_pos"
   ]
  },
  {
   "cell_type": "code",
   "execution_count": null,
   "metadata": {},
   "outputs": [],
   "source": [
    "Au_top = Atoms('Au', top_pos)"
   ]
  },
  {
   "cell_type": "code",
   "execution_count": null,
   "metadata": {},
   "outputs": [],
   "source": [
    "grAu_top = gr33+Au_top"
   ]
  },
  {
   "cell_type": "code",
   "execution_count": null,
   "metadata": {},
   "outputs": [],
   "source": [
    "scf_GrAu_top=PWSCF(label='grAu_top',pseudos=[['C',12.01,'C.upf'],['Au',196.9665,'Au.upf']], kpts=(3,3,1))\n",
    "scf_GrAu_top.control_dic.update({'calculation':'scf'})"
   ]
  },
  {
   "cell_type": "code",
   "execution_count": null,
   "metadata": {},
   "outputs": [],
   "source": [
    "t0=time.time()\n",
    "grAu_top.set_calculator(scf_GrAu_top)\n",
    "E_top = grAu_top.get_potential_energy()  # Esta función nos da la energía total del sistema en eV\n",
    "t1=time.time()\n",
    "print('Tiempo transcurrido: %9.3f segundos'%(t1-t0))"
   ]
  },
  {
   "cell_type": "markdown",
   "metadata": {},
   "source": [
    "\n",
    "<h3 id=\"Distancia-óptima-top-site:-desplazamiento-en-d\">\n",
    "                Distancia óptima top site: desplazamiento en d<a class=\"anchor-link\" href=\"#Distancia-óptima-top-site:-desplazamiento-en-d\">Â¶</a>\n",
    "</h3>\n",
    "<p>\n",
    "<img src=\"Images/d_top.png\" width=\"400\"/>\n",
    "<strong>Figura </strong>. Optimización manual de la distancia\n",
    "                para 1 átomo de oro (Au$_{1}$) en la superficie (3$\\times$3) de\n",
    "                grafeno (sitio \"top\").\n",
    "              </p>\n"
   ]
  },
  {
   "cell_type": "markdown",
   "metadata": {},
   "source": [
    "\n",
    "<h3 id=\"La-versión-del-pobre-de-cómputo-en-paralelo\">\n",
    "                La versión del pobre de cómputo en paralelo<a class=\"anchor-link\" href=\"#La-versión-del-pobre-de-cómputo-en-paralelo\">Â¶</a>\n",
    "</h3>\n",
    "<p>\n",
    "                Cada cálculo tarda alrededor de 2 minutos. Para optimizar la\n",
    "                geometría (la distancia óptima entre el átomo de oro y la lámina\n",
    "                de grafeno) haremos el cálculo en paralelo <em>old style</em>:\n",
    "              </p>\n",
    "<p><img src=\"Images/paralelo.png\" width=\"700\"/></p>\n"
   ]
  },
  {
   "cell_type": "code",
   "execution_count": null,
   "metadata": {},
   "outputs": [],
   "source": [
    "\n",
    "\n",
    "t0=time.time()\n",
    "\n",
    "top_pos = gr33.positions[13,:] + np.array([[0,0,XXXX]])\n",
    "\n",
    "Au_top = Atoms('Au', top_pos)\n",
    "grAu_top = gr33+Au_top\n",
    "scf2_top=PWSCF(label='grAu_top',pseudos=[['C',12.01,'C.upf'],['Au',196.9665,'Au.upf']], kpts=(3,3,1))\n",
    "grAu_top.set_calculator(scf2_top)\n",
    "E_top = grAu_top.get_potential_energy()\n",
    "    \n",
    "t1= time.time()\n",
    "print 'Tiempo transcurrido: %9.3f segundos'%(t1-t0)\n",
    "print E_top\n",
    "\n",
    "\n"
   ]
  },
  {
   "cell_type": "markdown",
   "metadata": {},
   "source": [
    "\n",
    "<h3 id='Energia-total-sitio-\"top\"-optimizado'>\n",
    "                Energia total sitio \"top\" optimizado<a class=\"anchor-link\" href='#Energia-total-sitio-\"top\"-optimizado'>Â¶</a>\n",
    "</h3>\n"
   ]
  },
  {
   "cell_type": "code",
   "execution_count": null,
   "metadata": {},
   "outputs": [],
   "source": [
    "\n",
    "\n",
    "top_pos = gr33.positions[13,:] + np.array([[0,0,XXXX]])\n",
    "Au_top = Atoms('Au',  top_pos)\n",
    "grAu_top = gr33+Au_top\n",
    "scf_GrAu_top=PWSCF(label='grAu_top',pseudos=[['C',12.01,'C.upf'],['Au',196.9665,'Au.upf']], kpts=(3,3,1))\n",
    "scf_GrAu_top.control_dic.update({'calculation':'scf'})\n",
    "t0=time.time()\n",
    "grAu_top.set_calculator(scf_GrAu_top)\n",
    "E_top = grAu_top.get_potential_energy()  # Esta función nos da la energía total del sistema en eV\n",
    "t1=time.time()\n",
    "print 'Tiempo transcurrido: %9.3f segundos'%(t1-t0)\n",
    "print 'La energia total en la configuración \"top\" óptima :', E_top\n",
    "\n",
    "\n"
   ]
  },
  {
   "cell_type": "markdown",
   "metadata": {},
   "source": [
    "\n",
    "<h1 id='Adsorción-de-1-átomo-de-Au-sobre-grafeno:-sitio-\"bridge\"'>\n",
    "                Adsorción de 1 átomo de Au sobre grafeno: sitio\n",
    "                \"bridge\"<a class=\"anchor-link\" href='#Adsorción-de-1-átomo-de-Au-sobre-grafeno:-sitio-\"bridge\"'>Â¶</a>\n",
    "</h1>\n",
    "<p>\n",
    "<img src=\"Images/graphene_bridge.png\" width=\"500\"/>\n",
    "<strong>Figura</strong>. Sitio \"bridge\" de adsorción para 1\n",
    "                átomo de oro (Au$_{1}$) en la superficie (3$\\times$3) de\n",
    "                grafeno.\n",
    "              </p>\n"
   ]
  },
  {
   "cell_type": "code",
   "execution_count": null,
   "metadata": {},
   "outputs": [],
   "source": [
    "\n",
    "\n",
    "bridge_pos = gr33.positions[4,:] + (gr33.positions[13,:]-gr33.positions[4,:])/2. + np.array([[0,0,3.0]])\n",
    "print bridge_pos\n",
    "\n",
    "\n"
   ]
  },
  {
   "cell_type": "markdown",
   "metadata": {},
   "source": [
    "\n",
    "<h3 id=\"Distancia-óptima-top-bridge:-desplazamiento-en-d\">\n",
    "                Distancia óptima top bridge: desplazamiento en d<a class=\"anchor-link\" href=\"#Distancia-óptima-top-bridge:-desplazamiento-en-d\">Â¶</a>\n",
    "</h3>\n",
    "<p>\n",
    "<img src=\"Images/d_bridge.png\" width=\"400\"/>\n",
    "<strong>Figura </strong>. Optimización manual de la distancia\n",
    "                para 1 átomo de oro (Au$_{1}$) en la superficie (3$\\times$3) de\n",
    "                grafeno (sitio \"bridge\").\n",
    "              </p>\n"
   ]
  },
  {
   "cell_type": "code",
   "execution_count": null,
   "metadata": {},
   "outputs": [],
   "source": [
    "\n",
    "\n",
    "t0=time.time()\n",
    "\n",
    "bridge_pos = gr33.positions[4,:] + (gr33.positions[13,:]-gr33.positions[4,:])/2. + np.array([[0,0,XXXX]])\n",
    "\n",
    "Au_bridge = Atoms('Au', bridge_pos)\n",
    "grAu_bridge = gr33+Au_bridge\n",
    "scf2_bridge=PWSCF(label='grAu_bridge',pseudos=[['C',12.01,'C.upf'],['Au',196.9665,'Au.upf']], kpts=(3,3,1))\n",
    "grAu_bridge.set_calculator(scf2_bridge)\n",
    "E_bridge = grAu_bridge.get_potential_energy()\n",
    "\n",
    "    \n",
    "t1= time.time()\n",
    "print E_bridge\n",
    "print 'Tiempo transcurrido: %9.3f segundos'%(t1-t0)\n",
    "\n",
    "\n"
   ]
  },
  {
   "cell_type": "markdown",
   "metadata": {},
   "source": [
    "\n",
    "<h3 id='Energia-total-sitio-\"bridge\"-optimizado'>\n",
    "                Energia total sitio \"bridge\" optimizado<a class=\"anchor-link\" href='#Energia-total-sitio-\"bridge\"-optimizado'>Â¶</a>\n",
    "</h3>\n"
   ]
  },
  {
   "cell_type": "code",
   "execution_count": null,
   "metadata": {},
   "outputs": [],
   "source": [
    "\n",
    "\n",
    "bridge_pos = gr33.positions[4,:] + (gr33.positions[13,:]-gr33.positions[4,:])/2. + np.array([[0,0,XXXX]])\n",
    "Au_bridge =Atoms('Au', bridge_pos)\n",
    "grAu_bridge = gr33.copy()+Au_bridge\n",
    "scf_GrAu_bridge=PWSCF(label='grAu_bridge',pseudos=[['C',12.01,'C.upf'],['Au',196.9665,'Au.upf']], kpts=(3,3,1))\n",
    "scf_GrAu_bridge.control_dic.update({'calculation':'scf'})\n",
    "t0=time.time()\n",
    "grAu_bridge.set_calculator(scf_GrAu_bridge)\n",
    "E_bridge = grAu_bridge.get_potential_energy()  # Esta función nos da la energía total del sistema en eV\n",
    "t1=time.time()\n",
    "print 'Tiempo transcurrido: %9.3f segundos'%(t1-t0)\n",
    "print 'La energia total en la configuración \"bridge\" óptima :', E_bridge\n",
    "\n",
    "\n"
   ]
  },
  {
   "cell_type": "markdown",
   "metadata": {},
   "source": [
    "\n",
    "<h1 id='Adsorción-de-1-átomo-de-Au-sobre-grafeno:-sitio-\"hollow\"'>\n",
    "                Adsorción de 1 átomo de Au sobre grafeno: sitio\n",
    "                \"hollow\"<a class=\"anchor-link\" href='#Adsorción-de-1-átomo-de-Au-sobre-grafeno:-sitio-\"hollow\"'>Â¶</a>\n",
    "</h1>\n",
    "<p>\n",
    "<img src=\"Images/graphene_hollow.png\" width=\"500\"/>\n",
    "<strong>Figura</strong>. Sitio \"hollow\" de adsorción para 1\n",
    "                átomo de oro (Au$_{1}$) en la superficie (3$\\times$3) de\n",
    "                grafeno.\n",
    "              </p>\n"
   ]
  },
  {
   "cell_type": "code",
   "execution_count": null,
   "metadata": {},
   "outputs": [],
   "source": [
    "\n",
    "\n",
    "hollow_pos = gr33.positions[12,:]+(gr33.positions[8,:]-gr33.positions[12,:])/2 + np.array([[0,0,3.0]])\n",
    "print hollow_pos\n",
    "\n",
    "\n"
   ]
  },
  {
   "cell_type": "markdown",
   "metadata": {},
   "source": [
    "\n",
    "<h3 id=\"Distancia-óptima-top-hollow:-desplazamiento-en-d\">\n",
    "                Distancia óptima top hollow: desplazamiento en d<a class=\"anchor-link\" href=\"#Distancia-óptima-top-hollow:-desplazamiento-en-d\">Â¶</a>\n",
    "</h3>\n",
    "<p>\n",
    "<img src=\"Images/d_hollow.png\" width=\"400\"/>\n",
    "<strong>Figura </strong>. Optimización manual de la distancia\n",
    "                para 1 átomo de oro (Au$_{1}$) en la superficie (3$\\times$3) de\n",
    "                grafeno (sitio \"hollow\").\n",
    "              </p>\n"
   ]
  },
  {
   "cell_type": "code",
   "execution_count": null,
   "metadata": {},
   "outputs": [],
   "source": [
    "\n",
    "\n",
    "t0=time.time()\n",
    "\n",
    "hollow_pos = gr33.positions[12,:]+(gr33.positions[8,:]-gr33.positions[12,:])/2 + np.array([[0,0,XXXX]])\n",
    "\n",
    "Au_hollow = Atoms('Au', hollow_pos)\n",
    "grAu_hollow = gr33+Au_hollow\n",
    "scf2_hollow=PWSCF(label='grAu_hollow',pseudos=[['C',12.01,'C.upf'],['Au',196.9665,'Au.upf']], kpts=(3,3,1))\n",
    "grAu_hollow.set_calculator(scf2_hollow)\n",
    "E_hollow = grAu_hollow.get_potential_energy()\n",
    "\n",
    "   \n",
    "t1= time.time()\n",
    "print 'Tiempo transcurrido: %9.3f segundos'%(t1-t0)\n",
    "print E_hollow\n",
    "\n",
    "\n"
   ]
  },
  {
   "cell_type": "markdown",
   "metadata": {},
   "source": [
    "\n",
    "<h3 id='Energia-total-sitio-\"hollow\"-optimizado'>\n",
    "                Energia total sitio \"hollow\" optimizado<a class=\"anchor-link\" href='#Energia-total-sitio-\"hollow\"-optimizado'>Â¶</a>\n",
    "</h3>\n"
   ]
  },
  {
   "cell_type": "code",
   "execution_count": null,
   "metadata": {},
   "outputs": [],
   "source": [
    "\n",
    "\n",
    "hollow_pos = gr33.positions[12,:]+(gr33.positions[8,:]-gr33.positions[12,:])/2 + np.array([[0,0,XXXX]])\n",
    "Au_hollow =Atoms('Au', hollow_pos)\n",
    "grAu_hollow = gr33+Au_hollow\n",
    "scf_GrAu_hollow=PWSCF(label='grAu_hollow',pseudos=[['C',12.01,'C.upf'],['Au',196.9665,'Au.upf']], kpts=(3,3,1))\n",
    "scf_GrAu_hollow.control_dic.update({'calculation':'scf'})\n",
    "t0=time.time()\n",
    "grAu_hollow.set_calculator(scf_GrAu_hollow)\n",
    "E_hollow = grAu_hollow.get_potential_energy()  # Esta función nos da la energía total del sistema en eV\n",
    "t1=time.time()\n",
    "print 'Tiempo transcurrido: %9.3f segundos'%(t1-t0)\n",
    "print 'La energia total en la configuración \"hollow\" óptima :', E_hollow\n",
    "\n",
    "\n"
   ]
  },
  {
   "cell_type": "markdown",
   "metadata": {},
   "source": [
    "\n",
    "<h3 id=\"Cálculo-de-las-energías-de-adsorción-(E$_{ads}$)-para-el--átomo-de-Au-sobre-grafeno\">\n",
    "                Cálculo de las energías de adsorción (E$_{ads}$)\n",
    "                para el átomo de Au sobre grafeno<a class=\"anchor-link\" href=\"#Cálculo-de-las-energías-de-adsorción-(E$_{ads}$)-para-el--átomo-de-Au-sobre-grafeno\">Â¶</a>\n",
    "</h3>\n"
   ]
  },
  {
   "cell_type": "code",
   "execution_count": null,
   "metadata": {},
   "outputs": [],
   "source": [
    "\n",
    "\n",
    "E_gold_atom= -4019.83494594\n",
    "E_form_top = E_top - 18*E_gr/2. - E_gold_atom\n",
    "E_form_bridge = E_bridge - 18*E_gr/2. - E_gold_atom\n",
    "E_form_hollow = E_hollow - 18*E_gr/2. - E_gold_atom\n",
    "print E_top, E_bridge, E_hollow\n",
    "print E_form_top, E_form_bridge, E_form_hollow\n",
    "\n",
    "\n"
   ]
  },
  {
   "cell_type": "markdown",
   "metadata": {},
   "source": [
    "\n",
    "<h2 id=\"Caracterización-de-la-superficie-de-potencial\">\n",
    "                Caracterización de la superficie de potencial<a class=\"anchor-link\" href=\"#Caracterización-de-la-superficie-de-potencial\">Â¶</a>\n",
    "</h2>\n"
   ]
  },
  {
   "cell_type": "code",
   "execution_count": null,
   "metadata": {},
   "outputs": [],
   "source": [
    "\n",
    "\n",
    "# Path_1 \n",
    "\n",
    "path = np.zeros((30,3))\n",
    "\n",
    "step = (hollow_pos - top_pos)/10.\n",
    "for istep in range(10):\n",
    "    Au_pos = top_pos + istep*step\n",
    "    path[istep,:]= Au_pos\n",
    "\n",
    "# Path 2 \n",
    "\n",
    "step = (bridge_pos - hollow_pos)/10.\n",
    "for istep in range(10):\n",
    "    Au_pos = hollow_pos + istep*step\n",
    "    path[istep+10,:]= Au_pos\n",
    "\n",
    "\n",
    "# Path 3\n",
    "\n",
    "step = (top_pos - bridge_pos)/10.\n",
    "for istep in range(10):\n",
    "    Au_pos = bridge_pos + istep*step\n",
    "    path[istep+20,:]= Au_pos\n",
    "\n",
    "\n",
    "\n",
    "print np.shape(path)\n",
    "\n",
    "\n"
   ]
  },
  {
   "cell_type": "code",
   "execution_count": null,
   "metadata": {},
   "outputs": [],
   "source": [
    "\n",
    "\n",
    "plt.scatter(path[:,0],path[:,1],c='r')\n",
    "plt.scatter(gr33.positions[:,0],gr33.positions[:,1])\n",
    "\n",
    "plt.axis('equal')\n",
    "plt.show()\n",
    "\n",
    "\n"
   ]
  },
  {
   "cell_type": "code",
   "execution_count": null,
   "metadata": {},
   "outputs": [],
   "source": [
    "\n",
    "\n",
    "t0=time.time()\n",
    "\n",
    "E_path=[]\n",
    "\n",
    "for i in range(XX,XX):\n",
    "    pos = path[i,:]\n",
    "    Au_pos = Atoms('Au', [pos])\n",
    "    grAu = gr33+Au_pos\n",
    "    scfpath=PWSCF(label='grAu_path',pseudos=[['C',12.01,'C.upf'],['Au',196.9665,'Au.upf']], kpts=(3,3,1))\n",
    "    grAu.set_calculator(scfpath)\n",
    "    E = grAu.get_potential_energy()\n",
    "    E_path.append(E)\n",
    "    print i, E\n",
    "    \n",
    "t1= time.time()\n",
    "print 'Tiempo transcurrido: %9.3f segundos'%(t1-t0)\n",
    "\n",
    "\n"
   ]
  },
  {
   "cell_type": "markdown",
   "metadata": {},
   "source": [
    "\n",
    "<h3 id=\"Analisis-de-la-estructura-electrónica-para-el--átomo-de-Au-sobre-grafeno:-densidad-de-estados-(DOS)\">\n",
    "                Analisis de la estructura electrónica para el átomo de\n",
    "                Au sobre grafeno: densidad de estados (DOS)<a class=\"anchor-link\" href=\"#Analisis-de-la-estructura-electrónica-para-el--átomo-de-Au-sobre-grafeno:-densidad-de-estados-(DOS)\">Â¶</a>\n",
    "</h3>\n",
    "<p>\n",
    "                Estados localizados debido al átomo de Au en la densidad de\n",
    "                estados\n",
    "              </p>\n"
   ]
  },
  {
   "cell_type": "code",
   "execution_count": null,
   "metadata": {},
   "outputs": [],
   "source": [
    "\n",
    "\n",
    "# densidad de estados\n",
    "t0=time.time()\n",
    "dos_GrAu_top = scf_GrAu_top.get_dos(np.array([9,9,1]), emin=-5.0, emax=5.0,degauss=0.01,deltaE=0.01)\n",
    "t1=time.time()\n",
    "print 'Tiempo transcurrido: %9.3f segundos'%(t1-t0)\n",
    "\n",
    "\n"
   ]
  },
  {
   "cell_type": "code",
   "execution_count": null,
   "metadata": {},
   "outputs": [],
   "source": [
    "\n",
    "\n",
    "plt.figure(figsize=(10,10))\n",
    "plt.plot(dos_GrAu_top[:,0],dos_GrAu_top[:,1],'k')\n",
    "plt.plot(dos[:,0],9*dos[:,1],'b--')\n",
    "plt.xlabel(u'Energía  (eV)',fontsize=15)\n",
    "plt.ylabel(u'Densidad de estados',fontsize=15)\n",
    "\n",
    "plt.show()\n",
    "\n",
    "\n"
   ]
  },
  {
   "cell_type": "markdown",
   "metadata": {},
   "source": [
    "\n",
    "<h3 id=\"Cálculo-convergido\">\n",
    "                Cálculo convergido<a class=\"anchor-link\" href=\"#Cálculo-convergido\">Â¶</a>\n",
    "</h3>\n",
    "<p><img src=\"Images/gr_Au_top.png\" width=\"500\"/></p>\n"
   ]
  },
  {
   "cell_type": "markdown",
   "metadata": {},
   "source": [
    "\n",
    "<h2 id=\"Efectos-van-der-Waals\">\n",
    "                Efectos van der Waals<a class=\"anchor-link\" href=\"#Efectos-van-der-Waals\">Â¶</a>\n",
    "</h2>\n",
    "<p>\n",
    "                Finalmente, queremos agregar que la interaccion de átomos\n",
    "                metálicos (Au, Ag, Cu, etc..) es un ejemplo de donde tenemos que\n",
    "                poner atencion a las interacciones van der Waals que se dan\n",
    "                entre la superficie de grafeno y estos átomos.\n",
    "              </p>\n",
    "<p>\n",
    "                Por ejemplo, hay varios reportes en la literatura donde\n",
    "                mencionan su relevancia:\n",
    "              </p>\n",
    "<p><img src=\"Images/vdwgraphene.png\" width=\"700\"/></p>\n",
    "<p>\n",
    "                donde hacen uso de diversas aproximaciones al funcional de\n",
    "                correlacion-intercambio que incluye este tipo de efectos:\n",
    "              </p>\n",
    "<p>\n",
    "                Del trabajo mencionado anteriormente, en su Tabla 6 calculan que\n",
    "                la diferencia de energias de adsorción entre sitios \"top\",\n",
    "                \"bridge\" y \"hollow\" es minima:\n",
    "              </p>\n",
    "<p><img src=\"Images/table.png\" width=\"500\"/></p>\n"
   ]
  },
  {
   "cell_type": "markdown",
   "metadata": {},
   "source": [
    "\n",
    "<h1 id=\"Simulación-de-imágenes-de-microscopia-de-efecto-túnel\">\n",
    "                Simulación de imágenes de microscopia de efecto\n",
    "                túnel<a class=\"anchor-link\" href=\"#Simulación-de-imágenes-de-microscopia-de-efecto-túnel\">Â¶</a>\n",
    "</h1>\n",
    "<p>\n",
    "                La\n",
    "                <a href=\"https://es.wikipedia.org/wiki/Microscopio_de_efecto_t%C3%BAnel\">microscopía de efecto túnel</a>\n",
    "                (STM por sus siglas en inglés: Scanning Tunneling Microscopy) es\n",
    "                una herramienta de caracterización muy importante para sistemas\n",
    "                mesoscópicso. En breve, la técnica consiste en medir la\n",
    "                corriente de tunelaje entre la muestra y una punta conductora.\n",
    "              </p>\n",
    "<p><img src=\"Images/stm.png\" width=\"500\"/></p>\n",
    "<p>\n",
    "<strong>Figura</strong>. Esquema del microscopio de efecto túnel\n",
    "              </p>\n",
    "<p>\n",
    "                La microscopía de efecto túnel tiene dos modos de operación\n",
    "                básicos:\n",
    "              </p>\n",
    "<p>\n",
    "                1) Altura constante. En este caso, se mide la corriente de\n",
    "                tunelaje entre la muestra y la punta a una diferencia de\n",
    "                potencial (bias voltage) y alturas constantes.\n",
    "              </p>\n",
    "<p>\n",
    "                2) Corriente constante. En este caso, dada una diferencia de\n",
    "                potencial y un valor de corriente, la punta se mueve\n",
    "                verticalmente hasta obtener el valor de corriente de tunelaje\n",
    "                deseado mediante un circuito de retroalimentación\n",
    "              </p>\n",
    "<p>\n",
    "                En ambos casos, el barrido de la punta sobre un área determinada\n",
    "                de la muestra nos genera una imagen. La imagen generada,\n",
    "                <em>no se puede interpretar como la topografía de la muestra</em>. En cambio, la cantidad de corriente de tunelaje depende de la\n",
    "                densidad de electrones disponibles a cierto valor de potencial y\n",
    "                del traslape entre las funciones de onda de la muestra y de la\n",
    "                punta. Para simplificar el segundo punto, se suelen utilizar\n",
    "                puntas cuyos electrones cerca del nivel de Fermi tengan simetría\n",
    "                $s$.\n",
    "              </p>\n",
    "<h3 id=\"Método-Tersoff-Hamman\">\n",
    "                Método Tersoff-Hamman<a class=\"anchor-link\" href=\"#Método-Tersoff-Hamman\">Â¶</a>\n",
    "</h3>\n",
    "<p>\n",
    "                Debido a la complejidad de las imágenes de STM, muchas veces se\n",
    "                recurre a la simulación para su interpretación. El método más\n",
    "                sencillo para hacer esta tarea es el desarrollado por Tersoff y\n",
    "                Hamman.\n",
    "              </p>\n",
    "<p>\n",
    "                En breve, se asume que la punta metálica se puede sustituir por\n",
    "                una partícula puntual. El problema, entonces se reduce a:\n",
    "              </p>\n",
    "              \\begin{equation} dI/dV \\propto \\rho(\\mathbf{r},E_F +eV),\n",
    "              \\end{equation}\n",
    "              <p>\n",
    "                donde $\\rho$ es la densidad local de estados en la posición\n",
    "                $\\mathbf{r}$ y con la energía $E_F+eV$, con V la diferencia de\n",
    "                potencial. Entonces la corriente de tunelaje sería la integral\n",
    "                de $dI/dV$ de $-\\infty$ a $E_F+eV$.\n",
    "              </p>\n",
    "<p>La teoria detras de la simulación:</p>\n",
    "<p>\n",
    "<img src=\"Images/TH.png\" width=\"800\"/>\n",
    "<strong>Figura 2</strong>. Diferentes sitios de adsorción para 1\n",
    "                átomo de oro (Au$_{1}$) en la superficie (3$\\times$3) de\n",
    "                grafeno.\n",
    "              </p>\n",
    "<p>Empezamos con el grafeno pristino</p>\n"
   ]
  },
  {
   "cell_type": "code",
   "execution_count": null,
   "metadata": {},
   "outputs": [],
   "source": [
    "\n",
    "\n",
    "# Definimos un objeto \"Atoms\" con la celda del grafeno:\n",
    "a0=2.46747\n",
    "celda_gr = np.array([[a0,0,0],\n",
    "                     [-a0/2., a0*sqrt(3)/2.,0],\n",
    "                     [0,0,15.0]])\n",
    "base = np.array([[0,0,0],\n",
    "                 [1/3.,2/3.,0]])\n",
    "grafeno = Atoms('C2', scaled_positions=base,cell=celda_gr)\n",
    "\n",
    "\n"
   ]
  },
  {
   "cell_type": "code",
   "execution_count": null,
   "metadata": {},
   "outputs": [],
   "source": [
    "\n",
    "\n",
    "t0=time.time()\n",
    "scf=PWSCF(label='grafeno',pseudos=[['C',12.01,'C.upf']], kpts=(9,9,1))\n",
    "\n",
    "grafeno.set_calculator(scf)\n",
    "E_gr = grafeno.get_potential_energy()  # Esta función nos da la energía total del sistema en eV\n",
    "t1=time.time()\n",
    "print 'Tiempo transcurrido: %9.3f segundos'%(t1-t0)\n",
    "\n",
    "\n"
   ]
  },
  {
   "cell_type": "markdown",
   "metadata": {},
   "source": [
    "\n",
    "<p>\n",
    "                Para calcular la imagen STM llamamos la instancia del calculador\n",
    "              </p>\n",
    "<pre> get_stm </pre>\n",
    "<p>\n",
    "                Esta función <em>requiere</em> un valor de diferencia de\n",
    "                potencial y acepta opcionalmente un valor de altura <em>z</em>,\n",
    "                las dimensiones de la imagen en términos del parámetro de red\n",
    "                (<em>imx</em>, <em>imy</em>) y el número de puntos en las dos\n",
    "                direcciones (<em>nx</em>, <em>ny</em>)\n",
    "              </p>\n"
   ]
  },
  {
   "cell_type": "code",
   "execution_count": null,
   "metadata": {},
   "outputs": [],
   "source": [
    "\n",
    "\n",
    "X,Y,Z =scf.get_stm(1.1,z=2,imx=2,imy=2)\n",
    "\n",
    "\n"
   ]
  },
  {
   "cell_type": "code",
   "execution_count": null,
   "metadata": {},
   "outputs": [],
   "source": [
    "\n",
    "\n",
    "plt.figure(figsize=(10,10))\n",
    "cmap = plt.cm.get_cmap(\"hot\")\n",
    "plt.contourf(X,Y,Z,10,cmap=cmap)\n",
    "plt.axis('equal')\n",
    "plt.show()\n",
    "\n",
    "\n"
   ]
  },
  {
   "cell_type": "markdown",
   "metadata": {},
   "source": [
    "\n",
    "<h2 id=\"2.2-Vacancia-en-grafeno\">\n",
    "                2.2 Vacancia en grafeno<a class=\"anchor-link\" href=\"#2.2-Vacancia-en-grafeno\">Â¶</a>\n",
    "</h2>\n",
    "<p>\n",
    "                Para ilustrar lo difícil que puede ser interpretar una imagen de\n",
    "                STM, estudiaremos el caso de una vacancia en grafeno\n",
    "              </p>\n",
    "<p>\n",
    "<strong>Nota 1 </strong>: En realidad, al tener condiciones\n",
    "                periódicas, lo que estudiaremos ahora es un\n",
    "                <em>arreglo de vacancias</em>.\n",
    "              </p>\n",
    "<p>\n",
    "<strong>TIP</strong> Esta sección tarda un poco en correr, así\n",
    "                que te recomendamos que ejecutes el resto de las celdas y luego\n",
    "                regreses a interpretar los resultados\n",
    "              </p>\n",
    "<p>\n",
    "                Para construir el sistema con una vacancia empezamos como\n",
    "                anteriormente, generando una supercelda:\n",
    "              </p>\n"
   ]
  },
  {
   "cell_type": "code",
   "execution_count": null,
   "metadata": {},
   "outputs": [],
   "source": [
    "\n",
    "\n",
    "gr33= super_cell(grafeno,[3,3,1])\n",
    "new_cell = gr33.cell\n",
    "new_pos = gr33.positions\n",
    "\n",
    "\n"
   ]
  },
  {
   "cell_type": "markdown",
   "metadata": {},
   "source": [
    "\n",
    "<p>Ahora generamos una vacancia borrando un átomo:</p>\n",
    "<p>\n",
    "<img src=\"Images/vacancia_sketch.png\" width=\"800\"/>\n",
    "<strong>Figura X</strong>. Diferentes sitios de adsorción para 1\n",
    "                átomo de oro (Au$_{1}$) en la superficie (3$\\times$3) de\n",
    "                grafeno.\n",
    "              </p>\n"
   ]
  },
  {
   "cell_type": "code",
   "execution_count": null,
   "metadata": {},
   "outputs": [],
   "source": [
    "\n",
    "\n",
    "new_pos = np.delete(new_pos,4,0)\n",
    "print np.shape(new_pos)\n",
    "\n",
    "\n"
   ]
  },
  {
   "cell_type": "markdown",
   "metadata": {},
   "source": [
    "\n",
    "<p>Generamos la nueva estructura;</p>\n"
   ]
  },
  {
   "cell_type": "code",
   "execution_count": null,
   "metadata": {},
   "outputs": [],
   "source": [
    "\n",
    "\n",
    "gr33_vac = Atoms ('C17', positions=new_pos ,cell=new_cell)\n",
    "\n",
    "\n"
   ]
  },
  {
   "cell_type": "markdown",
   "metadata": {},
   "source": [
    "\n",
    "<p>Veamos cómo se ve:</p>\n"
   ]
  },
  {
   "cell_type": "code",
   "execution_count": null,
   "metadata": {},
   "outputs": [],
   "source": [
    "\n",
    "\n",
    "plt.scatter(gr33_vac.positions[:,0],gr33_vac.positions[:,1])\n",
    "plt.axis('equal')\n",
    "plt.show()\n",
    "\n",
    "\n"
   ]
  },
  {
   "cell_type": "markdown",
   "metadata": {},
   "source": [
    "\n",
    "<h3 id=\"Densidad-de-estados-de-una-vacancia\">\n",
    "                Densidad de estados de una vacancia<a class=\"anchor-link\" href=\"#Densidad-de-estados-de-una-vacancia\">Â¶</a>\n",
    "</h3>\n",
    "<p>\n",
    "                En la aproximación Tersoff-Haman, la corriente depende de la\n",
    "                densidad local de estados $\\rho$. Como vimos anteriormente en el\n",
    "                caso del oro sobre grafeno, el efecto de las imperfecciones en\n",
    "                la densidad de estados se manifiesta en un importante incremento\n",
    "                de estados disponibles en una región de energía. Veamos, antes\n",
    "                de simular la imagen de STM cómo se el efecto de las vacancias\n",
    "                en la DOS del grafeno\n",
    "              </p>\n"
   ]
  },
  {
   "cell_type": "code",
   "execution_count": null,
   "metadata": {},
   "outputs": [],
   "source": [
    "\n",
    "\n",
    "scf_vac33=PWSCF(label='grvac33',pseudos=[['C',12.01,'C.upf']], kpts=(3,3,1))\n",
    "\n",
    "\n"
   ]
  },
  {
   "cell_type": "code",
   "execution_count": null,
   "metadata": {},
   "outputs": [],
   "source": [
    "\n",
    "\n",
    "gr33_vac.set_calculator(scf_vac33)\n",
    "E_vac33 = gr33_vac.get_potential_energy() \n",
    "\n",
    "\n"
   ]
  },
  {
   "cell_type": "code",
   "execution_count": null,
   "metadata": {},
   "outputs": [],
   "source": [
    "\n",
    "\n",
    "dos_gr33vac = scf_vac33.get_dos(np.array([9,9,1]), emin=-5.0, emax=5.0,degauss=0.01,deltaE=0.01)\n",
    "\n",
    "\n"
   ]
  },
  {
   "cell_type": "code",
   "execution_count": null,
   "metadata": {},
   "outputs": [],
   "source": [
    "\n",
    "\n",
    "plt.figure(figsize=(10,10))\n",
    "plt.plot(dos_gr33vac[:,0],dos_gr33vac[:,1],'k')\n",
    "plt.plot(dos[:,0],9*dos[:,1],'b--')\n",
    "plt.xlabel(u'Energía  (eV)',fontsize=15)\n",
    "plt.ylabel(u'Densidad de estados',fontsize=15)\n",
    "\n",
    "plt.show()\n",
    "\n",
    "\n"
   ]
  },
  {
   "cell_type": "markdown",
   "metadata": {},
   "source": [
    "\n",
    "<p>\n",
    "                Lo que podemos ver es que alrededor del nivel de Fermi, donde\n",
    "                antes teníamos un mínimo en la densidad de estados, ahora\n",
    "                tenemos dos picos. Éstos corresponden a estados localizados\n",
    "                relacionados con la vacancia.\n",
    "              </p>\n",
    "<h3 id=\"Cálculo-convergido\">\n",
    "                Cálculo convergido<a class=\"anchor-link\" href=\"#Cálculo-convergido\">Â¶</a>\n",
    "</h3>\n",
    "<p><img src=\"Images/Dos_vac99.png\" width=\"500\"/></p>\n",
    "<h3 id=\"Ejercicio\">\n",
    "                Ejercicio<a class=\"anchor-link\" href=\"#Ejercicio\">Â¶</a>\n",
    "</h3>\n",
    "<ul>\n",
    "<li>\n",
    "                  Explora cómo se cambia la imagen STM antes de estos estados,\n",
    "                  en estos estados y a energías más altas.\n",
    "                </li>\n",
    "<li>¿Cómo puedes explicar el cambio en las imágenes?</li>\n",
    "</ul>\n"
   ]
  },
  {
   "cell_type": "code",
   "execution_count": null,
   "metadata": {},
   "outputs": [],
   "source": [
    "\n",
    "\n",
    "X,Y,Z = scf_vac33.get_stm(1.0,z=1.5,imx=2,imy=2)\n",
    "\n",
    "\n"
   ]
  },
  {
   "cell_type": "code",
   "execution_count": null,
   "metadata": {},
   "outputs": [],
   "source": [
    "\n",
    "\n",
    "plt.figure(figsize=(12,12))\n",
    "cmap = plt.cm.get_cmap(\"hot\")\n",
    "plt.contourf(X,Y,Z,10,cmap=cmap)\n",
    "plt.axis('equal')\n",
    "plt.colorbar()\n",
    "plt.scatter(gr33_vac.positions[:,0],gr33_vac.positions[:,1],s=80,c='green')\n",
    "\n",
    "plt.show()\n",
    "\n",
    "\n"
   ]
  },
  {
   "cell_type": "code",
   "execution_count": null,
   "metadata": {},
   "outputs": [],
   "source": [
    "\n",
    "\n",
    "t11=time.time()\n",
    "print 'Tiempo transcurrido: %9.3f segundos'%(t11-t00)\n",
    "\n",
    "\n"
   ]
  }
 ],
 "metadata": {
  "kernelspec": {
   "display_name": "Python 3",
   "language": "python",
   "name": "python3"
  },
  "language_info": {
   "codemirror_mode": {
    "name": "ipython",
    "version": 3
   },
   "file_extension": ".py",
   "mimetype": "text/x-python",
   "name": "python",
   "nbconvert_exporter": "python",
   "pygments_lexer": "ipython3",
   "version": "3.8.5"
  },
  "latex_envs": {
   "LaTeX_envs_menu_present": true,
   "autoclose": false,
   "autocomplete": true,
   "bibliofile": "biblio.bib",
   "cite_by": "apalike",
   "current_citInitial": 1,
   "eqLabelWithNumbers": true,
   "eqNumInitial": 1,
   "hotkeys": {
    "equation": "Ctrl-E",
    "itemize": "Ctrl-I"
   },
   "labels_anchors": false,
   "latex_user_defs": false,
   "report_style_numbering": false,
   "user_envs_cfg": false
  }
 },
 "nbformat": 4,
 "nbformat_minor": 1
}
